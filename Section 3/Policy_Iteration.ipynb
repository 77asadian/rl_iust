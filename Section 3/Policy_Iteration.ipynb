{
  "nbformat": 4,
  "nbformat_minor": 0,
  "metadata": {
    "colab": {
      "provenance": []
    },
    "kernelspec": {
      "name": "python3",
      "display_name": "Python 3"
    },
    "language_info": {
      "name": "python"
    }
  },
  "cells": [
    {
      "cell_type": "markdown",
      "source": [
        "# **Initialization**"
      ],
      "metadata": {
        "id": "pRZdf_mB_maM"
      }
    },
    {
      "cell_type": "code",
      "execution_count": null,
      "metadata": {
        "id": "2WjYQFEt_ZRC",
        "colab": {
          "base_uri": "https://localhost:8080/"
        },
        "outputId": "823316ff-eda8-439c-f948-b5e5cbe5f6a1"
      },
      "outputs": [
        {
          "output_type": "stream",
          "name": "stdout",
          "text": [
            "\u001b[2K     \u001b[90m━━━━━━━━━━━━━━━━━━━━━━━━━━━━━━━━━━━━━━━━\u001b[0m \u001b[32m624.4/624.4 kB\u001b[0m \u001b[31m3.9 MB/s\u001b[0m eta \u001b[36m0:00:00\u001b[0m\n",
            "\u001b[?25h  Installing build dependencies ... \u001b[?25l\u001b[?25hdone\n",
            "  Getting requirements to build wheel ... \u001b[?25l\u001b[?25hdone\n",
            "  Preparing metadata (pyproject.toml) ... \u001b[?25l\u001b[?25hdone\n",
            "  Building wheel for gym (pyproject.toml) ... \u001b[?25l\u001b[?25hdone\n"
          ]
        }
      ],
      "source": [
        "!pip install -qq gym==0.23.0\n",
        "\n",
        "\n",
        "from typing import Tuple, Dict, Optional, Iterable, Callable\n",
        "\n",
        "import numpy as np\n",
        "import seaborn as sns\n",
        "import matplotlib\n",
        "from matplotlib import animation\n",
        "\n",
        "from IPython.display import HTML\n",
        "\n",
        "import gym\n",
        "from gym import spaces\n",
        "from gym.error import DependencyNotInstalled\n",
        "\n",
        "import pygame\n",
        "from pygame import gfxdraw\n",
        "\n",
        "\n",
        "class Maze(gym.Env):\n",
        "\n",
        "    def __init__(self, exploring_starts: bool = False,\n",
        "                 shaped_rewards: bool = False, size: int = 5) -> None:\n",
        "        super().__init__()\n",
        "        self.exploring_starts = exploring_starts\n",
        "        self.shaped_rewards = shaped_rewards\n",
        "        self.state = (size - 1, size - 1)\n",
        "        self.goal = (size - 1, size - 1)\n",
        "        self.maze = self._create_maze(size=size)\n",
        "        self.distances = self._compute_distances(self.goal, self.maze)\n",
        "        self.action_space = spaces.Discrete(n=4)\n",
        "        self.action_space.action_meanings = {0: 'UP', 1: 'RIGHT', 2: 'DOWN', 3: \"LEFT\"}\n",
        "        self.observation_space = spaces.MultiDiscrete([size, size])\n",
        "\n",
        "        self.screen = None\n",
        "        self.agent_transform = None\n",
        "\n",
        "    def step(self, action: int) -> Tuple[Tuple[int, int], float, bool, Dict]:\n",
        "        reward = self.compute_reward(self.state, action)\n",
        "        self.state = self._get_next_state(self.state, action)\n",
        "        done = self.state == self.goal\n",
        "        info = {}\n",
        "        return self.state, reward, done, info\n",
        "\n",
        "    def reset(self) -> Tuple[int, int]:\n",
        "        if self.exploring_starts:\n",
        "            while self.state == self.goal:\n",
        "                self.state = tuple(self.observation_space.sample())\n",
        "        else:\n",
        "            self.state = (0, 0)\n",
        "        return self.state\n",
        "\n",
        "    def render(self, mode: str = 'human') -> Optional[np.ndarray]:\n",
        "        assert mode in ['human', 'rgb_array']\n",
        "\n",
        "        screen_size = 600\n",
        "        scale = screen_size / 5\n",
        "\n",
        "        if self.screen is None:\n",
        "            pygame.init()\n",
        "            self.screen = pygame.Surface((screen_size, screen_size))\n",
        "\n",
        "        surf = pygame.Surface((screen_size, screen_size))\n",
        "        surf.fill((22, 36, 71))\n",
        "\n",
        "\n",
        "        for row in range(5):\n",
        "            for col in range(5):\n",
        "\n",
        "                state = (row, col)\n",
        "                for next_state in [(row + 1, col), (row - 1, col), (row, col + 1), (row, col - 1)]:\n",
        "                    if next_state not in self.maze[state]:\n",
        "\n",
        "                        # Add the geometry of the edges and walls (i.e. the boundaries between\n",
        "                        # adjacent squares that are not connected).\n",
        "                        row_diff, col_diff = np.subtract(next_state, state)\n",
        "                        left = (col + (col_diff > 0)) * scale - 2 * (col_diff != 0)\n",
        "                        right = ((col + 1) - (col_diff < 0)) * scale + 2 * (col_diff != 0)\n",
        "                        top = (5 - (row + (row_diff > 0))) * scale - 2 * (row_diff != 0)\n",
        "                        bottom = (5 - ((row + 1) - (row_diff < 0))) * scale + 2 * (row_diff != 0)\n",
        "\n",
        "                        gfxdraw.filled_polygon(surf, [(left, bottom), (left, top), (right, top), (right, bottom)], (255, 255, 255))\n",
        "\n",
        "        # Add the geometry of the goal square to the viewer.\n",
        "        left, right, top, bottom = scale * 4 + 10, scale * 5 - 10, scale - 10, 10\n",
        "        gfxdraw.filled_polygon(surf, [(left, bottom), (left, top), (right, top), (right, bottom)], (40, 199, 172))\n",
        "\n",
        "        # Add the geometry of the agent to the viewer.\n",
        "        agent_row = int(screen_size - scale * (self.state[0] + .5))\n",
        "        agent_col = int(scale * (self.state[1] + .5))\n",
        "        gfxdraw.filled_circle(surf, agent_col, agent_row, int(scale * .6 / 2), (228, 63, 90))\n",
        "\n",
        "        surf = pygame.transform.flip(surf, False, True)\n",
        "        self.screen.blit(surf, (0, 0))\n",
        "\n",
        "        return np.transpose(\n",
        "                np.array(pygame.surfarray.pixels3d(self.screen)), axes=(1, 0, 2)\n",
        "            )\n",
        "\n",
        "    def close(self) -> None:\n",
        "        if self.screen is not None:\n",
        "            pygame.display.quit()\n",
        "            pygame.quit()\n",
        "            self.screen = None\n",
        "\n",
        "    def compute_reward(self, state: Tuple[int, int], action: int) -> float:\n",
        "        next_state = self._get_next_state(state, action)\n",
        "        if self.shaped_rewards:\n",
        "            return - (self.distances[next_state] / self.distances.max())\n",
        "        return - float(state != self.goal)\n",
        "\n",
        "    def simulate_step(self, state: Tuple[int, int], action: int):\n",
        "        reward = self.compute_reward(state, action)\n",
        "        next_state = self._get_next_state(state, action)\n",
        "        done = next_state == self.goal\n",
        "        info = {}\n",
        "        return next_state, reward, done, info\n",
        "\n",
        "    def _get_next_state(self, state: Tuple[int, int], action: int) -> Tuple[int, int]:\n",
        "        if action == 0:\n",
        "            next_state = (state[0] - 1, state[1])\n",
        "        elif action == 1:\n",
        "            next_state = (state[0], state[1] + 1)\n",
        "        elif action == 2:\n",
        "            next_state = (state[0] + 1, state[1])\n",
        "        elif action == 3:\n",
        "            next_state = (state[0], state[1] - 1)\n",
        "        else:\n",
        "            raise ValueError(\"Action value not supported:\", action)\n",
        "        if next_state in self.maze[state]:\n",
        "            return next_state\n",
        "        return state\n",
        "\n",
        "    @staticmethod\n",
        "    def _create_maze(size: int) -> Dict[Tuple[int, int], Iterable[Tuple[int, int]]]:\n",
        "        maze = {(row, col): [(row - 1, col), (row + 1, col), (row, col - 1), (row, col + 1)]\n",
        "                for row in range(size) for col in range(size)}\n",
        "\n",
        "        left_edges = [[(row, 0), (row, -1)] for row in range(size)]\n",
        "        right_edges = [[(row, size - 1), (row, size)] for row in range(size)]\n",
        "        upper_edges = [[(0, col), (-1, col)] for col in range(size)]\n",
        "        lower_edges = [[(size - 1, col), (size, col)] for col in range(size)]\n",
        "        walls = [\n",
        "            [(1, 0), (1, 1)], [(2, 0), (2, 1)], [(3, 0), (3, 1)],\n",
        "            [(1, 1), (1, 2)], [(2, 1), (2, 2)], [(3, 1), (3, 2)],\n",
        "            [(3, 1), (4, 1)], [(0, 2), (1, 2)], [(1, 2), (1, 3)],\n",
        "            [(2, 2), (3, 2)], [(2, 3), (3, 3)], [(2, 4), (3, 4)],\n",
        "            [(4, 2), (4, 3)], [(1, 3), (1, 4)], [(2, 3), (2, 4)],\n",
        "        ]\n",
        "\n",
        "        obstacles = upper_edges + lower_edges + left_edges + right_edges + walls\n",
        "\n",
        "        for src, dst in obstacles:\n",
        "            maze[src].remove(dst)\n",
        "\n",
        "            if dst in maze:\n",
        "                maze[dst].remove(src)\n",
        "\n",
        "        return maze\n",
        "\n",
        "    @staticmethod\n",
        "    def _compute_distances(goal: Tuple[int, int],\n",
        "                           maze: Dict[Tuple[int, int], Iterable[Tuple[int, int]]]) -> np.ndarray:\n",
        "        distances = np.full((5, 5), np.inf)\n",
        "        visited = set()\n",
        "        distances[goal] = 0.\n",
        "\n",
        "        while visited != set(maze):\n",
        "            sorted_dst = [(v // 5, v % 5) for v in distances.argsort(axis=None)]\n",
        "            closest = next(x for x in sorted_dst if x not in visited)\n",
        "            visited.add(closest)\n",
        "\n",
        "            for neighbour in maze[closest]:\n",
        "                distances[neighbour] = min(distances[neighbour], distances[closest] + 1)\n",
        "        return distances\n",
        "\n",
        "\n",
        "def plot_policy(probs_or_qvals, frame, action_meanings=None):\n",
        "    if action_meanings is None:\n",
        "        action_meanings = {0: 'U', 1: 'R', 2: 'D', 3: 'L'}\n",
        "    fig, axes = plt.subplots(1, 2, figsize=(8, 4))\n",
        "    max_prob_actions = probs_or_qvals.argmax(axis=-1)\n",
        "    probs_copy = max_prob_actions.copy().astype(object)\n",
        "    for key in action_meanings:\n",
        "        probs_copy[probs_copy == key] = action_meanings[key]\n",
        "    sns.heatmap(max_prob_actions, annot=probs_copy, fmt='', cbar=False, cmap='coolwarm',\n",
        "                annot_kws={'weight': 'bold', 'size': 12}, linewidths=2, ax=axes[0])\n",
        "    axes[1].imshow(frame)\n",
        "    axes[0].axis('off')\n",
        "    axes[1].axis('off')\n",
        "    plt.suptitle(\"Policy\", size=18)\n",
        "    plt.tight_layout()\n",
        "\n",
        "\n",
        "def plot_values(state_values, frame):\n",
        "    f, axes = plt.subplots(1, 2, figsize=(10, 4))\n",
        "    sns.heatmap(state_values, annot=True, fmt=\".2f\", cmap='coolwarm',\n",
        "                annot_kws={'weight': 'bold', 'size': 12}, linewidths=2, ax=axes[0])\n",
        "    axes[1].imshow(frame)\n",
        "    axes[0].axis('off')\n",
        "    axes[1].axis('off')\n",
        "    plt.tight_layout()\n",
        "\n",
        "\n",
        "def display_video(frames):\n",
        "    # Copied from: https://colab.research.google.com/github/deepmind/dm_control/blob/master/tutorial.ipynb\n",
        "    orig_backend = matplotlib.get_backend()\n",
        "    matplotlib.use('Agg')\n",
        "    fig, ax = plt.subplots(1, 1, figsize=(5, 5))\n",
        "    matplotlib.use(orig_backend)\n",
        "    ax.set_axis_off()\n",
        "    ax.set_aspect('equal')\n",
        "    ax.set_position([0, 0, 1, 1])\n",
        "    im = ax.imshow(frames[0])\n",
        "    def update(frame):\n",
        "        im.set_data(frame)\n",
        "        return [im]\n",
        "    anim = animation.FuncAnimation(fig=fig, func=update, frames=frames,\n",
        "                                    interval=50, blit=True, repeat=False)\n",
        "    return HTML(anim.to_html5_video())\n",
        "\n",
        "\n",
        "def test_agent(environment, policy, episodes=10):\n",
        "    frames = []\n",
        "    for episode in range(episodes):\n",
        "        state = env.reset()\n",
        "        done = False\n",
        "        frames.append(env.render(mode=\"rgb_array\"))\n",
        "\n",
        "        while not done:\n",
        "            p = policy(state)\n",
        "            if isinstance(p, np.ndarray):\n",
        "                action = np.random.choice(4, p=p)\n",
        "            else:\n",
        "                action = p\n",
        "            next_state, reward, done, extra_info = env.step(action)\n",
        "            img = env.render(mode=\"rgb_array\")\n",
        "            frames.append(img)\n",
        "            state = next_state\n",
        "\n",
        "    return display_video(frames)\n",
        "\n"
      ]
    },
    {
      "cell_type": "markdown",
      "source": [
        "# **Import necessary libraries**"
      ],
      "metadata": {
        "id": "zT2v4urv_r92"
      }
    },
    {
      "cell_type": "code",
      "source": [
        "import numpy as np\n",
        "import matplotlib.pyplot as plt"
      ],
      "metadata": {
        "id": "uu96vYY9_gkN"
      },
      "execution_count": null,
      "outputs": []
    },
    {
      "cell_type": "markdown",
      "source": [
        "# **Create environment**"
      ],
      "metadata": {
        "id": "K43GCFvk_0Xp"
      }
    },
    {
      "cell_type": "code",
      "source": [
        "env = Maze()"
      ],
      "metadata": {
        "id": "ZrnFNtJL_zJF"
      },
      "execution_count": null,
      "outputs": []
    },
    {
      "cell_type": "code",
      "source": [
        "frame = env.render(mode='rgb_array')\n",
        "plt.axis('off')\n",
        "plt.imshow(frame)"
      ],
      "metadata": {
        "id": "4OzUw5QL_5gv",
        "colab": {
          "base_uri": "https://localhost:8080/",
          "height": 423
        },
        "outputId": "762372d9-13ed-46c4-e4e3-ab481e98d2a5"
      },
      "execution_count": null,
      "outputs": [
        {
          "output_type": "execute_result",
          "data": {
            "text/plain": [
              "<matplotlib.image.AxesImage at 0x7b704d1cb880>"
            ]
          },
          "metadata": {},
          "execution_count": 4
        },
        {
          "output_type": "display_data",
          "data": {
            "text/plain": [
              "<Figure size 640x480 with 1 Axes>"
            ],
            "image/png": "[encoded data removed]"
          },
          "metadata": {}
        }
      ]
    },
    {
      "cell_type": "code",
      "source": [
        "print(f\"Observation space shape: {env.observation_space.nvec}\")\n",
        "print(f\"Number of actions: {env.action_space.n}\")"
      ],
      "metadata": {
        "id": "6jLj8X9b_6P8",
        "colab": {
          "base_uri": "https://localhost:8080/"
        },
        "outputId": "6bfba262-9ff4-4d63-8062-1e0e76a24af8"
      },
      "execution_count": null,
      "outputs": [
        {
          "output_type": "stream",
          "name": "stdout",
          "text": [
            "Observation space shape: [5 5]\n",
            "Number of actions: 4\n"
          ]
        }
      ]
    },
    {
      "cell_type": "markdown",
      "source": [
        "# Define the policy $\\pi(\\cdot|s)$"
      ],
      "metadata": {
        "id": "6BmQbNBD__Lx"
      }
    },
    {
      "cell_type": "markdown",
      "source": [
        "#### Create the policy $\\pi(\\cdot|s)$"
      ],
      "metadata": {
        "id": "NSHRmsF4ADke"
      }
    },
    {
      "cell_type": "code",
      "source": [
        "policy_probs = np.full((5, 5, 4), 0.25)"
      ],
      "metadata": {
        "id": "9e6taARm_7Sz"
      },
      "execution_count": null,
      "outputs": []
    },
    {
      "cell_type": "code",
      "source": [
        "policy_probs"
      ],
      "metadata": {
        "colab": {
          "base_uri": "https://localhost:8080/"
        },
        "id": "Cns99rohtCKv",
        "outputId": "88214192-04ab-4f73-e1a2-387cd82f7abb"
      },
      "execution_count": null,
      "outputs": [
        {
          "output_type": "execute_result",
          "data": {
            "text/plain": [
              "array([[[0.25, 0.25, 0.25, 0.25],\n",
              "        [0.25, 0.25, 0.25, 0.25],\n",
              "        [0.25, 0.25, 0.25, 0.25],\n",
              "        [0.25, 0.25, 0.25, 0.25],\n",
              "        [0.25, 0.25, 0.25, 0.25]],\n",
              "\n",
              "       [[0.25, 0.25, 0.25, 0.25],\n",
              "        [0.25, 0.25, 0.25, 0.25],\n",
              "        [0.25, 0.25, 0.25, 0.25],\n",
              "        [0.25, 0.25, 0.25, 0.25],\n",
              "        [0.25, 0.25, 0.25, 0.25]],\n",
              "\n",
              "       [[0.25, 0.25, 0.25, 0.25],\n",
              "        [0.25, 0.25, 0.25, 0.25],\n",
              "        [0.25, 0.25, 0.25, 0.25],\n",
              "        [0.25, 0.25, 0.25, 0.25],\n",
              "        [0.25, 0.25, 0.25, 0.25]],\n",
              "\n",
              "       [[0.25, 0.25, 0.25, 0.25],\n",
              "        [0.25, 0.25, 0.25, 0.25],\n",
              "        [0.25, 0.25, 0.25, 0.25],\n",
              "        [0.25, 0.25, 0.25, 0.25],\n",
              "        [0.25, 0.25, 0.25, 0.25]],\n",
              "\n",
              "       [[0.25, 0.25, 0.25, 0.25],\n",
              "        [0.25, 0.25, 0.25, 0.25],\n",
              "        [0.25, 0.25, 0.25, 0.25],\n",
              "        [0.25, 0.25, 0.25, 0.25],\n",
              "        [0.25, 0.25, 0.25, 0.25]]])"
            ]
          },
          "metadata": {},
          "execution_count": 8
        }
      ]
    },
    {
      "cell_type": "code",
      "source": [
        "def policy(state):\n",
        "    return policy_probs[state]"
      ],
      "metadata": {
        "id": "ov58rINMAFh3"
      },
      "execution_count": null,
      "outputs": []
    },
    {
      "cell_type": "markdown",
      "source": [
        "#### Test the policy with state (0, 0)"
      ],
      "metadata": {
        "id": "hCs_WG95AH8P"
      }
    },
    {
      "cell_type": "code",
      "source": [
        "action_probabilities = policy((0,0))\n",
        "for action, prob in zip(range(4), action_probabilities):\n",
        "    print(f\"Probability of taking action {action}: {prob}\")"
      ],
      "metadata": {
        "id": "ZWm6ub3IAGLz",
        "colab": {
          "base_uri": "https://localhost:8080/"
        },
        "outputId": "61570c82-22b9-4098-f24d-ecb0a66f5572"
      },
      "execution_count": null,
      "outputs": [
        {
          "output_type": "stream",
          "name": "stdout",
          "text": [
            "Probability of taking action 0: 0.25\n",
            "Probability of taking action 1: 0.25\n",
            "Probability of taking action 2: 0.25\n",
            "Probability of taking action 3: 0.25\n"
          ]
        }
      ]
    },
    {
      "cell_type": "code",
      "source": [
        "test_agent(env, policy, episodes=1)"
      ],
      "metadata": {
        "id": "9ZnFI1NhAJcy",
        "colab": {
          "base_uri": "https://localhost:8080/",
          "height": 425
        },
        "outputId": "9ca0d0be-9db9-41cc-fe03-0b0c327b3b0f"
      },
      "execution_count": null,
      "outputs": [
        {
          "output_type": "error",
          "ename": "CalledProcessError",
          "evalue": "Command '['ffmpeg', '-f', 'rawvideo', '-vcodec', 'rawvideo', '-s', '500x500', '-pix_fmt', 'rgba', '-r', '20.0', '-loglevel', 'error', '-i', 'pipe:', '-vcodec', 'h264', '-pix_fmt', 'yuv420p', '-y', '/tmp/tmpk_sf1467/temp.m4v']' returned non-zero exit status 255.",
          "traceback": [
            "\u001b[0;31m---------------------------------------------------------------------------\u001b[0m",
            "\u001b[0;31mKeyboardInterrupt\u001b[0m                         Traceback (most recent call last)",
            "\u001b[0;32m/usr/local/lib/python3.10/dist-packages/matplotlib/animation.py\u001b[0m in \u001b[0;36msaving\u001b[0;34m(self, fig, outfile, dpi, *args, **kwargs)\u001b[0m\n\u001b[1;32m    232\u001b[0m         \u001b[0;32mtry\u001b[0m\u001b[0;34m:\u001b[0m\u001b[0;34m\u001b[0m\u001b[0;34m\u001b[0m\u001b[0m\n\u001b[0;32m--> 233\u001b[0;31m             \u001b[0;32myield\u001b[0m \u001b[0mself\u001b[0m\u001b[0;34m\u001b[0m\u001b[0;34m\u001b[0m\u001b[0m\n\u001b[0m\u001b[1;32m    234\u001b[0m         \u001b[0;32mfinally\u001b[0m\u001b[0;34m:\u001b[0m\u001b[0;34m\u001b[0m\u001b[0;34m\u001b[0m\u001b[0m\n",
            "\u001b[0;32m/usr/local/lib/python3.10/dist-packages/matplotlib/animation.py\u001b[0m in \u001b[0;36msave\u001b[0;34m(self, filename, writer, fps, dpi, codec, bitrate, extra_args, metadata, extra_anim, savefig_kwargs, progress_callback)\u001b[0m\n\u001b[1;32m   1102\u001b[0m                     \u001b[0;31m# TODO: See if turning off blit is really necessary\u001b[0m\u001b[0;34m\u001b[0m\u001b[0;34m\u001b[0m\u001b[0m\n\u001b[0;32m-> 1103\u001b[0;31m                     \u001b[0manim\u001b[0m\u001b[0;34m.\u001b[0m\u001b[0m_draw_next_frame\u001b[0m\u001b[0;34m(\u001b[0m\u001b[0md\u001b[0m\u001b[0;34m,\u001b[0m \u001b[0mblit\u001b[0m\u001b[0;34m=\u001b[0m\u001b[0;32mFalse\u001b[0m\u001b[0;34m)\u001b[0m\u001b[0;34m\u001b[0m\u001b[0;34m\u001b[0m\u001b[0m\n\u001b[0m\u001b[1;32m   1104\u001b[0m                     \u001b[0;32mif\u001b[0m \u001b[0mprogress_callback\u001b[0m \u001b[0;32mis\u001b[0m \u001b[0;32mnot\u001b[0m \u001b[0;32mNone\u001b[0m\u001b[0;34m:\u001b[0m\u001b[0;34m\u001b[0m\u001b[0;34m\u001b[0m\u001b[0m\n",
            "\u001b[0;32m/usr/local/lib/python3.10/dist-packages/matplotlib/animation.py\u001b[0m in \u001b[0;36m_draw_next_frame\u001b[0;34m(self, framedata, blit)\u001b[0m\n\u001b[1;32m   1138\u001b[0m         \u001b[0mself\u001b[0m\u001b[0;34m.\u001b[0m\u001b[0m_draw_frame\u001b[0m\u001b[0;34m(\u001b[0m\u001b[0mframedata\u001b[0m\u001b[0;34m)\u001b[0m\u001b[0;34m\u001b[0m\u001b[0;34m\u001b[0m\u001b[0m\n\u001b[0;32m-> 1139\u001b[0;31m         \u001b[0mself\u001b[0m\u001b[0;34m.\u001b[0m\u001b[0m_post_draw\u001b[0m\u001b[0;34m(\u001b[0m\u001b[0mframedata\u001b[0m\u001b[0;34m,\u001b[0m \u001b[0mblit\u001b[0m\u001b[0;34m)\u001b[0m\u001b[0;34m\u001b[0m\u001b[0;34m\u001b[0m\u001b[0m\n\u001b[0m\u001b[1;32m   1140\u001b[0m \u001b[0;34m\u001b[0m\u001b[0m\n",
            "\u001b[0;32m/usr/local/lib/python3.10/dist-packages/matplotlib/animation.py\u001b[0m in \u001b[0;36m_post_draw\u001b[0;34m(self, framedata, blit)\u001b[0m\n\u001b[1;32m   1163\u001b[0m         \u001b[0;32melse\u001b[0m\u001b[0;34m:\u001b[0m\u001b[0;34m\u001b[0m\u001b[0;34m\u001b[0m\u001b[0m\n\u001b[0;32m-> 1164\u001b[0;31m             \u001b[0mself\u001b[0m\u001b[0;34m.\u001b[0m\u001b[0m_fig\u001b[0m\u001b[0;34m.\u001b[0m\u001b[0mcanvas\u001b[0m\u001b[0;34m.\u001b[0m\u001b[0mdraw_idle\u001b[0m\u001b[0;34m(\u001b[0m\u001b[0;34m)\u001b[0m\u001b[0;34m\u001b[0m\u001b[0;34m\u001b[0m\u001b[0m\n\u001b[0m\u001b[1;32m   1165\u001b[0m \u001b[0;34m\u001b[0m\u001b[0m\n",
            "\u001b[0;32m/usr/local/lib/python3.10/dist-packages/matplotlib/backend_bases.py\u001b[0m in \u001b[0;36mdraw_idle\u001b[0;34m(self, *args, **kwargs)\u001b[0m\n\u001b[1;32m   2081\u001b[0m             \u001b[0;32mwith\u001b[0m \u001b[0mself\u001b[0m\u001b[0;34m.\u001b[0m\u001b[0m_idle_draw_cntx\u001b[0m\u001b[0;34m(\u001b[0m\u001b[0;34m)\u001b[0m\u001b[0;34m:\u001b[0m\u001b[0;34m\u001b[0m\u001b[0;34m\u001b[0m\u001b[0m\n\u001b[0;32m-> 2082\u001b[0;31m                 \u001b[0mself\u001b[0m\u001b[0;34m.\u001b[0m\u001b[0mdraw\u001b[0m\u001b[0;34m(\u001b[0m\u001b[0;34m*\u001b[0m\u001b[0margs\u001b[0m\u001b[0;34m,\u001b[0m \u001b[0;34m**\u001b[0m\u001b[0mkwargs\u001b[0m\u001b[0;34m)\u001b[0m\u001b[0;34m\u001b[0m\u001b[0;34m\u001b[0m\u001b[0m\n\u001b[0m\u001b[1;32m   2083\u001b[0m \u001b[0;34m\u001b[0m\u001b[0m\n",
            "\u001b[0;32m/usr/local/lib/python3.10/dist-packages/matplotlib/backends/backend_agg.py\u001b[0m in \u001b[0;36mdraw\u001b[0;34m(self)\u001b[0m\n\u001b[1;32m    399\u001b[0m               else nullcontext()):\n\u001b[0;32m--> 400\u001b[0;31m             \u001b[0mself\u001b[0m\u001b[0;34m.\u001b[0m\u001b[0mfigure\u001b[0m\u001b[0;34m.\u001b[0m\u001b[0mdraw\u001b[0m\u001b[0;34m(\u001b[0m\u001b[0mself\u001b[0m\u001b[0;34m.\u001b[0m\u001b[0mrenderer\u001b[0m\u001b[0;34m)\u001b[0m\u001b[0;34m\u001b[0m\u001b[0;34m\u001b[0m\u001b[0m\n\u001b[0m\u001b[1;32m    401\u001b[0m             \u001b[0;31m# A GUI class may be need to update a window using this draw, so\u001b[0m\u001b[0;34m\u001b[0m\u001b[0;34m\u001b[0m\u001b[0m\n",
            "\u001b[0;32m/usr/local/lib/python3.10/dist-packages/matplotlib/artist.py\u001b[0m in \u001b[0;36mdraw_wrapper\u001b[0;34m(artist, renderer, *args, **kwargs)\u001b[0m\n\u001b[1;32m     94\u001b[0m     \u001b[0;32mdef\u001b[0m \u001b[0mdraw_wrapper\u001b[0m\u001b[0;34m(\u001b[0m\u001b[0martist\u001b[0m\u001b[0;34m,\u001b[0m \u001b[0mrenderer\u001b[0m\u001b[0;34m,\u001b[0m \u001b[0;34m*\u001b[0m\u001b[0margs\u001b[0m\u001b[0;34m,\u001b[0m \u001b[0;34m**\u001b[0m\u001b[0mkwargs\u001b[0m\u001b[0;34m)\u001b[0m\u001b[0;34m:\u001b[0m\u001b[0;34m\u001b[0m\u001b[0;34m\u001b[0m\u001b[0m\n\u001b[0;32m---> 95\u001b[0;31m         \u001b[0mresult\u001b[0m \u001b[0;34m=\u001b[0m \u001b[0mdraw\u001b[0m\u001b[0;34m(\u001b[0m\u001b[0martist\u001b[0m\u001b[0;34m,\u001b[0m \u001b[0mrenderer\u001b[0m\u001b[0;34m,\u001b[0m \u001b[0;34m*\u001b[0m\u001b[0margs\u001b[0m\u001b[0;34m,\u001b[0m \u001b[0;34m**\u001b[0m\u001b[0mkwargs\u001b[0m\u001b[0;34m)\u001b[0m\u001b[0;34m\u001b[0m\u001b[0;34m\u001b[0m\u001b[0m\n\u001b[0m\u001b[1;32m     96\u001b[0m         \u001b[0;32mif\u001b[0m \u001b[0mrenderer\u001b[0m\u001b[0;34m.\u001b[0m\u001b[0m_rasterizing\u001b[0m\u001b[0;34m:\u001b[0m\u001b[0;34m\u001b[0m\u001b[0;34m\u001b[0m\u001b[0m\n",
            "\u001b[0;32m/usr/local/lib/python3.10/dist-packages/matplotlib/artist.py\u001b[0m in \u001b[0;36mdraw_wrapper\u001b[0;34m(artist, renderer)\u001b[0m\n\u001b[1;32m     71\u001b[0m \u001b[0;34m\u001b[0m\u001b[0m\n\u001b[0;32m---> 72\u001b[0;31m             \u001b[0;32mreturn\u001b[0m \u001b[0mdraw\u001b[0m\u001b[0;34m(\u001b[0m\u001b[0martist\u001b[0m\u001b[0;34m,\u001b[0m \u001b[0mrenderer\u001b[0m\u001b[0;34m)\u001b[0m\u001b[0;34m\u001b[0m\u001b[0;34m\u001b[0m\u001b[0m\n\u001b[0m\u001b[1;32m     73\u001b[0m         \u001b[0;32mfinally\u001b[0m\u001b[0;34m:\u001b[0m\u001b[0;34m\u001b[0m\u001b[0;34m\u001b[0m\u001b[0m\n",
            "\u001b[0;32m/usr/local/lib/python3.10/dist-packages/matplotlib/figure.py\u001b[0m in \u001b[0;36mdraw\u001b[0;34m(self, renderer)\u001b[0m\n\u001b[1;32m   3139\u001b[0m             \u001b[0mself\u001b[0m\u001b[0;34m.\u001b[0m\u001b[0mpatch\u001b[0m\u001b[0;34m.\u001b[0m\u001b[0mdraw\u001b[0m\u001b[0;34m(\u001b[0m\u001b[0mrenderer\u001b[0m\u001b[0;34m)\u001b[0m\u001b[0;34m\u001b[0m\u001b[0;34m\u001b[0m\u001b[0m\n\u001b[0;32m-> 3140\u001b[0;31m             mimage._draw_list_compositing_images(\n\u001b[0m\u001b[1;32m   3141\u001b[0m                 renderer, self, artists, self.suppressComposite)\n",
            "\u001b[0;32m/usr/local/lib/python3.10/dist-packages/matplotlib/image.py\u001b[0m in \u001b[0;36m_draw_list_compositing_images\u001b[0;34m(renderer, parent, artists, suppress_composite)\u001b[0m\n\u001b[1;32m    130\u001b[0m         \u001b[0;32mfor\u001b[0m \u001b[0ma\u001b[0m \u001b[0;32min\u001b[0m \u001b[0martists\u001b[0m\u001b[0;34m:\u001b[0m\u001b[0;34m\u001b[0m\u001b[0;34m\u001b[0m\u001b[0m\n\u001b[0;32m--> 131\u001b[0;31m             \u001b[0ma\u001b[0m\u001b[0;34m.\u001b[0m\u001b[0mdraw\u001b[0m\u001b[0;34m(\u001b[0m\u001b[0mrenderer\u001b[0m\u001b[0;34m)\u001b[0m\u001b[0;34m\u001b[0m\u001b[0;34m\u001b[0m\u001b[0m\n\u001b[0m\u001b[1;32m    132\u001b[0m     \u001b[0;32melse\u001b[0m\u001b[0;34m:\u001b[0m\u001b[0;34m\u001b[0m\u001b[0;34m\u001b[0m\u001b[0m\n",
            "\u001b[0;32m/usr/local/lib/python3.10/dist-packages/matplotlib/artist.py\u001b[0m in \u001b[0;36mdraw_wrapper\u001b[0;34m(artist, renderer)\u001b[0m\n\u001b[1;32m     71\u001b[0m \u001b[0;34m\u001b[0m\u001b[0m\n\u001b[0;32m---> 72\u001b[0;31m             \u001b[0;32mreturn\u001b[0m \u001b[0mdraw\u001b[0m\u001b[0;34m(\u001b[0m\u001b[0martist\u001b[0m\u001b[0;34m,\u001b[0m \u001b[0mrenderer\u001b[0m\u001b[0;34m)\u001b[0m\u001b[0;34m\u001b[0m\u001b[0;34m\u001b[0m\u001b[0m\n\u001b[0m\u001b[1;32m     73\u001b[0m         \u001b[0;32mfinally\u001b[0m\u001b[0;34m:\u001b[0m\u001b[0;34m\u001b[0m\u001b[0;34m\u001b[0m\u001b[0m\n",
            "\u001b[0;32m/usr/local/lib/python3.10/dist-packages/matplotlib/axes/_base.py\u001b[0m in \u001b[0;36mdraw\u001b[0;34m(self, renderer)\u001b[0m\n\u001b[1;32m   3063\u001b[0m \u001b[0;34m\u001b[0m\u001b[0m\n\u001b[0;32m-> 3064\u001b[0;31m         mimage._draw_list_compositing_images(\n\u001b[0m\u001b[1;32m   3065\u001b[0m             renderer, self, artists, self.figure.suppressComposite)\n",
            "\u001b[0;32m/usr/local/lib/python3.10/dist-packages/matplotlib/image.py\u001b[0m in \u001b[0;36m_draw_list_compositing_images\u001b[0;34m(renderer, parent, artists, suppress_composite)\u001b[0m\n\u001b[1;32m    130\u001b[0m         \u001b[0;32mfor\u001b[0m \u001b[0ma\u001b[0m \u001b[0;32min\u001b[0m \u001b[0martists\u001b[0m\u001b[0;34m:\u001b[0m\u001b[0;34m\u001b[0m\u001b[0;34m\u001b[0m\u001b[0m\n\u001b[0;32m--> 131\u001b[0;31m             \u001b[0ma\u001b[0m\u001b[0;34m.\u001b[0m\u001b[0mdraw\u001b[0m\u001b[0;34m(\u001b[0m\u001b[0mrenderer\u001b[0m\u001b[0;34m)\u001b[0m\u001b[0;34m\u001b[0m\u001b[0;34m\u001b[0m\u001b[0m\n\u001b[0m\u001b[1;32m    132\u001b[0m     \u001b[0;32melse\u001b[0m\u001b[0;34m:\u001b[0m\u001b[0;34m\u001b[0m\u001b[0;34m\u001b[0m\u001b[0m\n",
            "\u001b[0;32m/usr/local/lib/python3.10/dist-packages/matplotlib/artist.py\u001b[0m in \u001b[0;36mdraw_wrapper\u001b[0;34m(artist, renderer)\u001b[0m\n\u001b[1;32m     71\u001b[0m \u001b[0;34m\u001b[0m\u001b[0m\n\u001b[0;32m---> 72\u001b[0;31m             \u001b[0;32mreturn\u001b[0m \u001b[0mdraw\u001b[0m\u001b[0;34m(\u001b[0m\u001b[0martist\u001b[0m\u001b[0;34m,\u001b[0m \u001b[0mrenderer\u001b[0m\u001b[0;34m)\u001b[0m\u001b[0;34m\u001b[0m\u001b[0;34m\u001b[0m\u001b[0m\n\u001b[0m\u001b[1;32m     73\u001b[0m         \u001b[0;32mfinally\u001b[0m\u001b[0;34m:\u001b[0m\u001b[0;34m\u001b[0m\u001b[0;34m\u001b[0m\u001b[0m\n",
            "\u001b[0;32m/usr/local/lib/python3.10/dist-packages/matplotlib/image.py\u001b[0m in \u001b[0;36mdraw\u001b[0;34m(self, renderer, *args, **kwargs)\u001b[0m\n\u001b[1;32m    640\u001b[0m         \u001b[0;32melse\u001b[0m\u001b[0;34m:\u001b[0m\u001b[0;34m\u001b[0m\u001b[0;34m\u001b[0m\u001b[0m\n\u001b[0;32m--> 641\u001b[0;31m             im, l, b, trans = self.make_image(\n\u001b[0m\u001b[1;32m    642\u001b[0m                 renderer, renderer.get_image_magnification())\n",
            "\u001b[0;32m/usr/local/lib/python3.10/dist-packages/matplotlib/image.py\u001b[0m in \u001b[0;36mmake_image\u001b[0;34m(self, renderer, magnification, unsampled)\u001b[0m\n\u001b[1;32m    948\u001b[0m                 else self.figure.bbox)\n\u001b[0;32m--> 949\u001b[0;31m         return self._make_image(self._A, bbox, transformed_bbox, clip,\n\u001b[0m\u001b[1;32m    950\u001b[0m                                 magnification, unsampled=unsampled)\n",
            "\u001b[0;32m/usr/local/lib/python3.10/dist-packages/matplotlib/image.py\u001b[0m in \u001b[0;36m_make_image\u001b[0;34m(self, A, in_bbox, out_bbox, clip_bbox, magnification, unsampled, round_to_pixel_border)\u001b[0m\n\u001b[1;32m    550\u001b[0m                 \u001b[0;32mif\u001b[0m \u001b[0mA\u001b[0m\u001b[0;34m.\u001b[0m\u001b[0mshape\u001b[0m\u001b[0;34m[\u001b[0m\u001b[0;36m2\u001b[0m\u001b[0;34m]\u001b[0m \u001b[0;34m==\u001b[0m \u001b[0;36m3\u001b[0m\u001b[0;34m:\u001b[0m\u001b[0;34m\u001b[0m\u001b[0;34m\u001b[0m\u001b[0m\n\u001b[0;32m--> 551\u001b[0;31m                     \u001b[0mA\u001b[0m \u001b[0;34m=\u001b[0m \u001b[0m_rgb_to_rgba\u001b[0m\u001b[0;34m(\u001b[0m\u001b[0mA\u001b[0m\u001b[0;34m)\u001b[0m\u001b[0;34m\u001b[0m\u001b[0;34m\u001b[0m\u001b[0m\n\u001b[0m\u001b[1;32m    552\u001b[0m                 \u001b[0malpha\u001b[0m \u001b[0;34m=\u001b[0m \u001b[0mself\u001b[0m\u001b[0;34m.\u001b[0m\u001b[0m_get_scalar_alpha\u001b[0m\u001b[0;34m(\u001b[0m\u001b[0;34m)\u001b[0m\u001b[0;34m\u001b[0m\u001b[0;34m\u001b[0m\u001b[0m\n",
            "\u001b[0;31mKeyboardInterrupt\u001b[0m: ",
            "\nDuring handling of the above exception, another exception occurred:\n",
            "\u001b[0;31mCalledProcessError\u001b[0m                        Traceback (most recent call last)",
            "\u001b[0;32m<ipython-input-10-b50c8849454c>\u001b[0m in \u001b[0;36m<cell line: 1>\u001b[0;34m()\u001b[0m\n\u001b[0;32m----> 1\u001b[0;31m \u001b[0mtest_agent\u001b[0m\u001b[0;34m(\u001b[0m\u001b[0menv\u001b[0m\u001b[0;34m,\u001b[0m \u001b[0mpolicy\u001b[0m\u001b[0;34m,\u001b[0m \u001b[0mepisodes\u001b[0m\u001b[0;34m=\u001b[0m\u001b[0;36m1\u001b[0m\u001b[0;34m)\u001b[0m\u001b[0;34m\u001b[0m\u001b[0;34m\u001b[0m\u001b[0m\n\u001b[0m",
            "\u001b[0;32m<ipython-input-1-7936aa890fd6>\u001b[0m in \u001b[0;36mtest_agent\u001b[0;34m(environment, policy, episodes)\u001b[0m\n\u001b[1;32m    240\u001b[0m             \u001b[0mstate\u001b[0m \u001b[0;34m=\u001b[0m \u001b[0mnext_state\u001b[0m\u001b[0;34m\u001b[0m\u001b[0;34m\u001b[0m\u001b[0m\n\u001b[1;32m    241\u001b[0m \u001b[0;34m\u001b[0m\u001b[0m\n\u001b[0;32m--> 242\u001b[0;31m     \u001b[0;32mreturn\u001b[0m \u001b[0mdisplay_video\u001b[0m\u001b[0;34m(\u001b[0m\u001b[0mframes\u001b[0m\u001b[0;34m)\u001b[0m\u001b[0;34m\u001b[0m\u001b[0;34m\u001b[0m\u001b[0m\n\u001b[0m\u001b[1;32m    243\u001b[0m \u001b[0;34m\u001b[0m\u001b[0m\n",
            "\u001b[0;32m<ipython-input-1-7936aa890fd6>\u001b[0m in \u001b[0;36mdisplay_video\u001b[0;34m(frames)\u001b[0m\n\u001b[1;32m    219\u001b[0m     anim = animation.FuncAnimation(fig=fig, func=update, frames=frames,\n\u001b[1;32m    220\u001b[0m                                     interval=50, blit=True, repeat=False)\n\u001b[0;32m--> 221\u001b[0;31m     \u001b[0;32mreturn\u001b[0m \u001b[0mHTML\u001b[0m\u001b[0;34m(\u001b[0m\u001b[0manim\u001b[0m\u001b[0;34m.\u001b[0m\u001b[0mto_html5_video\u001b[0m\u001b[0;34m(\u001b[0m\u001b[0;34m)\u001b[0m\u001b[0;34m)\u001b[0m\u001b[0;34m\u001b[0m\u001b[0;34m\u001b[0m\u001b[0m\n\u001b[0m\u001b[1;32m    222\u001b[0m \u001b[0;34m\u001b[0m\u001b[0m\n\u001b[1;32m    223\u001b[0m \u001b[0;34m\u001b[0m\u001b[0m\n",
            "\u001b[0;32m/usr/local/lib/python3.10/dist-packages/matplotlib/animation.py\u001b[0m in \u001b[0;36mto_html5_video\u001b[0;34m(self, embed_limit)\u001b[0m\n\u001b[1;32m   1286\u001b[0m                                 \u001b[0mbitrate\u001b[0m\u001b[0;34m=\u001b[0m\u001b[0mmpl\u001b[0m\u001b[0;34m.\u001b[0m\u001b[0mrcParams\u001b[0m\u001b[0;34m[\u001b[0m\u001b[0;34m'animation.bitrate'\u001b[0m\u001b[0;34m]\u001b[0m\u001b[0;34m,\u001b[0m\u001b[0;34m\u001b[0m\u001b[0;34m\u001b[0m\u001b[0m\n\u001b[1;32m   1287\u001b[0m                                 fps=1000. / self._interval)\n\u001b[0;32m-> 1288\u001b[0;31m                 \u001b[0mself\u001b[0m\u001b[0;34m.\u001b[0m\u001b[0msave\u001b[0m\u001b[0;34m(\u001b[0m\u001b[0mstr\u001b[0m\u001b[0;34m(\u001b[0m\u001b[0mpath\u001b[0m\u001b[0;34m)\u001b[0m\u001b[0;34m,\u001b[0m \u001b[0mwriter\u001b[0m\u001b[0;34m=\u001b[0m\u001b[0mwriter\u001b[0m\u001b[0;34m)\u001b[0m\u001b[0;34m\u001b[0m\u001b[0;34m\u001b[0m\u001b[0m\n\u001b[0m\u001b[1;32m   1289\u001b[0m                 \u001b[0;31m# Now open and base64 encode.\u001b[0m\u001b[0;34m\u001b[0m\u001b[0;34m\u001b[0m\u001b[0m\n\u001b[1;32m   1290\u001b[0m                 \u001b[0mvid64\u001b[0m \u001b[0;34m=\u001b[0m \u001b[0mbase64\u001b[0m\u001b[0;34m.\u001b[0m\u001b[0mencodebytes\u001b[0m\u001b[0;34m(\u001b[0m\u001b[0mpath\u001b[0m\u001b[0;34m.\u001b[0m\u001b[0mread_bytes\u001b[0m\u001b[0;34m(\u001b[0m\u001b[0;34m)\u001b[0m\u001b[0;34m)\u001b[0m\u001b[0;34m\u001b[0m\u001b[0;34m\u001b[0m\u001b[0m\n",
            "\u001b[0;32m/usr/local/lib/python3.10/dist-packages/matplotlib/animation.py\u001b[0m in \u001b[0;36msave\u001b[0;34m(self, filename, writer, fps, dpi, codec, bitrate, extra_args, metadata, extra_anim, savefig_kwargs, progress_callback)\u001b[0m\n\u001b[1;32m   1083\u001b[0m         \u001b[0;31m# callback a no-op; canvas.manager = None prevents resizing the GUI\u001b[0m\u001b[0;34m\u001b[0m\u001b[0;34m\u001b[0m\u001b[0m\n\u001b[1;32m   1084\u001b[0m         \u001b[0;31m# widget (both are likewise done in savefig()).\u001b[0m\u001b[0;34m\u001b[0m\u001b[0;34m\u001b[0m\u001b[0m\n\u001b[0;32m-> 1085\u001b[0;31m         \u001b[0;32mwith\u001b[0m \u001b[0mmpl\u001b[0m\u001b[0;34m.\u001b[0m\u001b[0mrc_context\u001b[0m\u001b[0;34m(\u001b[0m\u001b[0;34m{\u001b[0m\u001b[0;34m'savefig.bbox'\u001b[0m\u001b[0;34m:\u001b[0m \u001b[0;32mNone\u001b[0m\u001b[0;34m}\u001b[0m\u001b[0;34m)\u001b[0m\u001b[0;34m,\u001b[0m\u001b[0;31m \u001b[0m\u001b[0;31m\\\u001b[0m\u001b[0;34m\u001b[0m\u001b[0;34m\u001b[0m\u001b[0m\n\u001b[0m\u001b[1;32m   1086\u001b[0m              \u001b[0mwriter\u001b[0m\u001b[0;34m.\u001b[0m\u001b[0msaving\u001b[0m\u001b[0;34m(\u001b[0m\u001b[0mself\u001b[0m\u001b[0;34m.\u001b[0m\u001b[0m_fig\u001b[0m\u001b[0;34m,\u001b[0m \u001b[0mfilename\u001b[0m\u001b[0;34m,\u001b[0m \u001b[0mdpi\u001b[0m\u001b[0;34m)\u001b[0m\u001b[0;34m,\u001b[0m\u001b[0;31m \u001b[0m\u001b[0;31m\\\u001b[0m\u001b[0;34m\u001b[0m\u001b[0;34m\u001b[0m\u001b[0m\n\u001b[1;32m   1087\u001b[0m              cbook._setattr_cm(self._fig.canvas,\n",
            "\u001b[0;32m/usr/lib/python3.10/contextlib.py\u001b[0m in \u001b[0;36m__exit__\u001b[0;34m(self, typ, value, traceback)\u001b[0m\n\u001b[1;32m    151\u001b[0m                 \u001b[0mvalue\u001b[0m \u001b[0;34m=\u001b[0m \u001b[0mtyp\u001b[0m\u001b[0;34m(\u001b[0m\u001b[0;34m)\u001b[0m\u001b[0;34m\u001b[0m\u001b[0;34m\u001b[0m\u001b[0m\n\u001b[1;32m    152\u001b[0m             \u001b[0;32mtry\u001b[0m\u001b[0;34m:\u001b[0m\u001b[0;34m\u001b[0m\u001b[0;34m\u001b[0m\u001b[0m\n\u001b[0;32m--> 153\u001b[0;31m                 \u001b[0mself\u001b[0m\u001b[0;34m.\u001b[0m\u001b[0mgen\u001b[0m\u001b[0;34m.\u001b[0m\u001b[0mthrow\u001b[0m\u001b[0;34m(\u001b[0m\u001b[0mtyp\u001b[0m\u001b[0;34m,\u001b[0m \u001b[0mvalue\u001b[0m\u001b[0;34m,\u001b[0m \u001b[0mtraceback\u001b[0m\u001b[0;34m)\u001b[0m\u001b[0;34m\u001b[0m\u001b[0;34m\u001b[0m\u001b[0m\n\u001b[0m\u001b[1;32m    154\u001b[0m             \u001b[0;32mexcept\u001b[0m \u001b[0mStopIteration\u001b[0m \u001b[0;32mas\u001b[0m \u001b[0mexc\u001b[0m\u001b[0;34m:\u001b[0m\u001b[0;34m\u001b[0m\u001b[0;34m\u001b[0m\u001b[0m\n\u001b[1;32m    155\u001b[0m                 \u001b[0;31m# Suppress StopIteration *unless* it's the same exception that\u001b[0m\u001b[0;34m\u001b[0m\u001b[0;34m\u001b[0m\u001b[0m\n",
            "\u001b[0;32m/usr/local/lib/python3.10/dist-packages/matplotlib/animation.py\u001b[0m in \u001b[0;36msaving\u001b[0;34m(self, fig, outfile, dpi, *args, **kwargs)\u001b[0m\n\u001b[1;32m    233\u001b[0m             \u001b[0;32myield\u001b[0m \u001b[0mself\u001b[0m\u001b[0;34m\u001b[0m\u001b[0;34m\u001b[0m\u001b[0m\n\u001b[1;32m    234\u001b[0m         \u001b[0;32mfinally\u001b[0m\u001b[0;34m:\u001b[0m\u001b[0;34m\u001b[0m\u001b[0;34m\u001b[0m\u001b[0m\n\u001b[0;32m--> 235\u001b[0;31m             \u001b[0mself\u001b[0m\u001b[0;34m.\u001b[0m\u001b[0mfinish\u001b[0m\u001b[0;34m(\u001b[0m\u001b[0;34m)\u001b[0m\u001b[0;34m\u001b[0m\u001b[0;34m\u001b[0m\u001b[0m\n\u001b[0m\u001b[1;32m    236\u001b[0m \u001b[0;34m\u001b[0m\u001b[0m\n\u001b[1;32m    237\u001b[0m \u001b[0;34m\u001b[0m\u001b[0m\n",
            "\u001b[0;32m/usr/local/lib/python3.10/dist-packages/matplotlib/animation.py\u001b[0m in \u001b[0;36mfinish\u001b[0;34m(self)\u001b[0m\n\u001b[1;32m    347\u001b[0m                 \"MovieWriter stderr:\\n%s\", err)\n\u001b[1;32m    348\u001b[0m         \u001b[0;32mif\u001b[0m \u001b[0mself\u001b[0m\u001b[0;34m.\u001b[0m\u001b[0m_proc\u001b[0m\u001b[0;34m.\u001b[0m\u001b[0mreturncode\u001b[0m\u001b[0;34m:\u001b[0m\u001b[0;34m\u001b[0m\u001b[0;34m\u001b[0m\u001b[0m\n\u001b[0;32m--> 349\u001b[0;31m             raise subprocess.CalledProcessError(\n\u001b[0m\u001b[1;32m    350\u001b[0m                 self._proc.returncode, self._proc.args, out, err)\n\u001b[1;32m    351\u001b[0m \u001b[0;34m\u001b[0m\u001b[0m\n",
            "\u001b[0;31mCalledProcessError\u001b[0m: Command '['ffmpeg', '-f', 'rawvideo', '-vcodec', 'rawvideo', '-s', '500x500', '-pix_fmt', 'rgba', '-r', '20.0', '-loglevel', 'error', '-i', 'pipe:', '-vcodec', 'h264', '-pix_fmt', 'yuv420p', '-y', '/tmp/tmpk_sf1467/temp.m4v']' returned non-zero exit status 255."
          ]
        }
      ]
    },
    {
      "cell_type": "code",
      "source": [
        "plot_policy(policy_probs, frame)"
      ],
      "metadata": {
        "id": "-eaOLwAvALGl",
        "colab": {
          "base_uri": "https://localhost:8080/",
          "height": 414
        },
        "outputId": "6703794c-b3c9-4104-b89b-eaf85be92ac1"
      },
      "execution_count": null,
      "outputs": [
        {
          "output_type": "display_data",
          "data": {
            "text/plain": [
              "<Figure size 800x400 with 2 Axes>"
            ],
            "image/png": "[encoded data removed]"
          },
          "metadata": {}
        }
      ]
    },
    {
      "cell_type": "markdown",
      "source": [
        "# Define value table $V(s)$"
      ],
      "metadata": {
        "id": "sTzHi9VIANg3"
      }
    },
    {
      "cell_type": "markdown",
      "source": [
        "#### Create the $V(s)$ table"
      ],
      "metadata": {
        "id": "dEG9zk7UAQYL"
      }
    },
    {
      "cell_type": "code",
      "source": [
        "state_values = np.zeros(shape=(5,5))"
      ],
      "metadata": {
        "id": "CgtesF9BAL_y"
      },
      "execution_count": null,
      "outputs": []
    },
    {
      "cell_type": "code",
      "source": [
        "state_values"
      ],
      "metadata": {
        "colab": {
          "base_uri": "https://localhost:8080/"
        },
        "id": "_tLo6rjAt6f8",
        "outputId": "1d83cd8f-0d85-4915-8054-16089bb0c442"
      },
      "execution_count": null,
      "outputs": [
        {
          "output_type": "execute_result",
          "data": {
            "text/plain": [
              "array([[0., 0., 0., 0., 0.],\n",
              "       [0., 0., 0., 0., 0.],\n",
              "       [0., 0., 0., 0., 0.],\n",
              "       [0., 0., 0., 0., 0.],\n",
              "       [0., 0., 0., 0., 0.]])"
            ]
          },
          "metadata": {},
          "execution_count": 13
        }
      ]
    },
    {
      "cell_type": "markdown",
      "source": [
        "#### Plot $V(s)$"
      ],
      "metadata": {
        "id": "5afFcT1GAUE5"
      }
    },
    {
      "cell_type": "code",
      "source": [
        "plot_values(state_values, frame)"
      ],
      "metadata": {
        "id": "Ee0JA2guARj1",
        "colab": {
          "base_uri": "https://localhost:8080/",
          "height": 407
        },
        "outputId": "1c70d619-b821-41ac-ef2a-9dfaf3ea0cb2"
      },
      "execution_count": null,
      "outputs": [
        {
          "output_type": "display_data",
          "data": {
            "text/plain": [
              "<Figure size 1000x400 with 3 Axes>"
            ],
            "image/png": "[encoded data removed]"
          },
          "metadata": {}
        }
      ]
    },
    {
      "cell_type": "markdown",
      "source": [
        "# Implement the Policy Iteration algorithm"
      ],
      "metadata": {
        "id": "XRRUU4CPAvCf"
      }
    },
    {
      "cell_type": "code",
      "source": [
        "my_list = [0.25, 0.5, 0.1, 0.1, 0.05]"
      ],
      "metadata": {
        "id": "TQv2kvqHuli0"
      },
      "execution_count": null,
      "outputs": []
    },
    {
      "cell_type": "code",
      "source": [
        "for indice, value in enumerate(my_list):\n",
        "  print(indice, value)"
      ],
      "metadata": {
        "colab": {
          "base_uri": "https://localhost:8080/"
        },
        "id": "MeQ9MGYAusb0",
        "outputId": "3f51d2aa-d3fd-4f05-ef77-f4bb76f26794"
      },
      "execution_count": null,
      "outputs": [
        {
          "output_type": "stream",
          "name": "stdout",
          "text": [
            "0 0.25\n",
            "1 0.5\n",
            "2 0.1\n",
            "3 0.1\n",
            "4 0.05\n"
          ]
        }
      ]
    },
    {
      "cell_type": "code",
      "source": [
        "def policy_evaluation(policy_probs, state_values, theta=1e-6, gamma=0.99):\n",
        "    delta = float(\"inf\")\n",
        "\n",
        "    while delta > theta:\n",
        "        delta = 0\n",
        "\n",
        "        for row in range(5):\n",
        "            for col in range(5):\n",
        "                old_value = state_values[(row, col)]\n",
        "                new_value = 0\n",
        "                action_probabilities = policy_probs[(row, col)]\n",
        "\n",
        "                for action, prob in enumerate(action_probabilities):\n",
        "                    next_state, reward, _, _ = env.simulate_step((row, col), action)\n",
        "                    new_value += prob * (reward + gamma * state_values[next_state])\n",
        "\n",
        "                state_values[(row, col)] = new_value\n",
        "\n",
        "                delta = max(delta, abs(old_value - new_value))"
      ],
      "metadata": {
        "id": "0EdCo-E9Av-G"
      },
      "execution_count": null,
      "outputs": []
    },
    {
      "cell_type": "code",
      "source": [
        "def policy_improvement(policy_probs, state_values, gamma=0.99):\n",
        "\n",
        "    policy_stable = True\n",
        "    for row in range(5):\n",
        "        for col in range(5):\n",
        "            old_action = policy_probs[(row, col)].argmax()\n",
        "\n",
        "            new_action = None\n",
        "            max_qsa = float(\"-inf\")\n",
        "\n",
        "            for action in range(4):\n",
        "                next_state, reward, _, _ = env.simulate_step((row, col), action)\n",
        "                qsa = reward + gamma * state_values[next_state]\n",
        "                if qsa > max_qsa:\n",
        "                    max_qsa = qsa\n",
        "                    new_action = action\n",
        "\n",
        "            action_probs = np.zeros(4)\n",
        "            action_probs[new_action] = 1.\n",
        "            policy_probs[(row, col)] = action_probs\n",
        "\n",
        "            if new_action != old_action:\n",
        "                policy_stable = False\n",
        "\n",
        "    return policy_stable"
      ],
      "metadata": {
        "id": "7QtFc7p1Cigk"
      },
      "execution_count": null,
      "outputs": []
    },
    {
      "cell_type": "code",
      "source": [
        "def policy_iteration(policy_probs, state_values, theta=1e-6, gamma=0.99):\n",
        "    policy_stable = False\n",
        "\n",
        "    while not policy_stable:\n",
        "\n",
        "        policy_evaluation(policy_probs, state_values, theta, gamma)\n",
        "        plot_values(state_values, frame)\n",
        "\n",
        "        policy_stable = policy_improvement(policy_probs, state_values, gamma)\n",
        "        plot_policy(policy_probs, frame)"
      ],
      "metadata": {
        "id": "fe20NFy1D8xw"
      },
      "execution_count": null,
      "outputs": []
    },
    {
      "cell_type": "code",
      "source": [
        "policy_iteration(policy_probs, state_values)"
      ],
      "metadata": {
        "id": "NoXZ_gDnD99v",
        "colab": {
          "base_uri": "https://localhost:8080/",
          "height": 1000
        },
        "outputId": "d72b1707-4ed9-4e23-d032-0bfb7ba46922"
      },
      "execution_count": null,
      "outputs": [
        {
          "output_type": "display_data",
          "data": {
            "text/plain": [
              "<Figure size 1000x400 with 3 Axes>"
            ],
            "image/png": "[encoded data removed]"
          },
          "metadata": {}
        },
        {
          "output_type": "display_data",
          "data": {
            "text/plain": [
              "<Figure size 800x400 with 2 Axes>"
            ],
            "image/png": "[encoded data removed]"
          },
          "metadata": {}
        },
        {
          "output_type": "display_data",
          "data": {
            "text/plain": [
              "<Figure size 1000x400 with 3 Axes>"
            ],
            "image/png": "[encoded data removed]"
          },
          "metadata": {}
        },
        {
          "output_type": "display_data",
          "data": {
            "text/plain": [
              "<Figure size 800x400 with 2 Axes>"
            ],
            "image/png": "[encoded data removed]"
          },
          "metadata": {}
        }
      ]
    },
    {
      "cell_type": "markdown",
      "source": [
        "# Show results"
      ],
      "metadata": {
        "id": "5XvhfuA5EMHV"
      }
    },
    {
      "cell_type": "code",
      "source": [
        "plot_values(state_values, frame)"
      ],
      "metadata": {
        "id": "aI0TF221EJ-v",
        "colab": {
          "base_uri": "https://localhost:8080/",
          "height": 407
        },
        "outputId": "bd833992-0d38-4649-89ce-16aa59049721"
      },
      "execution_count": null,
      "outputs": [
        {
          "output_type": "display_data",
          "data": {
            "text/plain": [
              "<Figure size 1000x400 with 3 Axes>"
            ],
            "image/png": "[encoded data removed]"
          },
          "metadata": {}
        }
      ]
    },
    {
      "cell_type": "code",
      "source": [
        "plot_policy(policy_probs, frame)"
      ],
      "metadata": {
        "id": "5pGEzjCJEO1K",
        "colab": {
          "base_uri": "https://localhost:8080/",
          "height": 414
        },
        "outputId": "fbe1b1d2-ecac-4292-9f5d-344f5e40e124"
      },
      "execution_count": null,
      "outputs": [
        {
          "output_type": "display_data",
          "data": {
            "text/plain": [
              "<Figure size 800x400 with 2 Axes>"
            ],
            "image/png": "[encoded data removed]"
          },
          "metadata": {}
        }
      ]
    },
    {
      "cell_type": "code",
      "source": [
        "test_agent(env, policy)"
      ],
      "metadata": {
        "id": "eEDyto2bESEr",
        "colab": {
          "base_uri": "https://localhost:8080/",
          "height": 522
        },
        "outputId": "9e4d14ec-630d-47ba-c9c7-c661e27e216f"
      },
      "execution_count": null,
      "outputs": [
        {
          "output_type": "execute_result",
          "data": {
            "text/plain": [
              "<IPython.core.display.HTML object>"
            ],
            "text/html": [
              "<video width=\"500\" height=\"500\" controls autoplay>\n",
              "  <source type=\"video/mp4\" src=\"data:video/mp4;base64,AAAAIGZ0eXBNNFYgAAACAE00ViBpc29taXNvMmF2YzEAAAAIZnJlZQAAtQ5tZGF0AAACrgYF//+q\n",
              "3EXpvebZSLeWLNgg2SPu73gyNjQgLSBjb3JlIDE2MyByMzA2MCA1ZGI2YWE2IC0gSC4yNjQvTVBF\n",
              "Ry00IEFWQyBjb2RlYyAtIENvcHlsZWZ0IDIwMDMtMjAyMSAtIGh0dHA6Ly93d3cudmlkZW9sYW4u\n",
              "b3JnL3gyNjQuaHRtbCAtIG9wdGlvbnM6IGNhYmFjPTEgcmVmPTMgZGVibG9jaz0xOjA6MCBhbmFs\n",
              "eXNlPTB4MzoweDExMyBtZT1oZXggc3VibWU9NyBwc3k9MSBwc3lfcmQ9MS4wMDowLjAwIG1peGVk\n",
              "X3JlZj0xIG1lX3JhbmdlPTE2IGNocm9tYV9tZT0xIHRyZWxsaXM9MSA4eDhkY3Q9MSBjcW09MCBk\n",
              "ZWFkem9uZT0yMSwxMSBmYXN0X3Bza2lwPTEgY2hyb21hX3FwX29mZnNldD0tMiB0aHJlYWRzPTMg\n",
              "bG9va2FoZWFkX3RocmVhZHM9MSBzbGljZWRfdGhyZWFkcz0wIG5yPTAgZGVjaW1hdGU9MSBpbnRl\n",
              "cmxhY2VkPTAgYmx1cmF5X2NvbXBhdD0wIGNvbnN0cmFpbmVkX2ludHJhPTAgYmZyYW1lcz0zIGJf\n",
              "cHlyYW1pZD0yIGJfYWRhcHQ9MSBiX2JpYXM9MCBkaXJlY3Q9MSB3ZWlnaHRiPTEgb3Blbl9nb3A9\n",
              "MCB3ZWlnaHRwPTIga2V5aW50PTI1MCBrZXlpbnRfbWluPTIwIHNjZW5lY3V0PTQwIGludHJhX3Jl\n",
              "ZnJlc2g9MCByY19sb29rYWhlYWQ9NDAgcmM9Y3JmIG1idHJlZT0xIGNyZj0yMy4wIHFjb21wPTAu\n",
              "NjAgcXBtaW49MCBxcG1heD02OSBxcHN0ZXA9NCBpcF9yYXRpbz0xLjQwIGFxPTE6MS4wMACAAAAF\n",
              "NmWIhACf2WdBBMcSgR79PWMxFJhtRQC+1MOxfqRffl+BIGYSpbn04L89reMR6l2wAAADAAADAECn\n",
              "OiagH/jHhnJs3HXkrrQfF5oa8HLd82/vrqnbi9C9vrFggyET+x4Q25j0yND/U4k9M1R0FXm6Lrv0\n",
              "aD/rR83P2BK20vKWX+HkwEbSz9RfrXptVXY+5G7HyoGY9chS34e75Txzfpq1RM27zE3s57b38aFj\n",
              "OwhgHj8mm2atPwNkg4hAwFSzpmNFm+tKbRv/lOAAAmv6dHl/83dU8qnUIdDOqYdV2L+tgCUzPQsA\n",
              "lFqd2ek8tekkVLwbGW2mF1+ikYFjZL8K0LsU9J6vlBypB/HWYjb6EmxWfKynI77wEmzt5mnufpVl\n",
              "5XUktXQAAAMDvktWN+f+qXHQd7OXzmRrQyYp9ePessE8fa2JWt4hawCPCQv1PV9zhocYfMOREj2K\n",
              "KcXNk3WvDOaSOAAASWo9R4UwJ9sR7tRHs1XGOXnvUQTbLUyMurNSiSNOfzmiVz17LaIYyVpk0Q3A\n",
              "iiDH1LIMZFtQL9III4kpjSHasnFHxBF+bdFKtoDFy8+IMjzhjXkMH6RB5V7jI1WJyOsWgsEA2Lk/\n",
              "lUIPKF5d7vOsW1eNa/q0Ti49AAADAc2C9aR4dE/oo6mHgECcHagAQmOhsiURvEGU1LGUNBgZ+H0u\n",
              "P9Ajp0CgyHAYbVARG29PZtWk1DOvPfhMI+DZMfnUhuNkmtMyFfEvnJoIP7Rklqcb5n6eOPdyx6YB\n",
              "KMfFuZIIZzq0jxim+7HlfN8n2mv4FTt2pIh+eTXMr7g12ZQ2qU/fr5wHPu3sD/k4SfWpq5Y9nrPp\n",
              "RoyzidGtLV7JU3bqPWyqR9Eq4W9rleni0siEBfhoVVThGheU518imw6GWjoR6wCvBHn0ZcHKvV7C\n",
              "Gk/gxiCr88975K70g601/tZoIs6BsR1+ho/5bfWrj2pl2eAjwVyH41zQ4IxXyDRsJt5p8vPxSyyg\n",
              "uWpbw+ZHkd5TCRQj6cYjOPMuWD2lsxxR6db59Ir52gerygXKoy3fCcFdn77L+UfBpv5bcQo2kUA/\n",
              "C3AXcMN7tN3qog85Lhrp8blEHmoQoYSFLhaPle4dDYuit2Ic9WFaZj7D+ncmDVZywOOjCDqkrvGz\n",
              "2g7XVbylk+ri9KoVaOQEhJRiW+r5YPNqfTaeUsS3I3fRZW6HlEYFaPF2G20UPKXJBq+mgzwVmHBr\n",
              "Lk8GQ2w259VEgXlMAAATdLVyD8V5u4mR22AZ1FF+rav0szxeRGDbEWzuEVlCRxT0awariSYodViQ\n",
              "1bxeEZS4ltzQXTKbYtvN1RgD+t9GtDWYynCrO+3zWBJeN9gVRZB20gqceJtaEccD/n3qZOcPUU1b\n",
              "NQUp4VqY87AZ2Z+D6QtZOu8IyPjhwWv1rCt3gcaTOaRVVJgIrEvLRXKvP6zx73Kh/D9j6n+F12Ps\n",
              "UJsnqkoh4RW7pQTBg9nHj/Non1KPxcU3Y4x28MMFmVfHvDMBd9NSCK/40eSL2AFF0Y/tbQ5hn5eh\n",
              "J+xSYpucop7W25GNoBaMgmhwVjY/WcV4EyHVA9WvyiaAA/lkCdyUlS+flVh9IwmumgipPpDigmn3\n",
              "9rerDK3krHuhGeq/OaXQW6GVJ1SGqF+0oZsggWC8YIkRqiL6fXqEDJNq1EU22COLW/tR1J3/cRZf\n",
              "pZWlZMxv4rD0rM94QrUPpqLhe2itVAQXmz2cDD3XLH94zxFnNJLMUZNosKSKJnzhQ7oAdqmhekwG\n",
              "L9Z7RIwkLj/RqT6QAx9KFhr+Whvt4eAhAAABikGaIWxJ/wAd43rVg2QRxkNxOyt8zO0yMTaYBD+h\n",
              "Cf+xXNaEEtGhKYL3oTpKKnfa9d2iSO+g4cjSvR2E+fPWkfiMcRHmo4acEGkXLGgrGOYgn/jRdz1k\n",
              "8XT3e78myuXY+X8P2Dot0LNZb4CsmO8crVTeMslVXGxzhjpM6iV60es5ZjUz3+qokWzTpWLl/GWw\n",
              "4SMILTLSLjU9FGSCU02doVz3JWnmpZqosj/E+kye7o3nLVzMCeBEcU9DBxfeXXi6nCJG8oyDQwq3\n",
              "XKvGUsE5j83kLFUFTvZFf0Wi0hJzyETCKNs/9kkI3tYeSOl9PMEiV7KTOyppKJUZtbFIwKPBpUri\n",
              "6//qiJL+h7zCK6odCq4MCdrGkGJGxKF13fNgVHv2KX7cbxXwCbZ35gYsNqHs3hOrDEAWM3IQEJxC\n",
              "RmarfpLA6HHHgsBTuqDwy9+4AAOQU3APcug5IRAtp/oKkl8c4jwSKm6p1uMEqPBE5ex8z3ATkl8M\n",
              "DRfG+PkuN7szU7AAAAMAAARWUqgAGzAAAAGyQZpCPCGTKYSfAAAgOdwgGvBs7FcvwKbQzVY5sG/9\n",
              "f0npfEwBCuqYCZlhvzJINY+EBvTHnu6+1xn2dCRfJYJXnmhh4Nto9cylUYATotdjnbX5v38cdizG\n",
              "mgyjCtcgJ3VR4p9b9CWybwCkSTLobYiHIs2L/loBsq/zsOQGzSlo0wN2CstQlvjnrjjUt4djrk2D\n",
              "CWhHmFoGuC5woaIWzxBSaHgNa/YbNQpzQT3Qjwx4D6/fg670Q2a2piO3pgNfxVWuZe/3Ny/gPvjH\n",
              "KjK1yVILkk6LgIwh6B+mO/NgwCQ+4AxPtXoOiC1ex/Ra5D0saoEfRs4dpv7+R+qvi/XERQ/+3SN0\n",
              "yw5LyiPjqpPw+N4giHSxE5In+whjZ3jqefwTqYyUoRM+5xPrXaZGbo2CNy4pnOVRyo6yeYzDi/Tl\n",
              "uJLKIOSl6pYYZxPZumjNew+wqkJbfiNp30kqA6BOq9Hq7+sIEWdKRcyRa7IoYrPl04ZAtnwIcLLn\n",
              "50vnkCDy4St2TgoX8PGGw73lRORpyjbpnmdgM1x47F4Vvz2wDE3/7OL9jwJLpJsop0gXVKgSHd8T\n",
              "ykEAccEAAAGnQZpjSeEPJlMCTwAAAwA6n+U6Llo5aFbNSTSW4h9h+9akAQJKd0cM+ch1u38YITc9\n",
              "lHRxWYmCzROcj2fpdVXrPNkhVY3MkbZ3XifWV3SBo/SG6A3Na1QRNwaCzzAu8KkfteLjEAyk1w3S\n",
              "CxH8cRFN/GLVdUyEeQbVreB6Vcy8iiBCRevUF7wJW3HzSWzttJ3loX/64Gtszbu6RRwMK772fR6s\n",
              "5EjwRIxjKq9XSFoh6nheMnLQ4kysm9/oeC/yNkMqNndQEhrLqXoz5qwbPIYHhuNnaKp2XwPfglaF\n",
              "hlBZdzbcpolPf/1/52LUnFiKvu+9c1WGYRVT3yiYECoolyUdftgNv9MRDDl+P4LJigTN/l127GD3\n",
              "S3aqSfQWQ8XFhlQvQj2oor7LtQts/xZYYsjlzRlRe6SNvCVIGGTZ6T05fAgim4CYIGtC/Jq8SGx1\n",
              "TdKKSOTkGT9wE+61w1caGYe0wiITLe7IpysTGTMMt6tPaYTLsVYmGp3dOilo5t6O9wLdXm2LX0Y4\n",
              "XbG9jj9wt+NngDEZDff7qMRcAR/B6dTcUz+9vqbfEHrAAAABkkGahEnhDyZTAk8AAAMAAGq/y5YP\n",
              "n1VwyabLXhIu/FYDiAQnha9jLZNBAI2fnA9/ktCrsLl9OiqdZR7HC8qBiz5UgT6+Yx6r0vmm+cr/\n",
              "yw/EHy2ItYCDqcaIv87xQe2YePqiPRfYFCtEwkqp0r6VJEfXYKF3BIgSj0hq4skkqgJMY+EsGWtO\n",
              "bD2qHMqedNclaGOP3vKQV0EURqC2/GohaI26VyX6rrr5bnLT5PihaqQ9Yani0dB4af8NQrRhIgM3\n",
              "ANIrVNLiA8ttmsE+/Dm1YgBDOslGaErpJydq//92cQQebwrmoppmrZAgSXPcT/yUrW4Cupnoomzo\n",
              "VAaoERhO34j4frAGMr6ThKT0VruOY+PFUgR+mQTZmHCONDlA8U7IXzIhmb5Au7HoTF2ERkm3LmJs\n",
              "t2kwWK0Ov7gu5ic7/rm2X7/UAEbys7vn4fuY+YdhhaC2CD+AV8HtfbcNBSIRbA+dJltTatMV3Y0+\n",
              "wPtsuQLh1mlqflBQWSdReeayH8dWBmiLYNTgbh6be2ail9zjsX6mDQAAAYZBmqVJ4Q8mUwJPAAAd\n",
              "T/LekBHB8jkx4/oAo9PiIqfmi5KktZxgza/eZfYt/3W3p1CAyYjDc8sjlgb8/jqiT8QdePWi6OLe\n",
              "5Zpi2XlKqQOcDSW+ZMothOVUjXyyupD8sfG5Kuiq2kvtDkedDX5MrYVFWn3QNNqcKlYtuHHwy4OV\n",
              "WMGVhgZBgLV4wXvZzETXyBJ1PNNP4v6lA47qoHGdd39DTwNH0lCzB1s8x+G+N7encimQmtIsMR9K\n",
              "RumYcZJ8IFGnVnTO3ENAJTdQChYbQRn+N90ey5EAvu7/ywG/9wtlL4ZUDh1r6SnMcFcQj17lioWk\n",
              "PrChNiaX39sj27B2GS2iuDSwmSxr14RGXIgBaY3JmiWeP3kgSJBoPawSLgHqTxsNx2jrhdmrE5rB\n",
              "E76A/Z28Am1znOFrLf7umKd2wgzvXLNTktilQG09DER0OOLJpyv8pX4cUKTFabRF5qwQTA+6piNB\n",
              "eTZmn7JPAxWKvOROJfCXKYdcYTDXuNhvmHE/T0cA1XKDvpkAAAGVQZrGSeEPJlMCTwAAAwAANL8h\n",
              "udlv8VezjR/NOTkIbQ7nZVRFJm0BwEwPsE226SIoxjkdMXH0P1A9VyFvUvRYm0PFdI2YuymQ3MBg\n",
              "CpvVtKL6QrMdQK/UZB2k1PrNr8iTyhjkKs9CFA0QB+q0IJ2QWxrwtkVqCndlo/6ujDt4W29Vfx06\n",
              "c/onPr2sJwVQCLKQSr+a6SRy3GQBurUPCLU2EJ7MPKA7toBGlLxHvkEOfy5xY7BbONJ01QK8DPXp\n",
              "Ab0Q23Isewv0mNEV7oMxLIcD+vb6oGJew+GdMBGHWzelWnkCAAGQaVt2bIEqmu0bpia7ASv5wpRV\n",
              "vy+PpXg3j1oPJZ/18w02R+ctNoIzb/ja4CL/7gBst35PS6jLiuSAKLlA3yR8J+eK3L5zep5lDoAp\n",
              "xpg2OXrT8UkmGqpvMwvBZ3oO5Hu7EGyyUfxMaOShApCinZmsF4xs5Pyn+VIguO9EBWp67/sXu87s\n",
              "j18jUUXXqHTqTWZaD9zuR8Mm65R5eW4bOF+AsD5oY7ld3Doq+b8ENn1eEwq5AAABpkGa50nhDyZT\n",
              "Ak8AAAMAAE55Y1EXb+MEJueyj5g2jWAkKZPkvtfXX9Pz5XiInQKFs0/AVR797HPZnO9RJUnimcV0\n",
              "je8+n0edl++VZaDzZ9RT+kPfW0Z+KZ1B8t71SkH95wslYAegaEtIKbq64hlQTzK5JlK6P4P7H1KQ\n",
              "vjkurVHGMCougy3r7vV3TBAQBeWGwaq0URSwzmThBZruf0w5ouXNjHhXA1VA8UA4cyAxmP0QzBfZ\n",
              "Dn74XTuaid4p53EKy/nRGtMcIJJoUdH1Bq/POdb+kIOllHYPd7JX3VWZGHZnZjL3VcK0y+74R9AI\n",
              "YgFT5N+jS08NWJckC3/N19PBqcMKqZtmNVM8RW54H3cUJUYvyZ/RYMkgGyBQk7fE+fW5a1BwOIYJ\n",
              "1XmZtzr2uDB2iWBupZEkjn6Bk4R+51e64aFHlJT5GpPyjyZYM3SQ2kjzVTpdm7+BMiWmWOcOuq0C\n",
              "k8Te33LKMri8V4jfM6KWCUKxouoQunbVn9TUFuO/RkA4JakMGiYNG66S9d4HDwsenaB/7mnrZpWT\n",
              "isWdAFe4QyAF2Cq/rLM1AAABpEGbCEnhDyZTAk8AAAMAAE2TBO+jTdu/jBCbnspHF7ciB8PV2FRp\n",
              "/3AG0xPHKxETUP6mwTc6yNMYvlcaMWMchdQ2VUfaI/lDcXxeruo77yaUBqK7MGcgWP5DdnNqEZtG\n",
              "Shozh45AQFCcyGOPj/3EfzH8TjI2ruHxjg7oD9BlwNOSeHweOEfkwSfK9Fyrxu58+Ipzf1iXnoej\n",
              "CYlc8s86ut6O7hAZie8f25Bmh2/wbH39wevIrAYTBJv1FuZ+n6HweY2AdiAy1vykoMwziuDvzS3Z\n",
              "E1TMX1DY4MpgxkRwpJrSRx48i4a2BoRI1jY10ouQcZb3A5++XgADVpgSQHZkwJOlNj623JQl0uvt\n",
              "BLQ8QZkw4vTEiMSJlWWcKhwwXjoAXekZrXqNaBFuj7EPTgNI3pGEm2Sim2uQAIC/OpRESbjg7zm8\n",
              "EPUBr3f2e95e3csnSoYBsYmhqSIst4Sys0geb7vWFVlCHIbazOPtrMVLfBjzmBlWtoc2pTIyjt2c\n",
              "aqn4NsF/1kOi2kcL4MfeDFtoA3svufnO94tq+mxj3C3m2BCQAgaCSAAAAaZBmylJ4Q8mUwJPAAAD\n",
              "AABBkwCyxq79v4wQm57KOjjRaavfhwoApOh/4+LOD85SMkuI9hzLVxnmyQqsbmSSW1Valuu6QNH6\n",
              "Q3QG5rWqCJuVdUpCXeFSP2vFxiAZSa4bpBYj+OIim/jFquqZCPINq1vA9iY2MVNQexfrymlH1JNi\n",
              "00ls7bSd5aF/+uB5MbV3cfG9RfXbb3Ktwy8ciR4IkYxlVerpC0Q9TwvGTmFv97+z+2dw6pVhzifn\n",
              "zzBr5U0oOrKw3cWHW2FejPmrBs8hbzx+MLi43smswoxa8AxnZzbcpolPf/1//dN+0kjUVfeEc8nE\n",
              "NBLC2jlExiNZnwAACemyvN0AVeJd49hx/fyrcYeCyYoEzf5dduxg90t2qksrMiJ6EuiqXHiiV53g\n",
              "pDNbP8WWGLI5c0ZUXukihFw7KLXguOvK4CBSOo6AFNM4Ca2SlhxuBtEkNjqm6UUkujkF+QoeMk1Q\n",
              "XY0Mw9phEQmW92RTlYmMmoJk/6zQrxqP+6MsJ7v1iof1O4eUCH/IAS10ex9b5EJKsa8YjIb7/dRi\n",
              "LgCQIbVRGREX8AAAAV9Bm0pJ4Q8mUwJPAAADAAA3RpirBAbzNV4rKjMLGFAcaalsjDrcvBk/Pzb/\n",
              "1UoCjtK0Lr1oE8wiUDFny0a22Zb5xH5OXw7BcjsiPMJI4i5IB9ENsHSHjkAfNVDvg8YzS737bbsU\n",
              "FY818AUauGcvo2rPsU6YNVT1+BBBY7hQDaUf9C4m6mI9hpMOiuHMCTY64PqmzRTcgXnMPJmZTv7n\n",
              "N9vbbRMghWGFo0+3RruUfKYH3qv+SdpTTQ1jym1cfb3R27BnRumU4oT7/z+ueKmYOdQLTDsqOjls\n",
              "d/y4Syc/kbureGqmfGMBGFq+xZxugYIUWSw7V8+kmpITyAZcHc0wzwsR4/ptUpo6VLPrXLSu6Sox\n",
              "Bj2tKDzuWI9Y7qqoScOtZN+MTMNKG0YN5Yav3XsrF1F1GR2Z2jKyhpIIgTFWz8bobjDVlHgNkJdQ\n",
              "QOMPH/oT2hOvV9sfkTpYHBVjttxcxscAAAGGQZtrSeEPJlMCTwAfPAhoFH+CoQq7C5fToqnWUexw\n",
              "vKgYs+VIE+v6kqyZvGG9BX/liJjXL8F979jfONEX+d4oPbMPH1RHovsChWib8piRUvHjMaYYpuAx\n",
              "dwSIEo9Ia8x7zTjfiKC38PK05sPaocyp501yVoY4/fBjivntfxwkh/nC+GyvjRXW2ojMH0GSr+J4\n",
              "oWqkPWGp4tgVeoDentGEiAzeELvnde3IntjIMKCHNqxACGdZKNDiwV+FsHz885ozVjx+OfBZgR2p\n",
              "6URtZ3HpKLOjNZDTLX65FaUTZ7k7mw5V1+GnlkmrpjOGhiCIwgWb2zrF66zn7I6POZUuBxTPleTV\n",
              "cRGMUB0hVojyH7AniF54q1eWyhtJpdvCLzzxnEMiwtkG5pIN39H9cz+U+c+VE5QeZ+e0HV2k/54f\n",
              "nTrN2NrYn8Y1c2pKeJw/HVzsboM/fFRQZddbKL/4JDjo1XXUHl9auHI6Jzces4L6UAC2nJKFVpEU\n",
              "TkwfQs0uS67VXYiMAxii9HZgAAABgEGbjEnhDyZTAk8AHdcF6X3jtVg5xussJRscMkwDWD60X+6E\n",
              "B7g267mgq1SUoiSO+g4cjRQOuekJdOwv8Wud9apHa0UaRcsaCsY5iCf+NF3PWTxWJzFXm5CKb691\n",
              "p+MDot0LNSSYFJLhBsa/kASbrKrjY5wx0mTygWBkw+sxqZ7/VUSLZp0rFy/jLYcJGEFplpFxqegw\n",
              "YYHfKYiue5KcMy1IEhoEeuq+zk02i6IgGv94ERxT0MHF95deLqmukSoT9wfsNlHq3+z1TmPzeQsV\n",
              "QVO9AbFFLxoKVvTpYEUbaAMJIRv+NdWqu3NqblhJv+zrukolRm1sUjAqWGlSuLt8v8CyX9D3mEV1\n",
              "Q6FVwYE7WNIMSOHL9BfU9TD7SZFQUcCUe9YOWRO4MjMsqh2vy2HYoFjNyEBCcQkZmq36SwOhxx4L\n",
              "AU+dhFiFPuAADkFNwD3LoOSEQLaf6CpJfHOI6hjnZCMA9rZx5Q1IuRmJCJ9v3WpwkqnF8OkFQphy\n",
              "R5pAEi7YIAAAAa9Bm61J4Q8mUwJPAAFd/2S7BZ0gGtXC4ox4kLbA9+P7p3QFJP3b0PAH3yvsO5Uv\n",
              "8SveByvOCZvz3dfa4z7OhIvksErzzQw8G20euZSqIHW9YnH7tr837+OOxZjTQZRhWuQE7qpJ48kQ\n",
              "UoAxJaERSe59ExC0/xFf5FCbKv87DkBs0pWjGB08Gy1CW+OeuONS3h2OuTYMJaH+YWgS4LnChohb\n",
              "PDuctfA1r9hs1CnNQ3NCROy5/X78HXeiGzW1MR29LyOlm0X16uz2XPhH98Y5UZWuSpBcYXW5OUfm\n",
              "gfpjvzX+5SH3AGJ9q9B0QWr2U3XaTj8gF/DBdnDtN/fw0oihq29gKH/26RumWHJeUR8nQ0/D43iC\n",
              "IdEbTkif4/IbO8dTz+Ck3hgzPJk121/KiC49gDKqqqcuHC+yo6yeYzDi/TluJLKIOSl6pVkgsOQ9\n",
              "323O4hhVIS2/EbTvtIrbtCdV6PV39NQIs6Ui5ki12RQxWfLplIGPDc/YrLn50vnkCDy4SvGTgoX8\n",
              "PGGw73hpcek2nM/gPbsHy+47F4Vvz2vupogR73bHgSXSTY+G/SgALiRoYQAAAZpBm85J4Q8mUwJP\n",
              "AAADADqf5TouWjeNx60KywkPJ+WS9rSeB6k6+L3v4wQm57KOji1hVsgOH1RXfZlfes82SFVjcyRt\n",
              "ndeJ9ZXdIGj9IboDc1rVBE3K9vYPLvCpH7Xi4xAMpNcN0gsR/HERTfxi1XVMhHkG1a3geth3ZHcA\n",
              "XgPXqC94Erbj5pLZ22k7y0L/9cDjc81ZFm9TF1vGMef4LORI8ESMYyqvV0haIep4XjJyygWsVk3v\n",
              "7jgv8jZDKjZ3UBIay6l6M+asGzyF8DAFwwVVs7KjuBIJXPr3QWXc23KaJT3/9f97sD4xYir7vvXN\n",
              "VhmEVU98ol+1fH6dAVcnHYhEfcM4OX4/gsmKBM3+XXbsYPdLdqpG3QOULr61U97xP3vTCKpofN/N\n",
              "hYYsjlzRlRe6IZ9HV9wzHpejiOwBq9FYo3YUyfWl14kNjqm6UUkibkGT9w83Hb3lsaGYe0wiITLe\n",
              "7IpysTGTKU96nrcyfhCkEcC/WKh/U7h3hd+29WieO5FqBBUYLzVEQkqxrxiMhvv91GIuAI+TVNkP\n",
              "8QAAAY9Bm+9J4Q8mUwJPAAADAABtP8p0l9uIo0bQwbESNopPTuXvClh1UgRPjp/+CoQq7C5fToqn\n",
              "WUexwvKgYs+VIE+vnyb7Pl1H70Ff+WH4g+WxFrAQdTjRF/neKD2zDx9UR6L7AoVomHxsFEUlSRH1\n",
              "2ChdwSIEo9IavEoHkHkxSXCWDLWnNh7VDmVPOmuStDHH73l3EiEURqO2/GohaI26VyX6rrr5bnLT\n",
              "5PihaqQ9Yani1LQ9AoefDUK0YSIDN0nXE1TSzColts1gn34c2rEAIZ1kozpDo8rZ3Z+R7ZxBB5vC\n",
              "vplF2grUCBJc9xP/JStbgK6meiibOhUa7rviIauFeisAYyvpOEpPRWu45j48h6O99tmbMw4Rxoco\n",
              "HinuV4cV/7OQLux6ExdhEZJty5ibLdpMFitEn8nr3Mmr2a5qa5gvdoVXBWAOSV9zHzDsMLQWwQfw\n",
              "CvnhO5NM0UZjnBxb21GpnY7Gn2Dw9Nwy+dG7N3lBQWSdRed/t6P+OrAzRFsGpwNw9NvbNRS+5x2L\n",
              "9a/qQcEAAAGJQZoQSeEPJlMCTwAAHU/y3pASG30oExztgAyPbnXMLoFnw1sLWcYM2v3mX2Lf91t6\n",
              "dKUHpEs5bikcsDfn8dUSfiDrx60XRxb3LNMWy8pVSBzgPn3UyZSaPaXa98ThQ9Hlj43JV4Cvd1+n\n",
              "lRK10QJemrgptVp90DWdUiP2LRl39wFsfd0bMjCQ0Gu6mMDZw7PK5KKevVpp/F/UoHHdVA6Hru/o\n",
              "6501Kw1385Pj334b43tne9JK/T7WIeZSXRbs4yT4QKNVDEqTi/xBSnEKnXpYEhGFt904gACc32UT\n",
              "btTbhbKXwyoHFDA6ZFz7q4nubNLJ6YH6NzsP053bZu27B2ug2iuFpxETatF2iOikUz6GP/gSJjWF\n",
              "R2+Jlp+CwPa15vIx6CmaCardlomGNJAL90KumiCHIvhi1rLf4zEVCVhBmWBWanJbFKgNp6GIjocc\n",
              "WS/1f75PsT5mMVptEXmrBBMD7qmI0F6B/IjIC8GFW/dY4pdCzT2WjdOkFcYbDfMOJ+no4BjgeCYd\n",
              "ttEwAAABjUGaMUnhDyZTAk8AAAMAADVew1JT1JSdjkz6IROUmh4Mcb6ImEzaA4CYH2CbbdJEUYVZ\n",
              "8tR2VAmwPVchb1L0WJtDxXSNmLj4CwqAYAqb1bTdXhCsx1Ar9RkHfgJ85kfIk9hTXZw4Joctsana\n",
              "b9AK2cKIpimIWB0Ms1fXRh28LcJ/lTAxv9FN0ROBMBGBkolJ2EfRnboF4yAN1ah8E6ROTQ88noK8\n",
              "LtTDt4zfkhI55GBKdgtm1HSPRyA8p9sCBtRowO02bHwJyWfYaHA/r2+lJt2/AjsFPfh14ASicRYA\n",
              "ADRKOiH97LVsUHG6YnRuX9eyA4Z9wqGnz+imKxDyOjbwGa7Uw5QEUCyZte4U+HFgN+xM++1xGQ0A\n",
              "TAh/Cnq/Oqz+1NyUWOaxmN0lu+Drienym7iERigDmFQUGda+4KqmbRmrob3NxsidBL2M5GM86EcJ\n",
              "My/u+5U/KWWMdUeo7riGJkSd6UvAwVAq2fZXZXV9Is1TdPtf+xlj84oVGemhlGvgsbaex/ckr5wG\n",
              "TXo8Bv4AAAGiQZpSSeEPJlMCTwAAAwAATnljURdv4wQm57KPmDbHYawgOw8l9r66/cDPK5iSfAXb\n",
              "NPwFUe/exz2ZzvUSVJ4pnFdI3vPp9HnZfvlWWg82fUU/pD31tGfQGKv/Le9UpB/ecLJWAHoGhLSC\n",
              "m6uuIZUE8yuSZRbQmrNsF6kL45Lq1RxjAqLoMt6+71d0wQEAXlhsGqB0mwG4AVwgs13P6Yc0XLmx\n",
              "jwrgaqgdeVkyL9SzH6IZRPS91L8Lp3NRO8U87iFZfzojX+PNMFyWZalNajeK1HDwvVaXfncUtkCH\n",
              "nyRwNszsxl7qrEaZfd8I+gEMQCp+vluG48NWJckC3/N19PBqcMKqZtlp+fbLc8D7uKEqMWWRKosG\n",
              "SQDZAoSgOggKC9omofOrZD1XmZtzr2uDMr/UwOo62eISMF7nV7rhoUeUlPkak/KPJhe5T93TEwEb\n",
              "5zSWtENsGbNpljnDrqtApPE3wdy3xUOx8ftakmcziU/s+yabwhenLY9xKK4gZXn5lkqKRE1FA/6V\n",
              "uewKuYML3ED/3NPnHs3IefsMZ8p70VIGtkJ8wQAAAZ9BmnNJ4Q8mUwJPAAADAABNkwTvo03bv4wQ\n",
              "m57KRxe3rgW2BJb1IRGEQabXa445WIiah/U2CbnWRpjF8rjRixjkLqGyqj7RH8obi+L1d1HfeTSg\n",
              "NRXZgxnPpy0/DUi/Mn02pDRnDxyAgKE5kMcfH/uI/mP4nGQ+NPV3NE7oD9BlwNOTG9o+zXsT0Eny\n",
              "vRcq8bufPiKcuvHwL+DKhNm9AHfXKbeju4QGYnvH9uQZodv8Gx9/cHtoMSVQnZ/RFxIen2xHOPIk\n",
              "VDcgVXlJQZhnFcHfmluyJqmYvouigkM31EMIPHl3nHf4St1rFBjfoy0S35BxlvcDn725JwleyRyu\n",
              "8ZJiTo+L+rN+3goNK2CWh4gzJhxemJEYkX4Y5wqHDBVWAhkxvo8LYAEe8UfYh6cBpG9Iwk2yUU20\n",
              "SGDK0yeqPvvRMRAGkNpWb7d/Z73l7dyydKhaJIFRpow5GjSLMop4T9/Q1TjTZ8V1TOPtrMVWeVv2\n",
              "cD3SRdZ0D/+lRty8VU/Btgv+sh0W0jhfBt7IcriEkjaFHXOd7xbV9NjHuFvVoQVsAAABmEGalEnh\n",
              "DyZTAk8AAAMAAEGSv4a678cS/b+MEJueyjo40tTMXPnOfWrtGB9kWvHpplfes82SFVjcySS2qrUt\n",
              "13SBo/SG6A3Na1QRNyVIC3i7wqR+14uMQDKTXDdILEfxxEU38YtV1TIR5BtWt4HrfQcR3AGltV5T\n",
              "Sj6kmxaaS2dtpO8tC//XA7S+tlYbDcANkln3Ktwy8ciR4IkYxlVerpC0Q9TwvGTmGu+HIwbEyU2L\n",
              "34KGvlTSg6srDdxYdbYV6M+asGzyF8m6EvHyX7LB0acyhnT8sZ2c23KaJT3/9f+FbM1j+hFX3hHP\n",
              "JxDQSwto5RMzLAAELjbjx+LGSse1fb80RyrcYeCyYoEzf5dduxg90t2qkeyY3qpQB2Be5RK87wUh\n",
              "mtn+LLDFkcuaMqL3Sk2SrxlFrwXHXlcBCFgobXW0e4LQuNwNokhsdU3SiklGjY4KGoltX29Bf5+U\n",
              "8C5ZBMvKmRTlYmMmaEOJ7NNdvqP+6MsJ7v1iof1O4eNzyIGwlro9j63yISVY14xGQ33+6jEXAEfE\n",
              "8nfwIAAAAWFBmrVJ4Q8mUwJPAAADAAA/l1qUi7W6uI2s8GE0lEsbOarrVUK2OUyCt6zIBfXf8WNA\n",
              "qvytC69aBPMIlAxZ8tGttmW+dWjKwYoILkdkR5hJHEXJAPohtg6Q8cgD5qod8HjGaXe/cJydQrHm\n",
              "vhyeuDcO99N0k4u2Hi0Z+nugw9WKxUOLKhcTdTEew0mHRXDmBJsdcHXgZspuQLzmF6P3S0knq7h+\n",
              "q5MIIVhhaNPt0a7lThMEB9UaojtKcaHnE+YOjxCGZPiO4+VBTig0kQ6D88VMOjYSTw38rC4yapzp\n",
              "vaPnyV38p0VznwsgIwtYiM+d0DBCiyWHavq3oTchPIBkQdzTDL1MZ5APMOlOkk3LZek7WoQvAGPa\n",
              "0oPPDQj1juX/KAYLqAvL3qo7mS9g6lhq/dezHr1D+mbs9AZWUN8A4rNkIabdDcv3Tx4ENCYUEDjD\n",
              "x/6E9oTr1fbH5E6WBwVY7bMzoQAAAYpBmtZJ4Q8mUwJPAB88CGgUf4KhCrsLl9OiqdZR7HC8qBiz\n",
              "5UgT6/qSrJm8Yb0Ff+WImNcvwX3v2N840Rf53ig9sw8fVEei+vTQSchPKM1Lx4zGmGKbgMFHTCcg\n",
              "Pf2ho3IhEN7PWMz2hutx5ldudraFpN49GJCYmQbP5HG1+85df8AwaNBy9yZTpPeWsZK7xMZs45l+\n",
              "2vPV/4okwPNfOaR9CWkY1u69tLqJGRa894Vb7rn51uc0CdVbgMV7+z88+iyxY+jQROi0nsFXHec2\n",
              "DIlG+FyO70a8QBls5Bb92G3ckpu6E4uzqLgWqJrXsYQPkSJYFMFCzCsAozo256RJtz+TQBS0jM7v\n",
              "i/kyvo8jNk0rLnSlvn5S7V+vyTxJJQAn8yuqcPehbzZ3KuiMF4Gy4hKwLOzNIEYu7KZMer/x6ZaX\n",
              "875c+t3+J/GIALoHz6LKM4NJmrDfWd7igy662STzUXBWK2leiPrrcZvdaV5anBfSgAYfIQ+Ng4/z\n",
              "G06MxYAG6I5vTMfyhgGgpvzjAAABfUGa90nhDyZTAk8AHdqjlwG+NZkrFKD57XguWPQDVNIQokVz\n",
              "S50Uq1NBVqkpREkd9Bw5Gkq90DIS6dhf4tc761SO1oo0i5Y0FYxzEE/8aLuesniuVge9TxDheF7r\n",
              "T8YHRboWa0BwECXCDY1/IAk3WVXGxzhjpMpxtJJJh9ZjUz3+qokWzTpWLl/GWw4SMILTLSLjU9EG\n",
              "0g6+iWSue5KauVLNVFWZQ4gaj9ptF0RANf7wIjinoYOL7y68XVaNIh8Z7g/YbKPVv9nqnMfm8hYq\n",
              "gqd59ZeTnGgpW9OlgRRtn/kkhG/EEDbWcG4wd/XVfrOu6SiVGbWxSMCuMaVK4uyt+gWS/oe8wiuq\n",
              "HQquDAnaxpBiRwnJoL6nqYfaTIqCjgSj3rBziPzQTm7UPZvCdWGIAsZuQgITiEjM1W/SWB0OOPBY\n",
              "CnocHf179wAAcgpuAe5dByQiBbT/QVJL45xHcsc7HRgHtbOPKGpFyMxIRPt+61OElU4vh80vfjLk\n",
              "nAABjwAAAa5BmxhJ4Q8mUwJPAAAgOdwgGvBs7FcvwKbQzVY5sG/9f0npfEwBCuqYCZlhvzJINY+E\n",
              "BvTHnu6+1xn2dCRfJYJXnmhh4Nto9cylUYATotdjnbX5v38cdizGmgyjCtcgJ3VR4p9b9CWybwCk\n",
              "STLobYiHIs2L/loBsq/zsOQGzSlaMYG7EAYH90S+1xxqW8Ox1ybBhLQjzC0DXBc4UNELZ4gqUnwJ\n",
              "qfhPGuZNytEoSKxh9fvwdd6IbNbUxHb0wKtDlNsWXv9zcv4D74xyoytclSC5JOi4CMIegfpjvzYD\n",
              "VGhuAMT7V6DogtXsf0WuRkQvPemEwYwk/v5H6q+L9cRFD/7dI3TLDkvKI+PiSfh8bxBEOliJyRP9\n",
              "hDGzvHU8/go8z+VP/kmu2v5UQXHsAZVSFTctdVHKjrJ5jMOL9OW4ksog5KXqlV722Mpy8o4y+MsP\n",
              "yGF+I2nfSSoDoE6r0erv6wgRZ0pFzJFrsihis+XTQrMu/Z+xWXPzpfPIEHlwlbsnBQv4eMNh3vA5\n",
              "krblG3TPM7AZrjx2LwrfntecLhOYEE7HgSXSTZRPDrNUjnW42AF3AAABm0GbOUnhDyZTAk8AAAMA\n",
              "Op/lOi5aN43HrQrLCQ8n5ZLFtOmT9zd738YITc9lHRxWONtZD4djXcxO+zK+9Z5skKrG5kjbO68T\n",
              "6yu6QNH6Q3QG5rWqCJuMxSacLvCpH7Xi4xAMpNcN0gsR/HERTfxi1XVMhHkG1a3getdmZt4AWE1X\n",
              "qC94Erbj5pLZ22k7y0L/9cDkF61ZFm9TF1vGMef4LORI8ESMYyqvV0haIep4XjJy0nrWKyb3+UM4\n",
              "UGshlRs7qAkNZdS9GfNWDZ5C91gC4YKq2dlUBhMErn17oLLubblNEp7/+v+92B8YsRV933rmqwzC\n",
              "Kqe+UTJXnzLMMA9KeFx2IRH3DODl+P4LJigTN/l127GD3S3aqRzTTB6/ez8le8T970wiqaHzfzYW\n",
              "GLI5c0ZUXuiYmR1fcMx6Xo4jsAbM0LelEEMfO4G0SQ2OqbpRSSMeQZP3EjcdveWxoZh7TCIhMt7s\n",
              "inKxMZMrz3qflzJ+EKQRwL9YqH9TuHeJ37b1aJ47kWoEFRgvNURCSrGvGIyG+/3UYi4AjycG/AAA\n",
              "AZNBm1pJ4Q8mUwJPAAADAABtP8p0mUkbWsmaOgqzB6eeqwtpzDPAA1SReUtXyEd39Vj5dYp8813b\n",
              "6dFU6yj2OF5UDFnypAn1+qn3/m18vfOV/5YfiD5bEWsBB1ONEX+d4oPbMPH1RHovsChWiYXju1z0\n",
              "jjRgHMFC7gkQJR6Q1dD4SVQEmMfCWDLWnNh7VDmVPOmuStDHH73dcEiEUTmE2/GohaI26VyX6rrr\n",
              "5bnLT5PihaqQ9Yani1INid9+GoVowkQGbod4rotLhA8ttmsE+/Dm1YgBDOslGabmOBxO7PyPbOII\n",
              "PN4U5Mo+UnAu0x4423K5KVrcBXUz0UTZ0KijdzhwvfgRyB98VBXc4Sk9Fa7jmPjxxo75ojknQVZJ\n",
              "OyNqepP64jEXIM5Au7HoTF2ERkm3LmJst2kwWK0SNyevcyavZrmprmC92hVcFYA5JX3MfMOwwtBb\n",
              "BB/AK+aE7k0wz0JBPNVay0yDGtbVEvB96blyydG7N3lBQWSdRed/t6P+OrAzRFsGpwNw9NvbNRS+\n",
              "5x2L9QshAAABiEGbe0nhDyZTAk8AAB1P8t6QE5t9Q1t6spHeFHUqoAxS9CaQKf8mhLWcYM2v3mX2\n",
              "Lf91t6dJN0sEWc6FyOWBvz+OqJPxB149aLo4t7lmmLZeUqpA5wNJb5kyi2E5Rbj4v9aQ/LHxuSro\n",
              "qtpLpl23UmremrgptVp90DTanCpWLbhx8MuDlVjBUH1Lw/mw54Lx4dnpaFFPXq00/i/qUDjuqgcZ\n",
              "13f0NPA0fSULLj7pk/4b43t6dyocbi/axDzbA4IMOMk+ECjTqzpnbiGgEpuoBQsNoIz/G+4fOAB2\n",
              "t2UTstTbhbKXwyoHDrX0lOY4K4hHr3LJW+VI1Ei15r7+2R7dg7DJbRXBpYTJY168Idas6K8s3/wW\n",
              "ExrCo7fEg0HtYJFwD1J42MH5NNVuy0TDGUf0oaFCrGagpgEOFrLf7umKgZAgzogrNTktilQG09DE\n",
              "R0OOLJpyv8wn2j8zGK02iLzVggmB91TEaC8mzNP2SeBisVecicS+EuUw64wkllwh58YcT9PRwDUb\n",
              "C4TcAAABlUGbnEnhDyZTAk8AAAMAADk+w1oWcbmh04T7B2ae+C0S8cTBofpn31RFJm0BwEwPsE22\n",
              "6SIowqz5Rj98v1A9VyFvUvRYm0PFdI2YtK5QtyWWFTeraUL4QrMdQK/UZB34CeWEYn17abOQqz0I\n",
              "PthIPT7zHitnCiKYpiFgc0Baw10YdvC3Cf5UwMb/RTdETfRq45IqLohB/5nboF4yAN1ah8GyU5uz\n",
              "c8noK8LtTDt4zfkdo55UBKdgtm1xTS4Kd9Xh0N7xAr6jnUDu8Lm3nN40UmDe4TkomPliV0oyRjaQ\n",
              "FoHGbhCFgACC1bhRd7LVsUHG6Ym8if9eyA4Z9wqHBjjr3M/9Q1WvmGmy+zlptBGbf8bXARiGYnfR\n",
              "pN6X2uIyCYBNmvu+SPhPxN9Ap7X+duK0JEdbbvg64np8pu4hC6WtXgs70Hcj3diDZZKP4mKdzkwC\n",
              "XsZyMZ50I4Sqi0RUiguO9EBWp67/sXu87sj2ug6CljzV7jdvpFmqbp9sAQiJVhnDAQ4/gLCHWmtr\n",
              "Ox/ckr5wGTXo4Nri7QAAAadBm71J4Q8mUwJPAAADAABOeWNRF2/jBCbnso+YN6sC4SnjKP0GShYk\n",
              "zxRbp+VzEk+Au2afgKo9+9jnszneokqTxTOK6RvefT6POy/fKstB5s+op/SHvraM+WNXKG0510+D\n",
              "+84WSsAPQNCWkFN1dcQyoJ5lckygNtKgBYOVIXxyXVqjjGBUXQZb193q7pggIAvLDYNTyG2wJNqk\n",
              "4QWa7n9MOaLlzYx4VwNVQBHqsmRk6WY/RDKJ6XupyhdO5qJ3inncQrL9PEa/x5pg1Rs5qPaBc852\n",
              "xQSA6WUc7lYbcZ9VZkYdmdmMvdhLZT1880wsEr7YYgFT9fLflx4asS5IFv+br6IvVYwqpm2Wn59s\n",
              "tzwPu4oSot4Pz2HldSCKKBCUB0EBQXtJlD51bIeq8zNude1wriv9TA6kYT08oCMIaZwAjQo8pKfI\n",
              "1J+Uep2/3RZubEwEb5zSWtENr3VkxljnDrqtApPE3x8R3n2ODq/a1JM5nEp/Z9m93hC9OWx7iUVx\n",
              "AyvPzLQ1/UJSKB/0rc9gVcwYXuIH/uZ+xYmlyG3CBmUGbuOCkxjAKJkAAAGlQZveSeEPJlMCTwAA\n",
              "AwAAUL4FldCf9gS7d/GCE3PZSOL28+6ENB5g7PSU/J3yFLb6oe6h/U2CbnWRpjF8rjRixjkLqGyq\n",
              "j7RH8obi+L1d1HfeTSgNRXZgwCdAHkN2c2oRm0ZKGjOHjkBAUJzIY4+P/cR/MfxOMh0eR/SvPugP\n",
              "0GXA05J4fB44R+TBJ8r0XKvG7nz4inOUvlIPgyoTErnlnnV1vR3cIDMT3j+3IM0O3+DY+/uD2x5j\n",
              "AnX4cYeEMen6HweY2AdiAy1vykoMwziuDvzS3ZE1TMX0YDQZTFoSUEHjy7zjx5Fw1sDQiRrGxrpR\n",
              "cg4y3uBz+Ba86Sg5pvJ00HMmBJ0psfW25KEul19oJaHiDMmHF6YkRiRtGtEW9XrXh6AF3pGa16jW\n",
              "gRbo+xD04DSN6RhJtkoptt3ZTJ/t/3REm44O85vBD1Aa939nveXt3LJ0qX6bGJoKpMLLeEsrNIHm\n",
              "+71hVZQhyG2szj7azFWCWJUNzsrW0ObUpkZR27ONVT8G2C/6yHRbSOF8HLx/KW0Ab2X3Pzne8W1f\n",
              "TYx7hb01YZYDEgAAAZdBm/9J4Q8mUwJPAAADAABBkwCyxq79v4wQm57KOjjS2fle/ioHNKF5gEQ+\n",
              "5b7KZX3rPNkhVY3Mkktqq1Ldd0gaP0hugNzWtUETclZ3agu8KkfteLjEAyk1w3SCxH8cRFN/GLVd\n",
              "UyEeQbVreB66GeaPACfDA65pR9STYtNJbO20neWhf/rgdzfcjIma3ADZJZ9yrcMvHIkeCJGMZVXq\n",
              "6QtEPU8Lxk5hlXqOP3l77c7Hgoa+VNKDqysN3Fh1thXoz5qwbPIXiagTIfJfsqSgyxxXuv6ZKHvQ\n",
              "mc2n/SjZDc1szXAqEVfeEc8nENBLC2jlEzP5wAkdV+eQZWXxLvHsOP7+VbjDwWTFAmb/Lrt2MHul\n",
              "u1UjTKP15iVy+keKJXneCkM1s/xZYYsjlzRlRe6QGJoPv4ewW468rgIQcBodKBo5IWHG4G0SQ2Oq\n",
              "bpRSSiOML65eIBk1QXY0Mw9phEQmW92RTlYmMmXvwT7LoQvqP+6MsJ7v1iof1O4eOLyIGwlro9j6\n",
              "3yISVY14xGQ33+6jEXAEgBDe3eyiEAAAAV9BmgBJ4Q8mUwJPAAADAAA3Rpt5+UgWjLBR0o+dMfrX\n",
              "8/RzhdGVgwjy+1/1UoCjtK0Lr1oE8wiUDFny0a22Zb5zmMrBCAguR2RHmEkcRckA+iG2DpDxyAPm\n",
              "qh3weMZpd79uwvVCsea+HJ64Nw7303STi7Rc10QKAggw9WKxUOLKhcTdTEew0mHRXDmBJsdcH23Z\n",
              "6Otepw2i9H7paST1dw/VcmEEKwwtGn26NdyjBTBAfVFHDr2yNDzifMHR4hDMnxHcfKgpxQrlu6n+\n",
              "bMA/j6kJ4b+VhcZNU503tHz5K79+Eb6Z8YwEYWsRGfO6BghRZLDtX0TSakhPIBkQdzTDPHxHkAeD\n",
              "lu3spRuy9J2tQheAMe1pQed4C/K1ZV3i0rdzXnxiZhpQ2jBvLDV+69lguyuoyOzO0ZWUN8AohG10\n",
              "fjdDcYaso8CGhMKCBiPJmO3faE69X2x+ROlgcFWO23GXGxkAAAGOQZohSeEPJlMCTwAfPAhoFH+C\n",
              "oQq7C5fToqnWUexwvKgYs+VIE+v6kqyZvGG9BX/liJjXL8F979jfONEX+d4oPbMPH1RHovsChWib\n",
              "8piRUvHjMaYYpuAxdwSIEo9Ia8x7zTjb4aaxme0N1uPMhtUOZU86a5K0McfvgxxXz2v44Qa/4Bg0\n",
              "aDl7kv1XXXy3OWnyfFC1Uh6w1PFsCrGgTdw9PqIDN4RjW7r20uokZFryZf1QIAQzrJRoE6q3AYr3\n",
              "9n559Flix9GecFmAx1aouyvxNs3pelQ0y1+uRWlE2e5O7DbuSU3dCcXZ1FwLVE1r2KZVm9s6xbrX\n",
              "KwrAKM6NuekSbVHCA4TcK96b4v5Mr6PCrQk8QvPFWry2UNovyTxJJQAn8yuqcPehbzZqx1n4lwGy\n",
              "48OVwfw8z89oOqQHU7/x6ZaX875c+t3+J/GNXNqSc+LKM4NJmrDfWd7igy662STxIcdGq66g8vrV\n",
              "w5HRObj1nBfSgAYfIQ+Ng4/zG06MxYAG6I5vTMfyhgGgpzJUSmAAAAGAQZpCSeEPJlMCTwAd1wXp\n",
              "feO1WDnF6LBGOlipogEJCJqVEKguOh7tdzQVapKURJHfQcORr5DSRkJdOwv8Wud9apHa0UaRcsaC\n",
              "sY5iCf+NF3PWTxSIJ8MbchFN9e60/GB0W6FmnpMCklwg2NfyAJN1lVxsc4Y6TKV4LAvW4ObMk9/q\n",
              "qJFs06Vi5fxlsOEjCC0y0i41PP5tIOvolkrnuSbCYjZqouTKHEDUftNouiIBr/eBEcU9DBxfeXXi\n",
              "6qwpEqE/cH7DZR6t/s9U5j83kLFUFTu/EyO+caClb06WBFG2f63yEb/jXVqrtzam5YSb/s67pKJU\n",
              "ZtbFIwKyrVobi7fL/Asl/Q95hFdUOhVcGBO1jSDEjay/QX1PUw+0mRUFHAlHvWDhSTuDIzLKodr8\n",
              "th2KBYzchAQnEJGZqt+ksDocceCwFPIYRYhT7gAA5BTcA9y6DkhEC2n+gqSXxziOgY52QjAPa2ce\n",
              "UNSLkZiQifb91qcJKpxfD5cUsuXJQ6AJiCbhAAABsUGaY0nhDyZTAk8AACA53CAa8HXLJHve+u0/\n",
              "UKEmNtLqIBlA4IANT0jjmZXP8SveByvOCZvz3dfa4z7OhIvksErzzQw8G20euZSqKJB0UDH7tr83\n",
              "7+OOxZjTQZRhWuQE7qpUU7kQUoAxJaERSe599eX0/xEf5FCbKv87DkBs0pWjGB08Gy1CW+OeuONS\n",
              "3h2OuTYMJaG+YWgS4LnChohbPDuctfA1r9hs1CnNHu8CROy4fX78HXeiGzW1MR29LyOlm0X16uz2\n",
              "XPhH98Y5UZWuSpBckzRcBGEczgJnyCBDtbJb1WJ9q9B0QWr2UnXaTj8fvSee0wYwk/v5X6q9/88E\n",
              "QL/26RumWHJeUR8nQ0/D43iCIdLMTkif4/IbO8dTz+Ck3hgzPJk121/KiC49gDKqKqcdwi+yo6ye\n",
              "YzDi/TluJLKIOSl6pVkgsOQ9323O4hhVIS2/EbTvppUB0CdV6PV39aQIs6Ui5ki12RQxWfLplIGP\n",
              "Dc/YrLn50vnkCDy4SumTgoX8PGGw73hpcek2nM/gPbqny+47F4Vvz2vupogR73bHgSXSTZRPELNU\n",
              "znW5CAXFc6gAAAGiQZqESeEPJlMCTwAAAwA6n+U6Llo3jcetCssJDyg6XACGNBvIHynsIVQSv2/j\n",
              "BCbnso6OLh3ZPFOuUfZAo5P3CnxGmvs++MWhglkxPrK7pA0fpDdAbmtaoIm5PqTThd4VI/a8XGIB\n",
              "lJrhukFiP44iKb+MWq6pkI8g2rW8D1i4OI7gCyVA7QXvAlbcfNJbO20neWhf/rgajXmrIs3qejd4\n",
              "xjz/BZyJHgiRjGVV6ukLRD1PC8ZOWB7JJWTe/xJVkjk7SfZWG7iw62wr0Z81YNnkL6emMrzKp2Vs\n",
              "skkFUOqDHZdzbcpolPf/2ALmW7jFiKvu+9c1WGYRVT3yiY47G15hgHlVCcdiER9wzg5fj+CyYoEz\n",
              "f5dduxg90t2qkfW9IUrLwzUXoR7UUV9l2oW2f4ssMWRy5oyovdGLCSCIGGTZ6T05fAdi/OAm7BrQ\n",
              "vyavEhsdU3SikjQGEafuDBvWuGrjQzD2mERCZb3ZFOViYyZPhxU+GmEy7FWJhqd3TopaObejvDb9\n",
              "t5tjVvW1FbY3scfuFvxs8AYjIb7/dRiLgCOwCZk5WQAAAZBBmqVJ4Q8mUwJPAAADAABqv8uWD5/P\n",
              "zINORYHtCwKMrti5HuLYKljgRGhd/xY2XQEfL6dFU6yj2OF5UDFnypAn185Sdruoim9BX/lh+IPl\n",
              "sRawEHU40Rf53ig9sw8fVEei+wKFaJhvC7XnSONGAcwULuCRAlHpDV2JA8g83fp4SwZa05sPaocy\n",
              "p501yVoY4/e8YGkQiicqkD8aiFojbpXJfquuvluctPk+KFqpD1hqeLUEjIDnJ5+ZWjCRAZucPTWq\n",
              "aWVG+CWANtVvozasQAhnWSjNqpUq4ndn5HtnEEHm8KomUZqCtQIElz3E/8lK1uArqZ6KJs6FRfu0\n",
              "9H3sAV6KwBjK+k4Sk9Fa7jmPjx/o75BWZszDhHGhygeKcjXh30fs5Au7HoTF2ERkm3LmJst2kwWK\n",
              "0SZyevcyavZrmprmC92hVcFYA5JX3MfMOwwtBbBB/AK+cE7ksTRRmOcHFvbUamdjsafYOr03DL50\n",
              "bs3eUFBZJ1F53+3o/46sDNEWwanA3D029s1FL7nHYv1qChZxAAABjEGaxknhDyZTAk8AAB1P8t6Q\n",
              "Ed4wyY1J2tpO2ADIs4QzEW9uc90JazjBm1+8y+xb/utvTpEM2HvQ3VuRywN+fx1RJ+IOvHrRdHFv\n",
              "cs0xbLylVIHOA+fdTJlJo9pcOsaZyHo8sfG5KvAV7uv08r4OmHSse47YVFWn3QNZ1SI/YtGXf3AW\n",
              "x93RsP7UvERplECOPDs9LQop69Wmn8X9Sgcd1UDoeu7+jrnTUrDXfzk+Pffhvje2d70kr7SusQ8y\n",
              "kui3ZxknwgUaqGJUnF/iClOIVOvSwJCMLb7lUAAIvfZRNu1NuFspfDKgcUMDpkXPurie5s0snpgf\n",
              "o3Ow/Tndtm7bsHa6DaK4WnERNq0XaIn/RTDDb7jajMawqO3xMtPwWB7WvN5GPSNzQTVbstEwxpIB\n",
              "fuhV00QQ5F8MWtZb/GYio2sIM6oKzU5LYpUBtPQxEdDjiyX+r/gZ9ifMxitNoi81YIJgfdUxGgvQ\n",
              "P5EZAXgwq37rHFLoWaey0bp0zdkCVnxhxP09HAMZXjpX1tkAgQAAAZBBmudJ4Q8mUwJPAAADAAA0\n",
              "yxPLVv9lFhT8KEgT4+/Kg3s/gnsoiYTNoDgJgfYJtt0kRRhVny1HZUCbA9VyFvUvRYm0PFdI2YtH\n",
              "tzSHFgCpvVtN1eEKzHUCv1GQd+Anu3iw4VOmzkKs9CD7YSCeMf/ek5woimKYhYHPm1ONdGHbwtwn\n",
              "+VMDG/0U3RE38bq9cLEpOwkGCkjluMgDdWofBOkTk0PPJ6CvC7Uw7eM35ISOeXOLHYLZtRyaZCk9\n",
              "hPtgQNqNGB2mzY+BOSz7DQ4H9e30pNu34Edgp78OvACUTiKgAAfA+4h/ey1bFBxumJ0bl/XsgOGf\n",
              "cKhp8/opZObBgSCtQGa7Uw5QEUCyZte4U/hpHNGk3pfa4jIWAQJggdiNZX/E38CygjwPkjZ1tu+D\n",
              "rienym7iERigDmFQUGda+4KqmbRmrob3OOCadBL2M5GM86EcJMy/u+5U/KWWMdUeo7riGJkSd6Uu\n",
              "q9SgUseavcbt9Is1TdPtf+xlj84oVGemhlOexgbaex/ckr5wGTXo7Bv5AAABo0GbCEnhDyZTAk8A\n",
              "AAMAAE55Y1EXb+MEJueyj5g2jWAkKZPkvtfXX9Pz5XiInQKFs0/AVR797HPZnO9RJUnimcV0je8+\n",
              "n0edl++VZaDzZ9RT+kPfW0Z+KZ1B8t71SkH95wslYAegaEtIKbq64hlQTzK5JlK6P4P7H1KQvjku\n",
              "rVHGMCougy3r7vV3TBAQBeWGwaq0URSwzmThBZruf0w5ouXNjHhXA1VA8UA4cyAxmP0Qyiel7qco\n",
              "XTuaid4p53EKy/nRGv8eaYNUcej6g1fnnOt/SEHSyjncrDbjPqrMjDszsxl7sYuEb0aejCwSvthi\n",
              "AVP18t+XHhqxLkgW/5uvp5iyfvajNstPz7ZbngfdxQlRi9Ix2/K6kD7UCEoDoICgvaTKHzq2Q9V5\n",
              "mbc69rigeQiwN1IWnp5QEYQ0zgBGhR5SU+RqT8o8wF7lP/dMTARvnNJa0Q2vdWTGWOcOuq0Ck8Te\n",
              "7xHefY0er9rUkzmcSn9n2b3eEL05bHuJRXEDK8/MtOkdQlIoH/Stz2BVzBhe4gf+5pCX4bRoOls6\n",
              "oywAGiBegDUgAAABokGbKUnhDyZTAk8AAAMAAE2TBO+jTdu/jBCbnspHF7ciB87fwPzpW6d1R0Dv\n",
              "xysRE1D+psE3OsjTGL5XGjFjHIXUNlVH2iP5Q3F8Xq7qO+8mlAaiuzBmmRiFUbs5tQjNoyUNGcPH\n",
              "ICAoTmQxx8f+4j+Y/icZEyObGRsQa/EW5cDTknh8HjhH5MEnyvRcq8bufPiKcySgmBNjeoYsLFKR\n",
              "t/kq1ajgkYnvH9uQZodv8Gx9/cHt1gP7KEAcYeEOcn6HweY2AdiAy1vykoMwziuDvzS3ZE1TMX0W\n",
              "tQSGa5lpVHjzGXjx5Fw1sDQiRrGxrpRcg4y3uBz+BZsaYQoCHbi5TMmBJ0psfW25KEul19oJaHiD\n",
              "MmHF6YkRiRleEiLesOC8dAC70jNa9RrQIt0fYh6cBpG9Iwk2yUU227BFHN7f+MRJuODvObwQ9QGv\n",
              "d/Z73l7dyydKk0GxiaGpIiy3hLKzSB5vu9YVWUIchtrM4+2sxVWdiVDolDN2ESMFUIQ0uzjVU/Bt\n",
              "gv+sh0W0jhfBv7wYttAG9l9z853vFtX02Me4W9NWBnwAAAGfQZtKSeEPJlMCTwAAAwAAQZMAssau\n",
              "/b+MEJueyjo40PQ7X/luKjbtZD7kf+NS31SdvWebJCqxuZJJbVVqW67pA0fpDdAbmtaoIm5Lru1B\n",
              "d4VI/a8XGIBlJrhukFiP44iKb+MWq6pkI8g2rW8D1ylA6PACfDA65pR9STYtNJbO20neWhf/rgd1\n",
              "AkyRM1/NX6Lx+9aWufW4IkYxlVerpC0Q9TwvGTmGUH7vBvMMQrkE+lyn9B/aT7Kw3cWHW2FejPmr\n",
              "Bs8hezqBMh8l+ywJQ7LpU6/F8t2yt5TRKe//r/xjQm3vgaB7qwpR6kT171PfKJmZdwDisPfuYqy8\n",
              "QtdUXE+Qh0KBXvx/BZMUCZv8uu3Ywe6W7VSPlJ8Itp/xcnGoPf7DbePJT2/mwsMWRy5oyovdIuDL\n",
              "UgTP7PyRxHYA3k4Rz9TA2zEQJ6qnvEhsdU3SiklI4o4KHOpbkyvty6NDMPaYREJlvdkU5WJjJmzb\n",
              "iezc5bQyHS5RWLGhHUP6ncO+J1cjXbZtYQaeiq1XIhYmFvxs8AYjIb7/dRiLgCPot42l4QAAAV5B\n",
              "m2tJ4Q8mUwJPAAADAAA3RpdUQH/8IYCqrL3R71lJ1crMoAwcYTum9cqP6qUBR2laF160CeYRKBiz\n",
              "5aNbbMt868HJEhAQXI7IjzCSOIuSAfRDbB0h45AHzVQ74PGM0u9+4qwFBWPNfDk9cG4d76bpJxds\n",
              "+qn4GBBBh6sViocWVC4m6mI9hpMOiuHMCTY64Owwz0da9ThtF6P3S0knq7h+q5MIIVhhaNPt0a7l\n",
              "YNIDqyQ1NevbK0POJ8wdHiEMyfEdx8qCnFB1650H54qYoGo8nhv5WFxk1TnTe0fPkrv574opnxjA\n",
              "RhaxEZ87oGCFFksO1fZgXnMrtgGDN/W8lOS+SyA8HLdvZSjdl6TtahC8AY9rSg88QF+VqyrvFpW7\n",
              "mvPjEzDShtGDeWGr917MzjTVRkdmdoysob4BRCNro/G6G5mvE7GIy0P0oDEeTMdu+0J16vtj8idL\n",
              "A4KsdtomGAAAAYpBm4xJ4Q8mUwJPAB88CGgUf4KhCrsLl9OiqdZR7HC8qBiz5UgT6/qSrJm8Yb0F\n",
              "f+WImNcvwX3v2N840Rf53ig9sw8fVEei+vTQSchPKM1Lx4zGmGKbgMFHTCcgPf2ho3IhEN7PWMz2\n",
              "hutx5ldudraFpN49GJCYmQbP5HG1+85df8AwaNBy9yZTpPeWsZK7xMZs45l+2vPV/4okwPNfOaR9\n",
              "CWkY1u69tLqJGRa894Vb7rn51uc0CdVbgMV7+z88+iyxY+jQROi0nsFXHec2DIlG+FyO70a8QBls\n",
              "5Bb92G3ckpu6E4uzqLgWqJrXsYQPkSJYFMFCzCsAozo256RJtz+TQBS0jM7vi/kyvo8jNk0rLnSl\n",
              "vn5S7V+vyTxJJQAn8yuqcPehbzZ3KuiMF4Gy4hKwLOzNIEYu7KZMer/x6ZaX875c+t3+J/GIALoH\n",
              "z6LKM4NJmrDfWd7igy662STzUXBWK2leiPrrcZvdaV5anBfSgAW05LkqtXO3TH8dE0AIPbpjJdi2\n",
              "do8Q4BTrAAABf0GbrUnhDyZTAk8AHdqjl91wBC3KOnaOwXUnMIJcEh0Qgqj+ZffmaIXc0FWqSlES\n",
              "R30HDkaUb3QMhLp2F/i1zvrVI7WijSLljQVjHMQT/xou56yeLdmB71PEOF4XutPxgdFuhZsyHAQJ\n",
              "cINjX8gCTdZVcbHOGOkynU0kkmH1mNTPf6qiRbNOlYuX8ZbDhIwgtMtIuNT0bKSDj6JZK57koLC0\n",
              "s1UVZlDiBqP2m0XREA1/vAiOKehg4vvLrxdVmEjrpFqw5Wyo9W/2eqcx+byFiqCp3h23BOcaClb0\n",
              "6WBFG2g8ySEb8QQNtZwbjB39dV+s67pKJUZtbFIwK6RpUri7K36BZL+h7zCK6odCq4MCdrGkGJGt\n",
              "JyFcv8ND7SZFQUcCUe9YOoT+aCc3ah7N4TqwxAFjNyEBCcQkZmq36SwOhxx4LAU9GVode/cAAHIK\n",
              "bgHuXQckIgW0/0FSS+OcR3rHOx0YB7WzjyhqRcjMSET7futThJVOL4dJb46B+rptEJuBAAABrEGb\n",
              "zknhDyZTAk8AACA53CAa8GzsVy/AptDNVjmwb/1/Sel8TAEK6pgJmWG/Mkg1j4QG9Mee7r7XGfZ0\n",
              "JF8lgleeaGHg22j1zKVRgBOi12Odtfm/fxx2LMaaDKMK1yAndVHin1v0JbJvAKRJMuhtiIcizYv+\n",
              "WgGyr/Ow5AbNKVoxgbsQBgf3RL7XHGpbw7HXJsGEtCPMLQNcFzhQ0QtniCpSfAmp+E8a5k3K0ShI\n",
              "rGH1+/B13ohs1tTEdvTAq0OU2xZe/3Ny/gPvjHKjK1yVILkk6LgIwh6B+mO/NgNUaG4AxPtXoOiC\n",
              "1ex/Ra5GRC896YTBjCT+/kfqr4v1xEUP/t0jdMsOS8oj4+JJ+HxvEEQ6WInJE/2EMbO8dTz+CjzP\n",
              "5U/+Sa7a/lRBcewBlVIVNy11UcqOsnmMw4v05biSyiDkpeqVXvbYynLyjjL4yw/IYX4jad9JKgOg\n",
              "TqvR6u/rCBFnSkXMkWuyKGKz5dNCsy79n7FZc/Ol88gQeXCVuycFC/h4w2He8DmStuUbdM8zsBmu\n",
              "PHYvCt+e15wuE5gQTseBJdJNlEr7sHlqgAm5AAABmUGb70nhDyZTAk8AAAMAOp/lOi5aN43HrQrL\n",
              "CQ8n5ZLFtOmT9zd738YITc9lHRxVYcYq6eHfrfZlfes82SFVjcyRtndeJ9ZXdIGj9IboDc1rVBE3\n",
              "GdSNW7l9aR+14uMQDKTXDdILEfxxEU38YtV1TIR5BtWt4HrhNbrbwCumq9QXvAlbcfNJbO20neWh\n",
              "f/rgcr9n+Ys3qYut4xjz/BZyJHgiRjGVV6ukLRD1PC8ZOW3prFZN7+44L/I2Qyo2d1ASGsupejPm\n",
              "rBs8hkdrhMh5YUXIxL0IgqZ690Fl3NtymiU9//X/fRbjgWIq+771zVYZhFVPfKJlGtQIvRTC4yV3\n",
              "m6QS3wzg5fj+CyYoEzf5dduxg90t2qkZzUeYoF4/JXvE/e9MIqmh8382FhiyOXNGVF7oai0dX3DM\n",
              "el6OI7AGxEa3pLhDHzuBtEkNjqm6UUkhjkGT9xI3Hb3lsaGYe0wiITLe7IpysTGTJs96n9cyfhCk\n",
              "EcC/WKh/U7h3it+29WieO5FqBBUYLzVEQkqxrxiMhvv91GIuAI9ihl0AAAGRQZoQSeEPJlMCTwAA\n",
              "AwAAbT/KdJfbiKGXVDKDAk1e63elHOAQhwWtkxd7aq0Pu3y6xT55ru306Kp1lHscLyoGLPlSBPr5\n",
              "xE/Rr/g985X/lh+IPlsRawEHU40Rf53ig9sw8fVEei+wKFaJhkq7XPSONGAcwULuCRAlHpDV0PhJ\n",
              "VASYx8JYMtac2HtUOZU86a5K0McfveMDSIRRWziB+NRC0Rt0rkv1XXXy3OWnyfFC1Uh6w1PFp6Mw\n",
              "0/4ahWjCRAZuXXZbdHnCB5bbNYJ9+HNqxACGdZKM1BFsDid2fke2cQQebwqZpx8pOBdpjxxtuVyU\n",
              "rW4CupnoomzoVEDZ79cAEGfXFFDGV9JwlJ6K13HMfHjiASwPMpOgqySdkbU9SfmrGIuQZyBd2PQm\n",
              "LsIjJNuXMTZbtJgsVoj3k9e5k1ezXNTXMF7tCq4KwBySvuY+YdhhaC2CD+AV8uJ3JphnoSCeaq1l\n",
              "pkGNa2qJeDD03Llk6N2bvKCgsk6i87/b0f8dWBmiLYNTgbh6be2ail9zjsX6hZAAAAGGQZoxSeEP\n",
              "JlMCTwAAHU/y3pASG30pRm3P2o/oAo4NMfcDaexQqpOMGbX7zL7Fv+629Ok1+yB9/D8Wn89cWL29\n",
              "En4g68etF0cW9yzTFsvKVUgc4Gkt8yZRbCco9R8X3VIflj43JV0VW0l3IMbqTVvTVwU2q0+6BptT\n",
              "hUrFtw4+GXByqxguxcDSBehkPRx4dnpaFFPXq00/i/qUDjuqgcZ13f0NPA0fSULLfbpk/4b43t6d\n",
              "yjyzqZliHm2BwQYcZJ8IFGnVnTO3ENAJTdQChYbQRn+N9zTcAEGHPvHQ6m3C2UvhlQOHWvpKcxwV\n",
              "xCPXuWSF8FJqJFrzX39sj27B2GS2iuDSwmSxr14RGQR0VJSv/gsJjWFR2+JBoPawSLgHqTxsXPya\n",
              "ardlomGMo/pQ0KFWM1BTAIcLWW/3dMU/yBBnRBWanJbFKgNp6GIjoccWTTlf5dPtH5mMVptEXmrB\n",
              "BMD7qmI0F5Nmafsk8DFYq85E4l8Jcph1xhJLLhDz4w4n6ejgGqzDgOmAAAABlEGaUknhDyZTAk8A\n",
              "AAMAADVew1KPUpccLN82a4jJuU4YX5qarfVEUmbQHATA+wTbbpIijGOR0xcfThNwCvR/UwAxm0PF\n",
              "lGGBc0ShOBZYVN/kisC8IVqOrKdVGQcig11xGJ9e2pddnDgmhy2tXYwO4l124V4eluTuGvcJZWuj\n",
              "Dt4W4R+yoFjf6KfIib+Hxh0aB+nYR9GdugXjIA3VqHvl5ThGN0aegrwzFMO3jNOSyzz2hQbnotm1\n",
              "w4/IKZkYg2BFk6oec9gdWqnhc285vGikwb3CclFU2AJLRgwaF+HXdhKJxHcAAHvX02p3stWxQcbp\n",
              "ieaVcivjl4/u9wzyUdejL5Pq0dfMNNj/nLTaCM2/42uAjVVZ4E/sZfwTmRkLAB+RQN8kfCfPFbl8\n",
              "5vVC/ZDEe9Zk+Drkenym7iEJpa1eCzvQdyPd2INlko/iYzG2e22jzf125zF9CVOWiKfcFx3ogK1P\n",
              "Xf9i93ndkg7qqwUmp1VRnV9Us1TdZZQBkSMmISMBDj+AswbWxtp7Dtyg+gIYQVisGNo5AAABpUGa\n",
              "c0nhDyZTAk8AAAMAAE55Y1EXb+MEJueyj5g2x2GsIDsPJfa+uv3AzyuYknwF2zT8BVHv3sc9mc71\n",
              "ElSeKZxXSN7z6fR52X75VloPNn1FP6Q99bRn0Bir/y3vVKQf3nCyVgB6BoS0gpurriGVBPMrkmUW\n",
              "0JqzbBepC+OS6tUcYwKi6DLevu9XdMEBAF5YbBqgdJsBuAFcILNdz+mHNFy5sY8K4GqoHXlZMi/U\n",
              "sx+iGUT0vdTlC6dzUTvFPO4hWX86I1/jzTBqjex5zWo3itRw8L1Wl353Kw24z6qzIw7M7MZe7GKQ\n",
              "EJs8YwsEr7YYgFT9fLflx4asS5IFv+br6eYsn72ozbLT8+2W54H3cUJUW56YbvyupA+1AhKA6CAo\n",
              "L2kyh86tkPVeZm3Ova4oSd2pgdSFp6eUBGENM4ARoUeUlPkak/KPRBe5T/3TEwEb5zSWtENr3Vkx\n",
              "ljnDrqtApPE3xcR3n2NHq/a1JM5nEp/Z9m93hC9OWx7iUVxAyvPzLOFHUJSKB/0rc9gVcwYXuIH/\n",
              "uaPpfKbU75EpVYqZ30AyAgnlD8AAAAGkQZqUSeEPJlMCTwAAAwAATZME76NN27+MEJueykcXt64F\n",
              "tgSW9SERhEGm12uOOViImof1Ngm51kaYxfK40YsY5C6hsqo+0R/KG4vi9XdR33k0oDUV2YMZz6ct\n",
              "Pw1IvzJ9NqQ0Zw8cgIChOZDHHx/7iP5j+JxkPjT1dzRO6A/QZcDTknh8HjhH5MEnyvRcq8bufPiK\n",
              "cuvHwL+DKhMSueWedXW9HdwgMxPeP7cgzQ7f4Nj7+4PbQYkqhOz+iLiQ9P0Pg8xsA7EBlrflJQZh\n",
              "nFcHfmluyJqmYvouigkM31EMIPHl3nHjyLhrYGhEjWNjXSi5BxlvcDn8C1QXUSU4duLmIyYEnSmx\n",
              "9bbkoS6XX2gloeIMyYcXpiRGJGyjkEkndQXjoAXekZrXqNaBFuj7EPTgNI3pGEm2Sim23efO1+3/\n",
              "dESbjg7zm8EPUBr3f2e95e3csnSpaBsYmhqSIst4Sys0geb7vWFVlCHIbazOPtrMVZ9YlQ6JQzdh\n",
              "EjBVCENLs41VPwbYL/rIdFtI4Xwcq8GLbQBvZfc/Od7xbV9NjHuFvTVhmTMmAAABoUGatUnhDyZT\n",
              "Ak8AAAMAAEGSv4a678cS/b+MEJueyjo40tTMXPoF8yPtj9CU/uOViVN6zzZIVWNzJJLaqtS3XdIG\n",
              "j9IboDc1rVBE3JDgLjrvCpH7Xi4xAMpNcN0gsR/HERTfxi1XVMhHkG1a3geuLGZt4AaW1XlNKPqS\n",
              "bFppLZ22k7y0L/9cDrTC2VhsP7EbjyL3rS1z63BEjGMqr1dIWiHqeF4ycw1le8DaIfmiE+lyn9B/\n",
              "aT7Kw3cWHW2FejPmrBs8hfJuhLx8l+ywdFlrpq6/F8t2yt5TRKe//r/v/R4JRgaB7qwpR6kT171P\n",
              "fKJmH8gAS5AD3wMsvELXVFxPkIdCgV78fwWTFAmb/Lrt2MHulu1Uj9Oz5royO93TUHv9htvHkp7f\n",
              "zYWGLI5c0ZUXulFXFjQJn9n5I4jsAblwXhZHLK1+w3wygF4kNjqm6UUkpGbHBQ51LcmV9uXRoZh7\n",
              "TCIhMt7sinKxMZM02cT2hDV9DIdLlFYsaEdQ/qdw73HVyNdtm1hBp6KrVciFiYW/GzwBiMhvv91G\n",
              "IuAI961PhX5xwQAAAWVBmtZJ4Q8mUwJPAAADAAA/l1qUi7W6uI2s283VVtzfpyhK5pDe9RVGIb2/\n",
              "3JwH1z/FjQKr8rQuvWgTzCJQMWfLRrbZlvnJBGrEICC5HZEeYSRxFyQD6IbYOkPHIA+aqHfB4xml\n",
              "3v2/sVUKx5r4cnrg3DvfTdJOLtY4tGfp7oMPVisVDiyoXE3UxHsNJh0Vw5gSbHXBySGejrXqcNov\n",
              "R+6Wkk9XcP1XJhBCsMLRp9ujXcq5pAdWSFVB17VGh5xPmDo8QhmT4juPlQU4oKQVpIheWAA+bHk8\n",
              "N/KwuMmqc6b2j58ld/XxhNYbKTywhD4jPndAwQoslh2r7u67fldsAwZv63kobnwZAHg5bt7KUbsv\n",
              "SdrUIXgDHtaUHnhYvytWVd4tK3c158YmYaUNowbyw1fuvZm2KaqMjsztGVlDfAKIRtdH43Q3Md4n\n",
              "YxGWh+lAYjyZjt32hOvV9sfkTpYHBVjtuPvq4YAAAAGPQZr3SeEPJlMCTwAfPAhoFH+CoQq7C5fT\n",
              "oqnWUexwvKgYs+VIE+v6kqyZvGG9BX/liJjXL8F979jfONEX+d4oPbMPH1RHovsChWib8piRUvHj\n",
              "MaYYpuAxdwSIEo9Ia8x7zTjb4aaxme0N1uPMhtUOZU86a5K0McfvgxxXz2v44Qa/4Bg0aDl7kv1X\n",
              "XXy3OWnyfFcsLpr2z86gKsaBN3D0+ogM3hGNbuvbS6iRkWvJl/T/Dz74dm9Qk8fYLBObhGvPossW\n",
              "Poztr5cZdgq47zmwZEo3wuRubz2BDKTYgQE7sNu5JTd0JxdnUXAtUTWvYo0NpZpe9NWuVhWAUZ0b\n",
              "c9Ik2iuEBwm4V703xfyZX0eFWhJ4heeutYFsobRfkniSSgBP5ldU4e9C3mzVjrPxKuXT45fnwfw8\n",
              "w09oOqQHU7/x6ZaX875c+t3+J/GNUxqSc+LKM4NJmrDfWd7igy662STxIcdGq1AwOHA3q9At0SZf\n",
              "WxLKAApFM/UbBx/mS6aJ7KgwfTK+CsC5r68glCFHOpwnAAABhkGbGEnhDyZTAk8AHdcRn2IBBdJF\n",
              "ZeZa+pS1l5lYJ1XASUzkkXOxavX9QrU0FWqSlESR30HDkaWCEeSHCpH4jHER5qOGnBBpFyxoKxjm\n",
              "IJ/40Xc9ZPGRQO3MTxDheF7rT8YHRboWmhUJPEMicza/kASbrKrjY5wx0mVMW9/kxrTbMk9/qqJF\n",
              "s06Vi5fxlsOEjCC0y0i41PLKcIscymIrnuRdUuWrhUjstBxA1H7TaLoiAa/3gRHFPQwcX3l14urI\n",
              "0obs2tWHK2VHq3+z1TmPzeQsVQVPEnXa2KDGgpW9OlgRRtn74XjHAWsDbWcG4wd/XVfrOu6SiVGb\n",
              "WxSMCrocsz6PSmdvVklEHD/RXVDoVXBgTtY0gxIsl6WCNPw0PtJkVBRwJR71g0fR9IZ0G1D2bwnV\n",
              "hiALGbkICE4hIzNVv0lgdDjjwWAp2NVsFy/cAAHIKbgHuXQckIgW0/0FSS+OcRr0jOx6m83Wzjyh\n",
              "qRcjMSET7futThJVOL4fGj7H5CtAMHyJUZhAzQAAAbNBmzlJ4Q8mUwJPABq/MCFYGx/QDWrhcUY8\n",
              "SFtge/H907oMmIQV53gD75X16AJb/Er3gcrzgmb893X2uM+zoSL5LBK880MPBttHrmUqh6+Wdptj\n",
              "NWeysggfSAMDbpewrXICd1UkKeSIKUAYktCIpPc+iYhaf4iv8ihNlX+dhyA2aUrRjA6eDZahLfHP\n",
              "XHGpbw7HXJsGEtD/MLQJcFzhQ0Qtnh3OWvga1+w2ahTmobmhInZc/r9+DrvRDZramI7el5HSzaL6\n",
              "9XZ7Lnwj++McqMrXJUguMLrcnKPzQP0x35r/cpD7gDE+1eg6ILV7KbrtJx+QC/hguzh2m/v4aURQ\n",
              "1bewFD/7dI3TLDkvKI+Toafh8bxBEOiNpyRP8fkNneOp5/BSbwwZnkya7a/lRBcewBlVVVOXDhfZ\n",
              "UdZPMZhxfpy3EllEHJS9UqyQWHIe77bncQwqkJbfiNp32kVt2hOq9Hq7+moEWdKRcyRa7IoYrPl0\n",
              "ykDHhufsVlz86XzyBB5cJXjJwUL+HjDYd7w0uPSbTmfwHt2D5fcdi8K357X3U0QI97tjwJLpJsfH\n",
              "PphxpWmXcAvTWnAAAAGiQZtaSeEPJlMCTwAAAwA6n+U6Llo3jcetCssJDyg6XACGNBvIHynsIVQS\n",
              "v2/jBCbnso6OLh3ZPFOuUfZAo5P3CnxGmvs++MWhglkxPrK7pA0fpDdAbmtaoIm5PqTThd4VI/a8\n",
              "XGIBlJrhukFiP44iKb+MWq6pkI8g2rW8D1i4OI7gCyVA7QXvAlbcfNJbO20neWhf/rgajXmrIs3q\n",
              "ejd4xjz/BZyJHgiRjGVV6ukLRD1PC8ZOWB7JJWTe/xJVkjk7SfZWG7iw62wr0Z81YNnkL6emMrzK\n",
              "p2VsskkFUOqDHZdzbcpolPf/2ALmW7jFiKvu+9c1WGYRVT3yiY47G15hgHlVCcdiER9wzg5fj+Cy\n",
              "YoEzf5dduxg90t2qkfW9IUrLwzUXoR7UUV9l2oW2f4ssMWRy5oyovdGLCSCIGGTZ6T05fAdi/OAm\n",
              "7BrQvyavEhsdU3SikjQGEafuDBvWuGrjQzD2mERCZb3ZFOViYyZPhxU+GmEy7FWJhqd3TopaObej\n",
              "vDb9t5tjVvW1FbY3scfuFvxs8AYjIb7/dRiLgCOwCZk5WQAAAZBBm3tJ4Q8mUwJPAAADAABqv8uW\n",
              "D5/PzINORYHtCwKMrti5HuLYKljgRGhd/xY2XQEfL6dFU6yj2OF5UDFnypAn185Sdruoim9BX/lh\n",
              "+IPlsRawEHU40Rf53ig9sw8fVEei+wKFaJhvC7XnSONGAcwULuCRAlHpDV2JA8g83fp4SwZa05sP\n",
              "aocyp501yVoY4/e8YGkQiicqkD8aiFojbpXJfquuvluctPk+KFqpD1hqeLUEjIDnJ5+ZWjCRAZuc\n",
              "PTWqaWVG+CWANtVvozasQAhnWSjNqpUq4ndn5HtnEEHm8KomUZqCtQIElz3E/8lK1uArqZ6KJs6F\n",
              "Rfu09H3sAV6KwBjK+k4Sk9Fa7jmPjx/o75BWZszDhHGhygeKcjXh30fs5Au7HoTF2ERkm3LmJst2\n",
              "kwWK0SZyevcyavZrmprmC92hVcFYA5JX3MfMOwwtBbBB/AK+cE7ksTRRmOcHFvbUamdjsafYOr03\n",
              "DL50bs3eUFBZJ1F53+3o/46sDNEWwanA3D029s1FL7nHYv1qChZwAAABi0GbnEnhDyZTAk8AAB1P\n",
              "8t6QEd4wyY1J2tpO2ADIs4QzEW9uc90JazjBm1+8y+xb/utvTpEM2HvQ3VuRywN+fx1RJ+IOvHrR\n",
              "dHFvcs0xbLylVIHOA+fdTJlJo9pcOsaZyHo8sfG5KvAV7uv08r4OmHSse47YVFWn3QNZ1SI/YtGX\n",
              "f3AWx93RsP7UvERplECOPDs9LQop69Wmn8X9Sgcd1UDoeu7+jrnTUrDXfzk+Pffhvje2d70kr7Su\n",
              "sQ8ykui3ZxknwgUaqGJUnF/iClOIVOvSwJCMLb7lUAAIvfZRNu1NuFspfDKgcUMDpkXPurie5s0s\n",
              "npgfo3Ow/Tndtm7bsHa6DaK4WnERNq0XaIn/RTR3380LxGNYVHb4mWn4LA9rXm8jHoKZoJqt2WiY\n",
              "Y0kAv3Qq6aIIci+GLWst/jMRUJWEGdEFZqclsUqA2noYiOhxxZL/V/vk+xPmYxWm0ReasEEwPuqY\n",
              "jQXoH8iMgLwYVb91jil0LNPZaN06QWxhsN8w4n6ejgGNRkdbtsvzAAABj0GbvUnhDyZTAk8AAAMA\n",
              "ADTLE8tW/2UWFPwoSBPj78qDez+CeyiJhM2gOAmB9gm23SRFGFWfLUdlQJsD1XIW9S9FibQ8V0jZ\n",
              "i0e3NIcWAKm9W03V4QrMdQK/UZB34Ce7eLDhU6bOQqz0IP2S5USb9AK2cKIpimIWBz5tTjXRh28L\n",
              "cBqowEZG+im6Im/jdXrhYlJ2EgwUkctxkAbq1Ds8dWgWZR00m18LtTDt4zfkhI55c4sdgtmvt3fE\n",
              "KT2E+2BA2o0YHabNj4E5LPsNDgf17fVVm6aUUZIxtIC0DjNwhE4ABS8HRD+9lq2KDjdMTpkr+vZA\n",
              "cM+4VDT5/RTFYh5HRt4DNdqYcoCKBZM2vcKYJCwG/Ymffa4jIWAQJggdiNZX/E38CygLKaHkR1tu\n",
              "+Drienym7iERigDmFQUGda+4KqmbRmrob3Npu+HGz1YQO3OYvoSZl/d9yp+UssY6o9R3XEMTIk70\n",
              "pchglhVs+yuyur6RZqm6fa/9jLH5xQqM9NDKI/Ag209j+5JXzgMmvR2DfwAAAaNBm95J4Q8mUwJP\n",
              "AAADAABOeWNRF2/jBCbnso+YNo1gJCmT5L7X11/T8+V4iJ0ChbNPwFUe/exz2ZzvUSVJ4pnFdI3v\n",
              "Pp9HnZfvlWWg82fUU/pD31tGfimdQfLe9UpB/ecLJWAHoGhLSCm6uuIZUE8yuSZSuj+D+x9SkL45\n",
              "Lq1RxjAqLoMt6+71d0wQEAXlhsGqtFEUsM5k4QWa7n9MOaLlzYx4VwNVQPFAOHMgMZj9EMonpe6n\n",
              "KF07moneKedxCsv50Rr/HmmDVHHo+oNX55zrf0hB0so53Kw24z6qzIw7M7MZe7GLhG9GnowsEr7Y\n",
              "YgFT9fLflx4asS5IFv+br6eYsn72ozbLT8+2W54H3cUJUYvSMdvyupA+1AhKA6CAoL2kyh86tkPV\n",
              "eZm3Ova4oHkIsDdSFp6eUBGENM4ARoUeUlPkak/KPMBe5T/3TEwEb5zSWtENr3VkxljnDrqtApPE\n",
              "3u8R3n2NHq/a1JM5nEp/Z9m93hC9OWx7iUVxAyvPzLTpHUJSKB/0rc9gVcwYXuIH/uaQl+G0aDpb\n",
              "OqMsABogXoA1IAAAAaRBm/9J4Q8mUwJPAAADAABQvgWV0J/2BLt38YITc9lI4vbhgU1SEURoJq7G\n",
              "gtwep76oe6h/U2CbnWRpjF8rjRixjkLqGyqj7RH8obi+L1d1HfeTSgNRXZgwrjKBVG7ObUIzaMlD\n",
              "RnDxyAgKE5kMcfH/uI/mP4nGRCVPV3NWDX4i3Lgack8Pg8cI/Jgk+V6LlXjdz58RTlho+BfwZUJi\n",
              "Vzyzzq63o7uEBmJ7x/bkGaHb/Bsff3B7YxxerrsOMPCGPT9D4PMbAOxAZa35SUGYZxXB35pbsiap\n",
              "mL6MMoMpi0JbCDx5d5x48i4a2BoRI1jY10ouQcZb3A5/AtOhhojRHbi5iMmBJ0psfW25KEul19oJ\n",
              "aHiDMmHF6YkRiRqFxEW9XrXh6AF3pGa16jWgRbo+xD04DSN6RhJtkoptt3XjxPt/3REm44O85vBD\n",
              "1Aa939nveXt3LJ0qYLbGJoKpMLLeEsrNIHm+71hVZQhyG2szj7azFWZ2JUNzsrW0ObUpkZR27ONV\n",
              "T8G2C/6yHRbSOF8HNvBC20Ab2X3Pzne8W1fTYx7hb01YGfAAAAGeQZoASeEPJlMCTwAAAwAAQZMA\n",
              "ssau/b+MEJueyjo40PQ7X/luvgvbwtxUT7D5WJU3rPNkhVY3Mkktqq1Ldd0gaP0hugNzWtUETclM\n",
              "IHqnLp2GImLjEAyk1w3SCxH8cRFN/GLVdUyEeQbVreB66Ok2S3ZKxgdc0o+pJsWmktnbaTvLQv/1\n",
              "wO4H1CdKv/xWGH5vMNLXPrcESMYyqvV0haIep4XjJzDKHkCQn+QZfIJ9WRIRvfaT7Kw3cWHW2Fej\n",
              "PmrBs8hemaBMh8l+yr6Hdrpxffl8t2yt5TRKe//r/wfRz3vgaB7qwpR6kT171PfKJmZWgDkYPfua\n",
              "Cy8QtdUXE+Qh0KBXvx/BZMUCZv8uu3Ywe6W7VSOMgrsEBEd7umoPf7DbePJT2/mwsMWRy5oyovdG\n",
              "lSrGgTP7PyRxHYA3k4TDNTA8zEQJ6qnvEhsdU3SiklE2ML65xUtyZX25dGhmHtMIiEy3uyKcrExk\n",
              "zeeJPaENX0Mh0uUVixoR1D+p3Dve9XI122kJcGnoqtVyIWJhb8bPAGIyG+/3UYi4Aj6Kz7+BAAAB\n",
              "X0GaIUnhDyZTAk8AAAMAADdGl1RAf/wg5V6L3wK5hemzRkOKEJrJbTaA+cj/BUAKO0rQuvWgTzCJ\n",
              "QMWfLRrbZlvnSA5IkICC5HZEeYSRxFyQD6IbYOkPHIA+aqHfB4xml3v3CmAoKx5r4cnrg3DvfTdJ\n",
              "OLtkfM/AwIIMPVisVDiyoXE3UxHsNJh0Vw5gSbHXB14GejrXqcNovR+6Wkk9XcP1XJhBCsMLRp9u\n",
              "jXcq9pAdWSGRB17ZWh5xPmDo8QhmT4juPlQU4oRf1pIheWAWObnk8N/KwuMmqc6b2j58ld/HSlFM\n",
              "+MYCMLWIjPndAwQoslh2r69O85ldsAwZv63kptXyWQHg5bt7KUbsvSdrUIXgDHtaUHnhYvytWVd4\n",
              "tK3c158YmYaUNowbyw1fuvZq2KaqMjsztGVlDfAKIRtdH43Q3Md4nYxGWh+lAYjyZjt32hOvV9sf\n",
              "kTpYHBVjttEwwAAAAYpBmkJJ4Q8mUwJPAB88CGgUf4KhCrsLl9OiqdZR7HC8qBiz5UgT6/qSrJm8\n",
              "Yb0Ff+WImNcvwX3v2N840Rf53ig9sw8fVEei+vTQSchPKM1Lx4zGmGKbgMFHTCcgPf2ho3IhEN7P\n",
              "WMz2hutx5ldudraFpN49GJCYmQbP5HG1+85df8AwaNBy9yZTpPeWsZK7xMa2Qg/VqHi2BVjQJu4n\n",
              "NSHRW37JzuvbS6iRkWvMbkwcc8HreEuQSePsFgnNwjXn0WWLH0Z7YKWMuwVcd5zYMiUb4XI6fQWo\n",
              "/KUCwFv3YbdySm7oTi7OouBaomtexNPvISywKYKFmFYBRnRtz0iTH0kmgClpGZ3fF/JlfR4+bI1r\n",
              "kShly824sP9fkniSSgBP5ldU4e9C3mzfVRsYLENDtykAVuDzBeGg6pAdTv/Hplpfzvlz63f4nwof\n",
              "bT2NSucozg0masN9Z3uKDLrrZJPEqxzarHWTW5MSrysZnZL61fZQAEwoC5KrVzt0x/HRNACD26Yy\n",
              "XYtnaPEOAU6xAAABfkGaY0nhDyZTAk8AHdqji0TmrXaDRj9SxcexFcMAQiUh6ieZGHZG3Xc0FWqS\n",
              "lESR30HDkaSD3WMhLp2F/i1zvrVI7WijSLljQVjHMQT/xou56yeKtmB7vPEOF4XutPxgdFuhZq9D\n",
              "ApJcINjX8gCTdZVcbHOGOkym80kkmH1mNTPf6qiRbNOlYuX8ZbDhIwgtMtIuNT0QbSDr6JZK57kn\n",
              "R0WpAkNAj11X2cmm0XREA1/vAiOKehg4vvLrxdViskCTPcH7DZR6t/s9U5j83kLFUFTvHaabc40F\n",
              "K3p0sCKNtBvkkI3/GurVXbm1Nywk3/Z13SUSoza2KRgVujSpXF2+X+BZL+h7zCK6odCq4MCdrGkG\n",
              "JG6c6gvqeph9pMioKOBKPesHNHXcGRmWVQ7X5bDsUCxm5CAhOISMzVb9JYHQ448FgKeeKw4pfuAA\n",
              "DkFNwD3LoOSEQLaf6CpJfHOI7YipuvmGbrZx5Q1IuRmJCJ9v3WpwkqnF8OkaIdkn98T4KGAAAAGt\n",
              "QZqESeEPJlMCTwAZyrhU20ukA1u4F4x9s/JoYQbjq1xdb4qt+FADH77RguMR+239i8MOwmb893X2\n",
              "uM+zoSL5LBK880MPBttHrmUqhQCdFtsc7a/N+/jjsWY00GUYVrkBO6qIFPzfoS2TeAUiSZdDDNb6\n",
              "f4m/8tANlX+dhyA2aUrRjA3YgDA/uiX2uONS3h2OuTYMJaEeYWga4LnChohbPEFSk+BNT8J41zJu\n",
              "VolCRWMPr9+DrvRDZramI7emBVocptiy9/ubl/AffGOVGVrkqQXF/VuTo2EuvovcM2A1RobgDE+1\n",
              "eg6ILV7H9FrkZELz3phMGMJP7+A+qvi/XERQ/+3SN0yw5LyiPj4kn4fG8QRDohickT/YQxs7x1PP\n",
              "4KPM/lT/5Jrtr+VEFx7AGVUhU3LXVRyo6yeYzDi/TluJLKIOSl6pVe9tjKcvKOMvjLD8hhfiNp32\n",
              "PVt2hOq9Hq7+sIEWdKRcyRa7IoYrPl00KzLv2fsVlz86XzyBB5cJW7JwUL+HjDYd7wOZK25Rt0zz\n",
              "OwGa48di8K357XnC4TmBBOx4El0k2Phvdg/BUAFVAAABmUGapUnhDyZTAk8AAAMAOp/lOi5aN43H\n",
              "rQrLCQ8n5ZLFtOmT9zd738YITc9lHRxVYcYq6eHfrfZlfes82SFVjcyRtndeJ9ZXdIGj9IboDc1r\n",
              "VBE3GdSNW7l9aR+14uMQDKTXDdILEfxxEU38YtV1TIR5BtWt4HrhNbrbwCumq9QXvAlbcfNJbO20\n",
              "neWhf/rgcr9n+Ys3qYut4xjz/BZyJHgiRjGVV6ukLRD1PC8ZOW3prFZN7+44L/I2Qyo2d1ASGsup\n",
              "ejPmrBs8hkdrhMh5YUXIxL0IgqZ690Fl3NtymiU9//X/fRbjgWIq+771zVYZhFVPfKJlGtQIvRTC\n",
              "4yV3m6QS3wzg5fj+CyYoEzf5dduxg90t2qkZzUeYoF4/JXvE/e9MIqmh8382FhiyOXNGVF7oai0d\n",
              "X3DMel6OI7AGxEa3pLhDHzuBtEkNjqm6UUkhjkGT9xI3Hb3lsaGYe0wiITLe7IpysTGTJs96n9cy\n",
              "fhCkEcC/WKh/U7h3it+29WieO5FqBBUYLzVEQkqxrxiMhvv91GIuAI9ihl0AAAGRQZrGSeEPJlMC\n",
              "TwAAAwAAbT/KdJfbiKGXVDKDAk1e63elHOAQhwWtkxd7aq0Pu3y6xT55ru306Kp1lHscLyoGLPlS\n",
              "BPr5xE/Rr/g985X/lh+IPlsRawEHU40Rf53ig9sw8fVEei+wKFaJhkq7XPSONGAcwULuCRAlHpDV\n",
              "0PhJVASYx8JYMtac2HtUOZU86a5K0McfveMDSIRRWziB+NRC0Rt0rkv1XXXy3OWnyfFC1Uh6w1PF\n",
              "p6Mw0/4ahWjCRAZuXXZbdHnCB5bbNYJ9+HNqxACGdZKM1BFsDid2fke2cQQebwqZpx8pOBdpjxxt\n",
              "uVyUrW4CupnoomzoVEDZ79cAEGfXFFDGV9JwlJ6K13HMfHjiASwPMpOgqySdkbU9SfmrGIuQZyBd\n",
              "2PQmLsIjJNuXMTZbtJgsVoj3k9e5k1ezXNTXMF7tCq4KwBySvuY+YdhhaC2CD+AV8uJ3JphnoSCe\n",
              "aq1lpkGNa2qJeDD03Llk6N2bvKCgsk6i87/b0f8dWBmiLYNTgbh6be2ail9zjsX6hZEAAAGGQZrn\n",
              "SeEPJlMCTwAAHU/y3pASG30pRm3P2o/oAo4NMfcDaexQqpOMGbX7zL7Fv+629Ok1+yB9/D8Wn89c\n",
              "WL29En4g68etF0cW9yzTFsvKVUgc4Gkt8yZRbCco9R8X3VIflj43JV0VW0l3IMbqTVvTVwU2q0+6\n",
              "BptThUrFtw4+GXByqxguxcDSBehkPRx4dnpaFFPXq00/i/qUDjuqgcZ13f0NPA0fSULLfbpk/4b4\n",
              "3t6dyjyzqZliHm2BwQYcZJ8IFGnVnTO3ENAJTdQChYbQRn+N9zTcAEGHPvHQ6m3C2UvhlQOHWvpK\n",
              "cxwVxCPXuWSF8FJqJFrzX39sj27B2GS2iuDSwmSxr14RGQR0Q2o+42hjGsKjt8SDQe1gkXAPUnjZ\n",
              "Ec0E1W7LRMMZR/ShoUKsZqCmAQ4Wst/u6YqIECDOqCs1OS2KVAbT0MRHQ44smnK/zGfaPzMYrTaI\n",
              "vNWCCYH3VMRoLybM0/ZJ4GKxV5yJxL4S5TDrjCbOaZKz4w4n6ejgGpeGbJ0xAAABk0GbCEnhDyZT\n",
              "Ak8AAAMAADVew1KPUpccLN82a4jJuU4YX5rNPZREwmbQHATA+wTbbpIijCrPlGP3y/UD1XIW9S9F\n",
              "ibQ8V0jZiyIlC2RZYVN6tpQvhCsx1Ar9RkHfgJ7ERifXtps5CrPQg/ZLmeo0x4rZwoimKYhYHO4S\n",
              "nddGHbwtwGqjARkb6Kboib+HxHquk2iEH/mdugXjIA3VqHaB19y+vLppNr4XamHbxm/JZZ5xig3P\n",
              "RbNgD0qT79Obh0N7w/xOjnUEH1oO+M8BmJZDgf17fUzHdk6UZIxtIC0DjNwhE4AAy7+PAney1bFB\n",
              "xumJxu3/XsgOGfcKhns8G9R/XVRiQPhpsvs5abQRm3/G1wEXmaJ30aTel9riMhYATn0Bvkj4T8Tf\n",
              "QKe1/nOlUSNnW274OuJ6fKbuIQmlrV4LO9B3I93Yg2WSj+Jijc1MAl7GcjGedCOEqctEVIoLjvRA\n",
              "Vqeu/7F7vO7I+foMFK+fZXZXV9Is1TdPtgBkRKsM4YCHH8BYA67FtZ2P7klfOAya9HQDy0cAAAGl\n",
              "QZspSeEPJlMCTwAAAwAATnljURdv4wQm57KPmDbHYawgOw8l9r66/cDPK5iSfAXbNPwFUe/exz2Z\n",
              "zvUSVJ4pnFdI3vPp9HnZfvlWWg82fUU/pD31tGfQGKv/Le9UpB/ecLJWAHoGhLSCm6uuIZUE8yuS\n",
              "ZRbQmrNsF6kL45Lq1RxjAqLoMt6+71d0wQEAXlhsGqB0mwG4AVwgs13P6Yc0XLmxjwrgaqgdeVky\n",
              "L9SzH6IZRPS91OULp3NRO8U87iFZfzojX+PNMGqN7HnNajeK1HDwvVaXfncrDbjPqrMjDszsxl7s\n",
              "YpAQmzxjCwSvthiAVP18t+XHhqxLkgW/5uvp5iyfvajNstPz7ZbngfdxQlRbnphu/K6kD7UCEoDo\n",
              "ICgvaTKHzq2Q9V5mbc69rihJ3amB1IWnp5QEYQ0zgBGhR5SU+RqT8o9EF7lP/dMTARvnNJa0Q2vd\n",
              "WTGWOcOuq0Ck8TfFxHefY0er9rUkzmcSn9n2b3eEL05bHuJRXEDK8/Ms4UdQlIoH/Stz2BVzBhe4\n",
              "gf+5o+l8ptTvkSlVipnfQDICCeUPwAAAAaRBm0pJ4Q8mUwJPAAADAABNkwTvo03bv4wQm57KRxe3\n",
              "rgW2BNY3s0pM+SDPKbe+qHuof1Ngm51kaYxfK40YsY5C6hsqo+0R/KG4vi9XdR33k0oDUV2YMYnC\n",
              "v5DdnNqEZtGShozh45AQFCcyGOPj/3EfzH8TjIs8DYyNiDX4i3Lgack8Pg8cI/Jgk+V6LlXjdz58\n",
              "RTmJYEwJsb1DFhYpSNv8lWrUcEjE94/tyDNDt/g2Pv7g9tqAqJTiDjDwhzk/Q+DzGwDsQGWt+UlB\n",
              "mGcVwd+aW7ImqZi+i1qCQzcUn6o8eYy8ePIuGtgaESNY2NdKLkHGW9wOfwLQJV+Fjd5Omo5kwJOl\n",
              "Nj623JQl0uvtBLQ8QZkw4vTEiMSN8MmB31hwXjoAXekZrXqNaBFuj7EPTgNI3pGEm2Sim23bfLL+\n",
              "3/jESbjg7zm8EPUBr3f2e95e3csnSpTBsYmhqSIst4Sys0geb7vWFVlCHIbazOPtrMVW3YlQ6JQz\n",
              "dhEjBVCENLs41VPwbYL/rIdFtI4XwcPH+K4dYReI3nnO94tq+mxj3C3pqwzHdtEAAAGfQZtrSeEP\n",
              "JlMCTwAAAwAAQZMAssau/b+MEJueyjo40tn5Xv4w7XoQHyk+gzIzysSpvWebJCqxuZJJbVVqW67p\n",
              "A0fpDdAbmtaoIm5JjlW1d4VI/a8XGIBlJrhukFiP44iKb+MWq6pkI8g2rW8D1vE80eAE+GB1zSj6\n",
              "kmxaaS2dtpO8tC//XA7dBJkiZr+xG48i960tc+twRIxjKq9XSFoh6nheMnMMm1BA0d77c7HqyJCN\n",
              "77SfZWG7iw62wr0Z81YNnkL2dQJkPkv2WBKCzq/Wnx3y3bK3lNEp7/+v/CNDEpUDQPdWFKPUieve\n",
              "p75RMz/QAcaHv3NBZeIWuqLifIQ6FAr34/gsmKBM3+XXbsYPdLdqpHoGkTXRm97umoPf7DbePJT2\n",
              "/mwsMWRy5oyovdJDqtGgTP7PyRxHYA3VAghamB5WIgT1VPeJDY6pulFJKcmxwUOdS3Jlfbl0aGYe\n",
              "0wiITLe7IpysTGTNpnE9oQ1fQyHS5RWLGhHUP6ncO+F1cjXbaQlwaeiq1XIhYmFvxs8AYjIb7/dR\n",
              "iLgCQAlrLI9+OAAAAWFBm4xJ4Q8mUwJPAAADAAA3Rpt5+UgXBgEDKeroSGxPOkENbYhBzn9ula+8\n",
              "f4KgBR2laF160CeYRKBiz5aNbbMt86RGVghAQXI7IjzCSOIuSAfRDbB0h45AHzVQ74PGM0u9+4Q9\n",
              "pp2dvDnJ64Nw7303STi7XOLTr8CCDD1YrFQ4sqFxN1MR7DSYdFcOYEmx1wddWmI616nDaL0fulpJ\n",
              "PV3D9VyYQQrDC0afbo13KsaQHVkhZhHaU80POJ8wdHiEMyfEdx8qCnFCNTNJELywCmGo8nhv5WFx\n",
              "k1TnTe0fPkrv46RIpnxjARhaxEZ87oGCFFksO1ffNc0SE8gGRB3NMMu8xnkA8HLdvZSjdl6TtahC\n",
              "8AY9rSg88LF+VqyrvFpW7mvPjEzDShtGDeWGr917NCxTVRkdmdoysob4BRCNro/G6G5jvE7GIy0P\n",
              "0oDEeTMdu+0J16vtj8idLA4Ksdtx9SSDgAAAAY9Bm61J4Q8mUwJPAB88CGgUf4KhCrsLl9OiqdZR\n",
              "7HC8qBiz5UgT6/qSrJm8Yb0Ff+WImNcvwX3v2N840Rf53ig9sw8fVEei+wKFaJvymJFS8eMxphim\n",
              "4DF3BIgSj0hrzHvNONvhprGZ7Q3W48yG1Q5lTzprkrQxx++DHFfPa/jhBr/gGDRoOXuS/VddfLc5\n",
              "afJ8ULVSHrDU8WwKsaBN3D0+ogM3hGNbuvbS6iRkWvJl/VAgBDOslGgTqrcBivf2fnn0WWLH0Z5w\n",
              "WYDHVqi7K/E2zel6VDTLX65FaUTZ7k7sNu5JTd0JxdnUXAtUTWvYplWb2zrFutcrCsAozo256RJt\n",
              "UcIDhNwr3pvi/kyvo8KtCTxC88VavLZQ2i/JPEklACfzK6pw96FvNmrHWfiXAbLjw5XB/DzPz2g6\n",
              "pAdTv/Hplpfzvlz63f4n8Y1c2pJz4sozg0masN9Z3uKDLrrZJPEhx0arrqDy+tXDkdE5uPWcF9KA\n",
              "BfchFipRQ2fjB7UD1G9RfH4KwLmvryCUIUc6nCcAAAGCQZvOSeEPJlMCTwAd1wXpfeO1WDnF6LBG\n",
              "OlipogEJCJqVEKguOh7tdzQVapKURJHfQcORr5DSRkJdOwv8Wud9apHa0UaRcsaCsY5iCf+NF3PW\n",
              "TxSIJ8MbchFN9e60/GB0W6FmnpMCklwg2NfyAJN1lVxsc4Y6TKV4LAvW4ObMk9/qqJFs06Vi5fxl\n",
              "sOEjCC0y0i41PP5tIOvolkrnuSbCYjZqouTKHEDUftNouiIBr/eBEcU9DBxfeXXi6qwpEqE/cH7D\n",
              "ZR6t/s9U5j83kLFUFTu/EyO+caClb06WBFG2f63yEb/jXVqrtzam5YSb/s67pKJUZtbFIwKyrVob\n",
              "i7fL/Asl/Q95hFdUOhVcGBO1jSDEjay/QX1PUw+0mRUFHAlHvWDhSTuDIzLKodr8th2KBYzchAQn\n",
              "EJGZqt+ksDocceCwFPIYRYhT7gAA5BTcA9y6DkhEC2n+gqSXxziOgY52QjAPa2ceUNSLkZiQifb9\n",
              "1qcJKpxfDz8U1MXD+6CkHZREFtEAAAGxQZvvSeEPJlMCTwAAIDncIBrwdcske9767T9QoSY20uog\n",
              "GUDggA1PSOOZlc/xK94HK84Jm/Pd19rjPs6Ei+SwSvPNDDwbbR65lKookHRQMfu2vzfv447FmNNB\n",
              "lGFa5ATuqlRTuRBSgDEloRFJ7n315fT/ER/kUJsq/zsOQGzSlaMYHTwbLUJb456441LeHY65Ngwl\n",
              "ob5haBLgucKGiFs8O5y18DWv2GzUKc0e7wJE7Lh9fvwdd6IbNbUxHb0vI6WbRfXq7PZc+Ef3xjlR\n",
              "la5KkFyTNFwEYRzOAmfIIEO1slvVYn2r0HRBavZSddpOPx+9J57TBjCT+/lfqr3/zwRAv/bpG6ZY\n",
              "cl5RHydDT8PjeIIh0sxOSJ/j8hs7x1PP4KTeGDM8mTXbX8qILj2AMqoqpx3CL7KjrJ5jMOL9OW4k\n",
              "sog5KXqlWSCw5D3fbc7iGFUhLb8RtO+mlQHQJ1Xo9Xf1pAizpSLmSLXZFDFZ8umUgY8Nz9isufnS\n",
              "+eQIPLhK6ZOChfw8YbDveGlx6Tacz+A9uqfL7jsXhW/Pa+6miBHvdseBJdJNlE2ws46udbEIBcVz\n",
              "qQAAAaJBmhBJ4Q8mUwJPAAADADqf5TouWjeNx60KywkPKDpcAIY0G8gfKewhVBK/b+MEJueyjo4t\n",
              "3dlHAa3x9kCjk/cKfEaa+z74xaGCWTE+srukDR+kN0Bua1qgibk+pNOF3hUj9rxcYgGUmuG6QWI/\n",
              "jiIpv4xarqmQjyDatbwPWLg4juALJUDtBe8CVtx80ls7bSd5aF/+uBqNeasizep6N3jGPP8FnIke\n",
              "CJGMZVXq6QtEPU8Lxk5YAH6Ssm9/iSrJHJ2k+ysN3Fh1thXoz5qwbPIX09MZXmVTsrZZJIKodUGO\n",
              "y7m25TRKe//sAXMt3GLEVfd965qsMwiqnvlExs2NrzDAPKqE47EIj7hnBy/H8FkxQJm/y67djB7p\n",
              "btVI+t6QpWXhmovQj2oor7LtQts/xZYYsjlzRlRe6MWEkEQMMmz0npy+A7F+cBN2DWhfk1eJDY6p\n",
              "ulFJGgMI0/cGDetcNXGhmHtMIiEy3uyKcrExkyfDip8NMJl2KsTDU7unRS0c29HeG37bzbGretqK\n",
              "2xvY4/cLfjZ4AxGQ33+6jEXAEdgEzJysAAABkEGaMUnhDyZTAk8AAAMAAGq/y5YPn8/Mg05Fge0L\n",
              "Aoyu2Lke4tgqWOBEaF3/FjZdAR8vp0VTrKPY4XlQMWfKkCfXzlJ2u6iKb0Ff+WH4g+WxFrAQdTjR\n",
              "F/neKD2zDx9UR6L7AoVomG8LtedI40YBzBQu4JECUekNXYkDyDzd+nhLBlrTmw9qhzKnnTXJWhjj\n",
              "97xgaRCKJyqQPxqIWiNulcl+q66+W5y0+T4oWqkPWGp4tQSMgOcnn5laMJEBm5w9NappZUb4JYA2\n",
              "1W+jNqxACGdZKM2qlSrid2fke2cQQebwqiZRmoK1AgSXPcT/yUrW4CupnoomzoVF+7T0fewBXorA\n",
              "GMr6ThKT0VruOY+PH+jvkFZmzMOEcaHKB4pyNeHfR+zkC7sehMXYRGSbcuYmy3aTBYrRJnJ69zJq\n",
              "9muamuYL3aFVwVgDklfcx8w7DC0FsEH8Ar5wTuSxNFGY5wcW9tRqZ2Oxp9g6vTcMvnRuzd5QUFkn\n",
              "UXnf7ej/jqwM0RbBqcDcPTb2zUUvucdi/WoKFnAAAAGLQZpSSeEPJlMCTwAAHU/y3pAR3jDJjUna\n",
              "2k7YAMizhDMRb25z3QlrOMGbX7zL7Fv+629OkQzYe9DdW5HLA35/HVEn4g68etF0cW9yzTFsvKVU\n",
              "gc4D591MmUmj2lw6xpnIejyx8bkq8BXu6/Tyvg6YdKx7jthUVafdA1nVIj9i0Zd/cBbH3dGw/tS8\n",
              "RGmUQI48Oz0tCinr1aafxf1KBx3VQOh67v6OudNSsNd/OT499+G+N7Z3vSSvtK6xDzKS6LdnGSfC\n",
              "BRqoYlScX+IKU4hU69LAkIwtvuVQAAi99lE27U24Wyl8MqBxQwOmRc+6uJ7mzSyemB+jc7D9Od22\n",
              "btuwdroNorhacRE2rRdoif9FNHffzQvEY1hUdviZafgsD2tebyMegpmgmq3ZaJhjSQC/dCrpoghy\n",
              "L4Ytay3+MxFQlYQZ0QVmpyWxSoDaehiI6HHFkv9X++T7E+ZjFabRF5qwQTA+6piNBegfyIyAvBhV\n",
              "v3WOKXQs09lo3TpBbGGw3zDifp6OAY1GR1u2y/MAAAGSQZpzSeEPJlMCTwAAAwAANMsTy1b/ZRYU\n",
              "/ChIE+PvyoN7P6Q9NASyZtAcBMD7BNtukiKMY5HTFx9D9QPUz7+pgBjNoeLFyYF39uZqBYAqb/JF\n",
              "YR0hWo6srFUZByDGrwvFhwqdS67OHBNDltauxkAMArtwrw9LcncO8mzPddGHbwtwj9lQLG/0U+Ro\n",
              "wzA/cXNReiEH/mdugXjIA3VqHvl5ThND0aegrwzFMO3jNOSEjn2xQbnotm1w5pmDZ9KfbAiydNL8\n",
              "0GC7nhc285vGikwb3CclFR2AVUxmSUbSAs/6C8IUSAAIy1t/N3stWxQcbpicfr217Jy8f3hsJRWO\n",
              "vQuvCpIwPhpsvs5abQRm3/G1wEZuUg7UaUemCcKMhYAN4993yR8J9084Xzm9UKdoWN9SW8XcOR4k\n",
              "jm6zTlLGtYLO9B3I93Yg2WSj+JjqM2d87lNzMA3mjLplyLRFRaC470QFanrv+xe7zuyQD6vBSW85\n",
              "/HsIC7UvLu5GCajE8qwzhgIcfwFg1EwIMIEZ1Xvm6PCACkx/AAABo0GalEnhDyZTAk8AAAMAAE55\n",
              "Y1EXb+MEJueyj5g2jWAkKZPkvtfXX9Pz5XiInQKFs0/AVR797HPZnO9RJUnimcV0je8+n0edl++V\n",
              "ZaDzZ9RT+kPfW0Z+KZ1B8t71SkH95wslYAegaEtIKbq64hlQTzK5JlK6P4P7H1KQvjkurVHGMCou\n",
              "gy3r7vV3TBAQBeWGwaq0URSwzmThBZruf0w5ouXNjHhXA1VA8UA4cyAxmP0Qyiel7qcoXTuaid4p\n",
              "53EKy/nRGv8eaYNUcej6g1fnnOt/SEHSyjncrDbjPqrMjDszsxl7sYuEb0aejCwSvthiAVP18t+X\n",
              "HhqxLkgW/5uvp5iyfvajNstPz7ZbngfdxQlRi9Ix2/K6kD7UCEoDoICgvaTKHzq2Q9V5mbc69rig\n",
              "eQiwN1IWnp5QEYQ0zgBGhR5SU+RqT8o8wF7lP/dMTARvnNJa0Q2vdWTGWOcOuq0Ck8Te7xHefY0e\n",
              "r9rUkzmcSn9n2b3eEL05bHuJRXEDK8/MtOkdQlIoH/Stz2BVzBhe4gf+5o+l/j5EnuL4+lqQQBeB\n",
              "OuvGAAABo0GatUnhDyZTAk8AAAMAAE2TBO+jTdu/jBCbnspHF7ciB87cSk84bZJWc9HQ8bfVD3UP\n",
              "6mwTc6yNMYvlcaMWMchdQ2VUfaI/lDcXxeruo77yaUBqK7MGQPTd8huzm1CM2jJQ0Zw8cgIChOZD\n",
              "HHx/7iP5j+JxkXzlP6Vv90B+gy4GnJPD4PHCPyYJPlei5V43c+fEU5kJY4X8GVCYlc8s86ut6O7h\n",
              "AZie8f25Bmh2/wbH39we2zhhBAWn9EXEh6fofB5jYB2IDLW/KSgzDOK4O/NLdkTVMxfRalBIZuIH\n",
              "RUePLvOPHkXDWwNCJGsbGulFyDjLe4HP4FppLNDBu8nTQcyYEnSmx9bbkoS6XX2gloeIMyYcXpiR\n",
              "GJGoWeg76w4Lx0ALvSM1r1GtAi3R9iHpwGkb0jCTbJRTbbtunNfb/uiJNxwd5zeCHqA17v7Pe8vb\n",
              "uWTpUpg2MTQ1JEWW8JZWaQPN93rCqyhDkNtZnH21mKsOsSodEoZuwiRgqhCGl2caqn4NsF/1kOi2\n",
              "kcL4OLeDFtoA3svufnO94tq+mxj3C3pqwM+BAAABoEGa1knhDyZTAk8AAAMAAEGSv4a678cS/b+M\n",
              "EJueyjo40OTAn7KzmJM6wI2fpbt9Unb1nmyQqsbmSSW1Valuu6QNH6Q3QG5rWqCJuSlbVBTl07DE\n",
              "TFxiAZSa4bpBYj+OIim/jFquqZCPINq1vA9cCMzbwAveqvKaUfUk2LTSWzttJ3loX/64HaX1srDY\n",
              "f2I3HkXvWlrn1uCJGMZVXq6QtEPU8Lxk5hrPvcwSUIU2L36siQje+0n2Vhu4sOtsK9GfNWDZ5C+T\n",
              "UCZD5L9lg0WufbMp8d8t2yt5TRKe//r/xbQv3vgaB7qwpR6kT171PfKJmZegA4aGGKkXa8QtdUXE\n",
              "+Qh0KBXvx/BZMUCZv8uu3Ywe6W7VSP9QUmujI73dNQe/2G28eSnt/NhYYsjlzRlRe6W9FWNAmf2f\n",
              "kjiOwBuuhdBEcsrX7DfDKAXiQ2OqbpRSSk5scFDnUtyZX25dGhmHtMIiEy3uyKcrExkzWZxPa6NX\n",
              "0Mh0uUVixoR1D+p3DvedXI122bWEGnoqtVyIWJhb8bPAGIyG+/3UYi4Aj4pf9peAAAABYkGa90nh\n",
              "DyZTAk8AAAMAAD+XWpSLtbWQbTx+u0FY0kO6dnzAykdYwBYyv9ysPnQ/wVACjtK0Lr1oE8wiUDFn\n",
              "y0a22Zb52ZicyEBBcjsiPMJI4i5IB9ENsHSHjkAfNVDvg8YzS737hbdhzs7eHOT1wbh3vpuknF2y\n",
              "6qcUQEEGHqxWKhxZULibqYj2Gkw6K4cwJNjrg5QDPR1r1OG0Xo/dLSSeruH6rkwghWGFo0+3RruV\n",
              "r0gOrJDAv69qjQ84nzB0eIQzJ8R3HyoKcUE8cHQfnipavNjyeG/lYXGTVOdN7R8+Su/nzotmfGMB\n",
              "GFrERnzugYIUWSw7V9tpFVkJ5AMiDuaYY4b4MgDwct29lKN2XpO1qELwBj2tKDzxKo9Y7qu8Wlbu\n",
              "a8+MTMNKG0YN5Yav3Xsz7NNVGR2Z2jKyhvgFEI2uj8boblyMTsYjLQ/SgMR5Mx277QnXq+2PyJ0s\n",
              "Dgqx22howQAAAY1BmxhJ4Q8mUwJPAB88CGgUf4KhCrsLl9OiqdZR7HC8qBiz5UgT6/qSrJm8Yb0F\n",
              "f+WImNcvwX3v2N840Rf53ig9sw8fVEei+vTQSchPKM1Lx4zGmGKbgMFHTCcgPf2ho3IhEN7PWMz2\n",
              "hutx5ldudraFpN49GJCYmQbP5HG1+85df8AwaNBy9yZTpPeWsZK7xMZs45l+2vPV/4okwPNfOaR9\n",
              "CWkY1u69tLqJGRa894Vb7rn51uc0CdVbgMV7+z88+iyxY+jQROi0nsFXHec2DIlG+FyO70a8QBls\n",
              "5Bb92G3ckpu6E4uzqLgWqJrXsYQPkSJYFMFCzCsAozo256RJtz+TQBS0jM7vi/kyvo8jNk0rLnSl\n",
              "vn5S7V+vyTxJJQAn8yuqcPehbzZ3KuiMF4Gy4hKwLOzNIEYu7KZMer/x6ZaX875c+t3+J/GIALoH\n",
              "z6LKM4NJmrDfWd7igy662STzUXBWK2leiPrrcZvdaV5anBfSgAYfIAGRPI0rIpxhZdlLByp1Y+dV\n",
              "Ua1PvlNzFNRBAAABgkGbOUnhDyZTAk8AHdqjl91wBC3KOnaOwXUnMIJcEh0Qgqj+ZffmaIXc0FWq\n",
              "SlESR30HDkaUb3QMhLp2F/i1zvrVI7WijSLljQVjHMQT/xou56yeLdmB71PEOF4XutPxgdFuhZsy\n",
              "HAQJcINjX8gCTdZVcbHOGOkynU0kkmH1mNTPf6qiRbNOlYuX8ZbDhIwgtMtIuNT0bKSDj6JZK57k\n",
              "oLC0s1UVZlDiBqP2m0XREA1/vAiOKehg4vvLrxdVmEjrpFqw5Wyo9W/2eqcx+byFiqCp3h23BOca\n",
              "Clb06WBFG2g8ySEb8QQNtZwbjB39dV+s67pKJUZtbFIwK6RpUri7K36BZL+h7zCK6odCq4MCdrGk\n",
              "GJGtJyFcv8ND7SZFQUcCUe9YOoT+aCc3ah7N4TqwxAFjNyEBCcQkZmq36SwOhxx4LAU9GVode/cA\n",
              "AHIKbgHuXQckIgW0/0FSS+OcR3rHOx0YB7WzjyhqRcjMSET7futThJVOL4fNbetrdSYAAWx6gMqA\n",
              "AAABr0GbWknhDyZTAk8AACA53CAa8GzsVy/AptDNVjmwb/1/Sel8TAEK6pgJmWG/Mkg1j4QG9Mee\n",
              "7r7XGfZ0JF8lgleeaGHg22j1zKVRgBOi12Odtfm/fxx2LMaaDKMK1yAndVHin1v0JbJvAKRJMuht\n",
              "iIcizYv+WgGyr/Ow5AbNKVoxgbsQBgf3RL7XHGpbw7HXJsGEtCPMLQNcFzhQ0QtniCpSfAmp+E8a\n",
              "5k3K0ShIrGH1+/B13ohs1tTEdvTAq0OU2xZe/3Ny/gPvjHKjK1yVILkk6LgIwh6B+mO/NgNUaG4A\n",
              "xPtXoOiC1ex/Ra5GRC896YTBjCT+/kfqr4v1xEUP/t0jdMsOS8oj4+JJ+HxvEEQ6WInJE/2EMbO8\n",
              "dTz+CjzP5U/+Sa7a/lRBcewBlVIVNy11UcqOsnmMw4v05biSyiDkpeqVXvbYynLyjjL4yw/IYX4j\n",
              "ad9JKgOgTqvR6u/rCBFnSkXMkWuyKGKz5dNCsy79n7FZc/Ol88gQeXCVuycFC/h4w2He8DmStuUb\n",
              "dM8zsBmuPHYvCt+e15wuE5gQTseBJdJNlE8Os72wIKazsAMXAAABm0Gbe0nhDyZTAk8AAAMAOp/l\n",
              "Oi5aN43HrQrLCQ8n5ZLFtOmT9zd738YITc9lHRxWONqInACq5vcp99mV96zzZIVWNzJG2d14n1ld\n",
              "0gaP0hugNzWtUETcZ2A+E5fWkfteLjEAyk1w3SCxH8cRFN/GLVdUyEeQbVreB62eZm3gBfA9eoL3\n",
              "gStuPmktnbaTvLQv/1wOQ3rVkWb1MXW8Yx5/gs5EjwRIxjKq9XSFoh6nheMnLWcTSVk3v9VQX+Rs\n",
              "hlRs7qAkNZdS9GfNWDZ5C+fsCXjywouPL6DYJZ3r3QWXc23KaJT3/9f97FvSBYir7vvXNVhmEVU9\n",
              "8omRDm+OYYF6U8LjsQiPuGcHL8fwWTFAmb/Lrt2MHulu1Uj4mmGn1eaIquen73phFU0Pm/mwsMWR\n",
              "y5oyovdFcXS1a4Zj0vRxHYA1u0W9KWIY+dwNokhsdU3SikkjMgyfuJG47e8tjQzD2mERCZb3ZFOV\n",
              "iYyZTWUDwZnJmxSCOBfrFQ/qdw7xm/berRPHci1AgqMF5qiISVY14xGQ33+6jEXAEdQBFwAAAZVB\n",
              "m5xJ4Q8mUwJvAAADAADY/obeUOOEETEezoZVOD9ZxMLgVWF5AFswLEMvBgcoPqsfaS2GPmu7QuAv\n",
              "myUexwpIRGmGZHg+v1Xzv82vl8gyvxRh+H66IOa6OwMa0Rf83ABYChThDCFikiZqCabgF2wXToNg\n",
              "sY9oaSNyA3ch/NxvEsg9mr56tQlKUoehbpgqqrvQPRer6Uex2QkQiip48viULW5ocdTDfqvlOPDQ\n",
              "7+Cktn3kHWV+62z2fsD/hqG6MBEBm6WHG1TS/NPLbY8AUAZf1OXJ2n7WzTPInc/dWpAE/ON2MJe5\n",
              "1PioNW4FTPH8KNV4wNhONfwxukKRZQqRAQJl+eowDaxwot4tCOrUQFAENQrHwfBwkAbsIAEpPG5e\n",
              "8Ev2gvmlLPcZAYhNISGz6gKumFkFr/oh0d5gQIHgu5mSR0th670H39zbu8P5ySvvK+eLCiRWtTjO\n",
              "AV8li+wHrimRhS986k2HmpOFuTgL+nx7ZcgTCuFV98pnZK7ypqG4GOIuYGaIvaCDan5t7XDybiS/\n",
              "Js/ULIEAAAGIQZu9SeEPJlMCbwAAOj+iMoA7nsti9WYK2HnK0mFKgB90axoW5n2NhT6bcza9j2MW\n",
              "V182T4fom+xhPNEp6zbK4aAnitYicDq53gcNnZhjTFs2F6hGfjfo+BsQkTNffhajU8gGYsITR1Fq\n",
              "QoQ9Tth8WwVxeVmWqcikCrL79PLkb+ejRZd7wlFGhsNhB/f4yYRx4dnqSotxFuEHjjASpZx3VQaV\n",
              "pp305MNTTgNLLi3pk/4buXtFySk+Pz+1iHnIO+x4KMIoQ/jJjz2xc4tTaUXPrP8NoI2nR1cGAABD\n",
              "V7KJ55F90u46UZ6XmJHhsw3sJDM+pYQAJumAjc7mo88IjCgUZ1iakSmxs8J6+DevCG1biAJbvuNY\n",
              "gysBrOuMFNlOQ/Np2FSeNkZzQTVbtkNJE3Do+gZB+To2M22C1mO6iY9uPLQs/sQgBnPUr6u+2Dun\n",
              "veGBRGh5nU/EKzDwqcmRYHFu8R/i0E2ZIXfyLSDU6eIqF3W9nRwliGHYVB/Zky7pAWFfyNSwMAR9\n",
              "+9MAAAGTQZveSeEPJlMCbwAAAwAAcb1dfy7wuiDMpIpGa6MikZ/maZvTx9R26wKOoiBH1az7BNk1\n",
              "MSKaprUrLvCFfRXKBCnvP7sFJ++g8jfVHKeos37Gn961mG0WAmabyTheuO/FM5FIq+vbVMvAHODG\n",
              "IaHuIsdkJxHSNimIc7YHM8khOr0yG/74FhYTni36/boib1YCYGLayIQf+awCLyggBtj93tGJELNf\n",
              "uR6CvWo/qXrit8kVHPJ9aRwLc+6dIvHIDyph2LxNWmEb4bh8Ccl9UM65/0du5UW4KQsdjtPgFLAC\n",
              "UTTgoABJZHSPb0oWE5mAebpI3yhfpmsEzvuHnP6Z+KxEO/LbwGbFa/mbzakWlIOVbriEeVoD7V+r\n",
              "YYikBMAQD3uNK/45SXng/Vw22EYvNbT/rCh59vJhCNi+vfSDT8rqDw1U0OLXtPXp3N7w0y6wy4yS\n",
              "9cuhaFX93vMs13zkd7dak+vr5n20NSp/zwPKV89+nCiNpZZxCO7niEP1H5Zfu+0EcyHitQEEzum1\n",
              "cjMehk16LPfwQgAAAaNBm/9J4Q8mUwJvAAADAACZNLXPK+86j0/PtNIq7tXkt0TH1U0Qlp1yfxzA\n",
              "z17sgHKX4wYPNdHZatZQqJv7sZw+SN7z6bQ1JELrp6E0uq0v/8RUJMwz6kJk3+5HQIzfrGWe5wAI\n",
              "oGrtbYAUXRycpdedWVMo2Evn0WFLAVNcv6ESuA5/08Zb6emjdaoP8Lpsoj2p53VU00ic44FZA30w\n",
              "4ax8CT2mm8NZzHEnWBYGoiGW816t6zqcmGt0CJbpwgm/Ol5CjfhOZpk65WTi53lJdY5s6SqSGeVn\n",
              "l+sIuM/8RuJ2lfwt5nt0uCyZ/vbfKu37+nq/4YIfxR5kxrL1qhMYOyZ1JlSxZzbGDng+BMG/WEPB\n",
              "2orEq1gxKXqlDAMtKzNQxtMouPaauJb/2KbUB9AlQ/384Gl9Q2NEupdpdiU+BPMvGA95VWCk1wQr\n",
              "w2p+c/Qn5ARxESjo+xmfzGz5FPmcV5OV/zqL5vfsd1KsM6bAgJGZYDe7Q2Xg9WBzJjogAS35Znus\n",
              "IQ/303PIusCQ2Ng96w/9zNZXFwxmZjcAX5a1hwEKFErVEAAAAaFBmgBJ4Q8mUwJvAAADAACf+29A\n",
              "WVrNp2lfedP0PtTsMYZutinlSoCwHPQ1Ilv5Q7A2j6i0V0B9+G0ETjJrzXVR9oj6NbxPb7HKCzvS\n",
              "WSnRP5gwbjMKahfouCqzo1tfvUumlIEBQ2jRvez1crH86/Qu7/cjVMVEEGKEW6MuDE8B0HjBH5MK\n",
              "NLwFlU2twYwBFOVUj4F/BopY8XW4wBdVUa1HAtvwIP7cgz2BG2tYlp1/yzlN7VkcYeEMfYY87WVa\n",
              "KmpNVdfktQZg8uprlx/3ZE1VxrnnbQR6cg84VHjzEY6Z2X1mdUGFH0yiapd82Wrb3BFYQNomHgpQ\n",
              "Hbi5iMnfQ5Bk/Ac1VpVxJE7QUBiEZvMOLFaRGJHGLsRb1erq00AhaoTB/lf7RLMMv0peAq83adYI\n",
              "uyim23dsQevElR+TT+ODE+tGoxvt3+XviHrI85wnh1NcptW7wlV2sadzIF/2G+xPGu0QrqtcfbVH\n",
              "+xr4/s33uVYCs4ff4509DnkE/BtgMOsg9UAA2SZQoaHndCZrk9eqcb3dr4qR8+OFujYKW5I38qkA\n",
              "AAGaQZohSeEPJlMCI/8AAAMAAPbzhs32WmvivlBksypeQ0rrT+VfDQaLlQkTq/6vDgdrW9QAEfI5\n",
              "eTWx9AogJy3rLoNc6uBXTpD28RDVhqxSQATIdwo7nONWHFSyrx3RPmBAf45M/5cTljE+52vfatZ6\n",
              "8kDlapw3tdx7o5JWJYCSOJwLi31G/CNh/XLpFIyxDdHJnJwob/t7OHW4OgQtD7JjMfk5bPV4IVIj\n",
              "ZxAeOKed7knaEsWNVzZtRYMfct66snqfB8iWLDRiZyVR16zQtJVxbQeoyhkEf4+i80QAgIaY+JNn\n",
              "7N7O8KhxWMr5nz6FJsAOoVrjmg/nuK0jWSHTOS2M+sBR45Hy539du2DFwvU0RasNHwLSl87gNP2L\n",
              "s0PP07HMVP+oP5VESjTucWgxxRIOdfLYH90AdZYK4EctNegeAOwmcRof4M/KKSUhYwvrnJo+L6rK\n",
              "EmHc7IngMp4sz1rn+RL1JLoKl5azM6F8eMDcSVVE9hu+k5rXWGbVjxhYI4YvTQgBfbvYLSrGaO9q\n",
              "Ypfumr4cApey2g1mMxAAAAFbQZpCSeEPJlMCI/8AAAMAANHJ7eGKQpMcrJ9PaMukqkx/tKWxn9IG\n",
              "Gv8U/zSaSz+o2L6zviBUVZCiX/U5Szez+PhGrEv4Hm7Yk0saqd9eYIGhh94KcHl1yPzosjb6MbH/\n",
              "YFgWzIpEV4YxXRUVOFOx7GYN3Fr6rAtRB/tOhgbAsGj7DHAZs7vroc5ikOFcPEDs/xmUGEo8BH7j\n",
              "VCfzZ0X5ijz9XPm0kQleCvVCpfQQlKSERk4eBSy+jPhRFcKxSo4oQk0xdd12dxRsAXsKQjAnpvx1\n",
              "mF6HSfyPWiDD+izIkwQyBgkZ7cHK/pdZmb+ezjqB0p4AOqYBYsMsHCaN26vRdvZSjfMpLyWyI8le\n",
              "9sWChohCPWOxI28T8r3j+M+LpibEA0mFhsrAez87rWlDejGsUN4dGJLiVZsfXAf0d6bIcw1F686Y\n",
              "LijH1SA/oHZecaS+RHlJIzmOhjiJn+0AAAGOQZpjSeEPJlMCI/8AZLGiaPK+8TPAA6ukImaArTxG\n",
              "GoqyFEupcHacr8Fd1ta6a3/TN9LvoAnx/pGa+qQoVY8zsqwzNjVzX8W0iXAIpPpSlVgAqF+SAEjM\n",
              "MaSQ7gYHinQVJXQDGZ+8rONJsSkf0I+h/2zpYxdIKPZz3G8QSm1+1G4u0Fw8hiDqbDYvdKz5sXfX\n",
              "shLWf24Cx4yeDmcAlkhx1Tj6nvNzMHXt7njWwgJ8yCuNEGOmYQlf95JUt8R/1IL+VRvPpUG3WSpY\n",
              "FLCFHYVO+uxU7cxqoQCxz4pHjBbPtuOphLsPmfwqDTOuJLRmdE5W5vnoCrZ9QTGJVupcQDFUEQZJ\n",
              "+FLSM25WU4OWid9QYCd/YfNc8J/ETOT78k8SSnVi1Ij+vzqHpFrv2P11l5Wu24ipMQ8wosCcO6XQ\n",
              "RV5EvlSn3L/e6oVqpqfVWnE4fmaQSM8CbvYUwEmkr+NvakRojgYMIvgZn+w7yIKda5mbTx6oAGHv\n",
              "ZBtSCZqxrTPl2LkBpQFpmvULXLENs27xEnAAAAGHQZqESeEPJlMCI/8AYQdZP1ACGJRMaNWhl330\n",
              "JIAydSgW/PeAXATfD6thMTM7EodAF5X3xxEv1nRkJZh1uSckFAY92vtZgykBzPw3trBcmzeYYc+O\n",
              "UZNolCgBg9ZiHBl+Aj+4ZzrxWIu/ZFZW47AMxVeUD935y7DbWWVvinezM6m61XpkWYIo81k6GIgo\n",
              "umU/n/zlIvnIql9KRw5lP7RivSPR3rtVu0WyPq8kd/7x3xCZdcpP+jn67O6ujyK0YzWsNFsmFZrn\n",
              "7U5iMJqJR9DCAPpU634gWmF8zXlRwTsCZFLKjnT3g1W8Rp9C5J9fhDdye8WYijQ5V21TDCksESK1\n",
              "aG4u0zjT0RLsTXWMSEcMGKPYA9GviRYw0/243WZOvbaaBwWZUmPfBxC7aspxiB4rYFcVMeXlm5Oq\n",
              "3QJdXHwlgMsCpxhhcQJfiTfJeh3HxXOZPEHbtXgCddO5buSVd3TtkFPY52QA1ngJ6nov2JFrxp47\n",
              "uvF1l6eN7uGjyW0PrwFJPhY09HOCVwAAAapBmqVJ4Q8mUwIr/wC0/fU77cPT/ZXIAxhIQJm8m+Kr\n",
              "nB9X2eyCvEGAOtH6fQf85U7MynXJUbutxjqyWaWmuOiGY7p718ST+/J1DvZbew2CRW7wZAHDSGyK\n",
              "x7D/2wpLoNguEXUGiIpLV0Cg/esRoo8TqRib/13wDpuFSy4oBpilAD3nb65Y0w1JOnswz47LO++I\n",
              "KF4MVVpxpFyDI4KBOc1Y8DWnCwNa6mxPQ29pcX71+/B13ucjq7VRsqX/pZTaFk7YCP/M8c0d8FNh\n",
              "zI4s4ulpzzP8Fl6Re6nsfXifIi/bf3UEkGfw2WgItBh8SNs9MjDcOKPuUztyh6mnvSZDw0TMjJ2w\n",
              "CRmjBn5+erKsp+nhyqndPdyKSSV6ngxTY6yMpG6VcMDBkyNDkvjiVpNIunYnWqC0y2LhzwSzvveO\n",
              "MOc+0930XgKTV/ttOW5CW8Tdum9dBZnWYkb+krKP7OCNrkfNx29s2PLzwB3SS7e7YeGzqAfnNFgO\n",
              "dHjlY50Ld4q+Xvu6ek2vRmOhsA+uMjWNouOLzlke2T5P5iuYq1gQmu8d1f8gzAQmoBEQjYEAAAGg\n",
              "QZrGSeEPJlMCK/8AAAMB5/jGrScG907QnntMQF8RDQBj2io17K4+mz3t2/9b7vSIXiHNSO5hiCta\n",
              "lp1xLt05Jb3gCPkM169TkeCiAfLesugoS8FaLDXxB4bbk2uYFYWnOhpLbnT591JskkBAschHEANW\n",
              "hpnt5+UjKzDmb4/npA7smOhT2Xz1ToFOKvkzeSlMC0UshVtc+Mx3uA+A8A2+p3zq8L7NNGx0NqPF\n",
              "rVBDtt3sOUuMPc2I3vydfN/Fb+B6xtRRWMd0M+jQOraSZBXu7gpjgqNyCnYSuqmgJMZzOPk3LDcF\n",
              "6LzRClE2iRiZzDffEw8jFegEyYWuyDRX7E4/Xc2rO39yhaLnP1fXtLATaSSpk/gk88JQzYEsuu5B\n",
              "bTW1TV9lMRNUozXb1R/XqVz+HgQeVbxqdzak+YDULtra4JFkgCQmzsUggph5OwmcSBQnexKKSR+M\n",
              "I0/cv/GURnjnEZT05oNdK8iwMZJS7aZWFvVHijUUQ93CAua11hm/b7um/berRO6KEjOxhoZFeBec\n",
              "bPxF85c5fuocAcAj3AwmC7kAAAGOQZrnSeEPJlMCK/8AAAMAA3fxm6ma7vwM5vOB1OwZOn2pZ2x+\n",
              "LQ0oxpT6oH/sgOAHVtWjTP6KeIlFwWq0oVK/jTQRzv82vl3T4W2pff88nV0pijAHNRBQpDllpuzr\n",
              "Womk4zHqYGLAiIN5uevyQesBB0UzUfvbCn0aZ9+qldX/6ffTbOMhpT5m9CWGLpAD08+yWAkQiiSh\n",
              "QDmxKRoQKJwvx5y7zwaG/cqVTTtX42BcZHjgdAUyfPzRzb3dtKi4Kq6LS+1FsIeltoI5jEySCS/w\n",
              "bb+KW6tjRux8/6XA9D7FyjRplWcFoz79ujBOCiNIUCQA2LRSNEWcYMmKD19EYKXUlPDeZpJSlESU\n",
              "9p3/NbVlpduqYwKiCgIj96ArnxRRrLAEYBFdzQJce++rtH6eXKfJgHiK04uZ8LL5ah3iOPGnt7ar\n",
              "W+++uq7u2tABhljmQ1CYIgMlHQxqb8pL9BdxMnJAma2FmVn1HkhguTZliVOy55ds8kTraL6GNUPB\n",
              "/2NtKEO5TFN5DxKE4y3u0+sjElEAAAGLQZsISeEPJlMCM/8AAV31GHoDW2v4vu09mpHUAIoO2lEj\n",
              "86P9PuvCjB5FeJzS0jMvwIgxown4NBkdq3ZI1CstRjHscLz+nOixDRv8amt/giRKLf16d8G6VIqf\n",
              "JLu9poeC7vQKfL6YRVaBndw5sfFi1WKnNM2yqJTwTQbjHXKO/hHcYvWxVWnyFkOE6//90mFiqqKe\n",
              "fcd8YLk++71BOLCLMW386WSVwdv+iFyvEu+G+V7NPwYCJqcQp82KHo/Y23ZuOkUk4COZ+tBHlOWE\n",
              "mEr6HE+tbp+8+asAAPjU+8dWXBdAodNvNFCqXLJyW4VMJOOHnw73LVvG6NjkavLCnstC51ngbQ9s\n",
              "TD+YUrspGA9+iKmBL0pTBrIZWjLxwjvfrmPEUKQ6o6B+TTVbtLVKxlDTfuWA8TEEIvbi+uNK0fip\n",
              "OAINAhFFQHFlXBtlkF8UGlA1KhbFncBPwWkQU48VIcxuB8uK/pNUtsjwkfvQM6pZNLD6SZxQAr4U\n",
              "orpvGNSwX5afW5vIskCs/u/YFLMAAAGWQZspSeEPJlMCM/8AAAMAAm5j6t0vDVN92kRsUAFWVm9M\n",
              "OzWZtueuN9subNJUDpecab9EQjZoUZaDYLkXmmK2hywDuk7MS4QOR6N7XYn/cQ1/ChNuy2bKqR0X\n",
              "x0Ks/9Tpgujs9JG8en/GZ4mwIe1GtPOSqIKeCGShNFLGutiITvtJNomF/ruUgPiAFY2Dga6l2j0b\n",
              "Dg048E4e3CYjhw1N3f3FJ0ftsIK7cDn7ku8olDn1yoFvwb1RffBy53jCdfFxY+U/Jy2OT9pA7kSG\n",
              "Yfxn+LhiZoGe+ciEIwTeK5NHsD91a6DAAEUl2/mjbAAK+1gH/drdK/+gz6tjfglCeAXw7I/nlELf\n",
              "mTZkiEFHWRBsYn358UMl/+VTvcE8q1rXofW1BnyJAVdbwn37+cJIpezmRa0LneeWK37PDuLWaN6g\n",
              "HkqH78JI8+vnS5Pk9rOuhwn9s4IdwyTTtO/vs5pbp/vJpFaulwTUwyRa3BgzGlInKdBSamshUmHe\n",
              "wg5pzFE/JbkQjtZmu8ndM2fhtp7X9bVVcAr9J5lxHwAAAatBm0pJ4Q8mUwI7/wAAAwAGT32i5xYD\n",
              "/0z960VT2wZ3x7p7lbQhTrpqxgXvzl/ANk34LaaD1jLV0+PsEIucrfDsqcSW16drFTQ1zEFzaZsP\n",
              "N1C/xG8t7YPr2GpgtoKMexkQd/OyP3RB0+1tgGf6PvxVAZA2rh/Mqi/9AHRaHdgkYTHrx6sM/N7q\n",
              "7bbRjeG42apmyFiCEj7NghWIyNkft6wMqUJW258SNedNkFDUmw5mKXaB66dx0SQ7/fc0ALSFvMpr\n",
              "RWj7oyn8dTgXrhE2So7HLTwnNR/ldtX/mU9xu24IFIHJswYrRUycQjcbtr16cdLgbqgqHp0hqkLI\n",
              "/bCnu7kCxvrW+I7HZcYQjSEQQsuNnQxNeBOXt+V1oXJQPlaBlUM2E8TH8MFJPmt6wqYxmNAnErxC\n",
              "bQQm1tXnJszHVALI8nSmnpELx+ykk+MyHacWyB4qwQnOYzXq83CcXIfZE8wBkIDHV4w9U5rqh7i0\n",
              "22okttJWaqickP7J4opyc41+rcx2h4pHLdLgArG1plkaFjxKxTgGjiK/kPhpJK9X67gMqi8QLuPo\n",
              "EwAT4ArZAAABokGba0nhDyZTAhD/AAADAAi369os2zbWi/shXugPs1VDc8wgspJPrZgTax6qudEf\n",
              "f5F35XWk7taBqW29p9+jZkUk5kIJbpmAsCOKzCwRRcLVrgb0Z6LsIdL4K8bkHNDTbagAB0TQdSHs\n",
              "X5aturEtveOoui4pgTDd/XYXRuIPKFGx7I+nsAPM0JH2/14D81EnKBcK0vdu3h8Qb24nbyYW/Crr\n",
              "SlqVqNx6BDGiCXjMY/l6JTTXnn/apwHA8rCG45WBeecD5oDnUiD+YyawiVr8DzNQoS0GL3HMg0vC\n",
              "ilNP94vURr1urkgDRl5rGyuodf8c7yjRaQEAOld88WX+nkH6szDtnhR8eah1qRKD/uzqvBbCw7Az\n",
              "nx9jxsV2/E9cXitw0Agb3ubM8pzeZd/OxDefyGWThBStqw+cJUpu65P4SeNKft2jnTESmyb7d7FP\n",
              "JxkbN9zKhM7ZBS72am4qRrJKaGcqKnBqcQ2xLugHV9tNf6r5gzh0UshHp/Rf8mVC4WmBaz5xRjY4\n",
              "HsJWA/JYS3MAFeB5mxn7nF93axCadZdZudvwJeAAAAGRQZuMSeEPJlMCEv8AAAMADNMwzB1yDUOL\n",
              "/9UwJCqH3XunnmPr3KyPcFw1IrnbPFvYG31Sl8KzRWkKw+aFc/WXP7E+XDoxNd2PW5OVyonGYzJB\n",
              "h6Ng1zmgUdldFeYa5gPgR4ojGFuaKLv0RN32LdQ4pDDR6jm8BlShx45Ys3KK35Ql5eDPiPJJaO3q\n",
              "1Wg0tCgsEyvl4FDarzw5etaqeH857wpLGaWxlDcqetKweRERTeacPQsboNcihaoz8t24YSz2/Pms\n",
              "dPC59fzDsJD/FMcUAcnycz7ntkJ1x/akH2dvxeI7h74eA3k/83XZB86AUU3ZxzVOeyKrbRgzl0VV\n",
              "bmpkwGdmZZmNkK5X7y8Br7CLs4GFBaYnztzqLv+PF6DoJQa6t/6i3A4AlaQ3BFqMl+04ts+fSqYD\n",
              "zTCMNqYO5iJjjsFm8bYWsdlCWBIuML651kJLSyYoWSZcv4sYGmUEah9MlYZdcYJ9swdvEdHsDjth\n",
              "fHPWzG6K5VBQwvrWpn/h+vMF/xsy3zRPxOwlfqFgC+oAi7gAAAFgQZutSeEPJlMCFv8AAAMAEEdQ\n",
              "zN5WeagrFZiGdBW2ofeniT0AMrQ3n/4QYcomdDSr5KmlNtXoVS7X6tAA25Nlc0NihBMVb8aclk80\n",
              "gfj/1tWNJCEg4ks5UkKOJ5kBHKDuonc/KbsZwwDufszJHcbSnerDNsVE7MbEGd9PDbIuWGp/g8ls\n",
              "Z04jAIPW6+vResFIvtMJTRCE25lZQUkH06GDdIctA9eOkOXYrFeo1CwBLa2qCmmPcPFx+F8UqPct\n",
              "J6POsc1MM0d1j6v45s9NIh5HS+aMzYP7TT7b5NlxsYao9BAXeWN58aYIIIgSeP1J9zO1fI4yDj/k\n",
              "oNwQRqmGFW9+1I95rKdIfAj95a9u2aPJlWw0dXLZyGVShGRLb7cPmIxvh5PWEYF9BZJ8PfdEEerL\n",
              "G9OnK4pZcResL6hDMRwW6C6YqnjCqqQz5HmKf+UjdXDZQ5UnKQNYY557W58mp5HmDQAABPRtb292\n",
              "AAAAbG12aGQAAAAAAAAAAAAAAAAAAAPoAAAVfAABAAABAAAAAAAAAAAAAAAAAQAAAAAAAAAAAAAA\n",
              "AAAAAAEAAAAAAAAAAAAAAAAAAEAAAAAAAAAAAAAAAAAAAAAAAAAAAAAAAAAAAAAAAAACAAAEHnRy\n",
              "YWsAAABcdGtoZAAAAAMAAAAAAAAAAAAAAAEAAAAAAAAVfAAAAAAAAAAAAAAAAAAAAAAAAQAAAAAA\n",
              "AAAAAAAAAAAAAAEAAAAAAAAAAAAAAAAAAEAAAAAB9AAAAfQAAAAAACRlZHRzAAAAHGVsc3QAAAAA\n",
              "AAAAAQAAFXwAAAQAAAEAAAAAA5ZtZGlhAAAAIG1kaGQAAAAAAAAAAAAAAAAAACgAAADcAFXEAAAA\n",
              "AAAtaGRscgAAAAAAAAAAdmlkZQAAAAAAAAAAAAAAAFZpZGVvSGFuZGxlcgAAAANBbWluZgAAABR2\n",
              "bWhkAAAAAQAAAAAAAAAAAAAAJGRpbmYAAAAcZHJlZgAAAAAAAAABAAAADHVybCAAAAABAAADAXN0\n",
              "YmwAAAC5c3RzZAAAAAAAAAABAAAAqWF2YzEAAAAAAAAAAQAAAAAAAAAAAAAAAAAAAAAB9AH0AEgA\n",
              "AABIAAAAAAAAAAEAAAAAAAAAAAAAAAAAAAAAAAAAAAAAAAAAAAAAAAAAAAAY//8AAAA3YXZjQwFk\n",
              "AB7/4QAaZ2QAHqzZQIAQeeeEAAADAAQAAAMAoDxYtlgBAAZo6+PLIsD9+PgAAAAAHHV1aWRraEDy\n",
              "XyRPxbo5pRvPAyPzAAAAAAAAABhzdHRzAAAAAAAAAAEAAABuAAACAAAAABRzdHNzAAAAAAAAAAEA\n",
              "AAABAAAAGGN0dHMAAAAAAAAAAQAAAG4AAAQAAAAAHHN0c2MAAAAAAAAAAQAAAAEAAABuAAAAAQAA\n",
              "AcxzdHN6AAAAAAAAAAAAAABuAAAH7AAAAY4AAAG2AAABqwAAAZYAAAGKAAABmQAAAaoAAAGoAAAB\n",
              "qgAAAWMAAAGKAAABhAAAAbMAAAGeAAABkwAAAY0AAAGRAAABpgAAAaMAAAGcAAABZQAAAY4AAAGB\n",
              "AAABsgAAAZ8AAAGXAAABjAAAAZkAAAGrAAABqQAAAZsAAAFjAAABkgAAAYQAAAG1AAABpgAAAZQA\n",
              "AAGQAAABlAAAAacAAAGmAAABowAAAWIAAAGOAAABgwAAAbAAAAGdAAABlQAAAYoAAAGYAAABqQAA\n",
              "AagAAAGlAAABaQAAAZMAAAGKAAABtwAAAaYAAAGUAAABjwAAAZMAAAGnAAABqAAAAaIAAAFjAAAB\n",
              "jgAAAYIAAAGxAAABnQAAAZUAAAGKAAABlwAAAakAAAGoAAABowAAAWUAAAGTAAABhgAAAbUAAAGm\n",
              "AAABlAAAAY8AAAGWAAABpwAAAacAAAGkAAABZgAAAZEAAAGGAAABswAAAZ8AAAGZAAABjAAAAZcA\n",
              "AAGnAAABpQAAAZ4AAAFfAAABkgAAAYsAAAGuAAABpAAAAZIAAAGPAAABmgAAAa8AAAGmAAABlQAA\n",
              "AWQAAAAUc3RjbwAAAAAAAAABAAAAMAAAAGJ1ZHRhAAAAWm1ldGEAAAAAAAAAIWhkbHIAAAAAAAAA\n",
              "AG1kaXJhcHBsAAAAAAAAAAAAAAAALWlsc3QAAAAlqXRvbwAAAB1kYXRhAAAAAQAAAABMYXZmNTgu\n",
              "NzYuMTAw\n",
              "\">\n",
              "  Your browser does not support the video tag.\n",
              "</video>"
            ]
          },
          "metadata": {},
          "execution_count": 23
        }
      ]
    },
    {
      "cell_type": "code",
      "source": [],
      "metadata": {
        "id": "Rom62e0nEWNS"
      },
      "execution_count": null,
      "outputs": []
    },
    {
      "cell_type": "code",
      "source": [],
      "metadata": {
        "id": "J2Uf7ksgAxES"
      },
      "execution_count": null,
      "outputs": []
    },
    {
      "cell_type": "code",
      "source": [],
      "metadata": {
        "id": "Ol4huLYOAWXX"
      },
      "execution_count": null,
      "outputs": []
    }
  ]
}