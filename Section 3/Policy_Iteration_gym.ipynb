{
  "nbformat": 4,
  "nbformat_minor": 0,
  "metadata": {
    "colab": {
      "provenance": []
    },
    "kernelspec": {
      "name": "python3",
      "display_name": "Python 3"
    },
    "language_info": {
      "name": "python"
    }
  },
  "cells": [
    {
      "cell_type": "markdown",
      "source": [],
      "metadata": {
        "id": "ZBN6WhlKcPFU"
      }
    },
    {
      "cell_type": "code",
      "execution_count": null,
      "metadata": {
        "colab": {
          "base_uri": "https://localhost:8080/",
          "height": 1000
        },
        "id": "tQaCpEGBQmDK",
        "outputId": "2767d792-9ff0-4677-df2b-f5c9c3362821"
      },
      "outputs": [
        {
          "output_type": "stream",
          "name": "stdout",
          "text": [
            "Requirement already satisfied: setuptools in /usr/local/lib/python3.10/dist-packages (67.7.2)\n",
            "Collecting setuptools\n",
            "  Using cached setuptools-69.2.0-py3-none-any.whl (821 kB)\n",
            "Installing collected packages: setuptools\n",
            "  Attempting uninstall: setuptools\n",
            "    Found existing installation: setuptools 67.7.2\n",
            "    Uninstalling setuptools-67.7.2:\n",
            "      Successfully uninstalled setuptools-67.7.2\n",
            "\u001b[31mERROR: pip's dependency resolver does not currently take into account all the packages that are installed. This behaviour is the source of the following dependency conflicts.\n",
            "ipython 7.34.0 requires jedi>=0.16, which is not installed.\u001b[0m\u001b[31m\n",
            "\u001b[0mSuccessfully installed setuptools-69.2.0\n"
          ]
        },
        {
          "output_type": "display_data",
          "data": {
            "application/vnd.colab-display-data+json": {
              "pip_warning": {
                "packages": [
                  "_distutils_hack",
                  "pkg_resources",
                  "setuptools"
                ]
              },
              "id": "070daadd26e94f038f2217b1bf07e125"
            }
          },
          "metadata": {}
        },
        {
          "output_type": "stream",
          "name": "stdout",
          "text": [
            "Reading package lists... Done\n",
            "Building dependency tree... Done\n",
            "Reading state information... Done\n",
            "The following additional packages will be installed:\n",
            "  libfontenc1 libxfont2 libxkbfile1 x11-xkb-utils xfonts-base xfonts-encodings\n",
            "  xfonts-utils xserver-common\n",
            "The following NEW packages will be installed:\n",
            "  libfontenc1 libxfont2 libxkbfile1 x11-xkb-utils xfonts-base xfonts-encodings\n",
            "  xfonts-utils xserver-common xvfb\n",
            "0 upgraded, 9 newly installed, 0 to remove and 46 not upgraded.\n",
            "Need to get 7,813 kB of archives.\n",
            "After this operation, 11.9 MB of additional disk space will be used.\n",
            "Get:1 http://archive.ubuntu.com/ubuntu jammy/main amd64 libfontenc1 amd64 1:1.1.4-1build3 [14.7 kB]\n",
            "Get:2 http://archive.ubuntu.com/ubuntu jammy/main amd64 libxfont2 amd64 1:2.0.5-1build1 [94.5 kB]\n",
            "Get:3 http://archive.ubuntu.com/ubuntu jammy/main amd64 libxkbfile1 amd64 1:1.1.0-1build3 [71.8 kB]\n",
            "Get:4 http://archive.ubuntu.com/ubuntu jammy/main amd64 x11-xkb-utils amd64 7.7+5build4 [172 kB]\n",
            "Get:5 http://archive.ubuntu.com/ubuntu jammy/main amd64 xfonts-encodings all 1:1.0.5-0ubuntu2 [578 kB]\n",
            "Get:6 http://archive.ubuntu.com/ubuntu jammy/main amd64 xfonts-utils amd64 1:7.7+6build2 [94.6 kB]\n",
            "Get:7 http://archive.ubuntu.com/ubuntu jammy/main amd64 xfonts-base all 1:1.0.5 [5,896 kB]\n",
            "Get:8 http://archive.ubuntu.com/ubuntu jammy-updates/main amd64 xserver-common all 2:21.1.4-2ubuntu1.7~22.04.10 [28.5 kB]\n",
            "Get:9 http://archive.ubuntu.com/ubuntu jammy-updates/universe amd64 xvfb amd64 2:21.1.4-2ubuntu1.7~22.04.10 [863 kB]\n",
            "Fetched 7,813 kB in 1s (7,747 kB/s)\n",
            "debconf: unable to initialize frontend: Dialog\n",
            "debconf: (No usable dialog-like program is installed, so the dialog based frontend cannot be used. at /usr/share/perl5/Debconf/FrontEnd/Dialog.pm line 78, <> line 9.)\n",
            "debconf: falling back to frontend: Readline\n",
            "debconf: unable to initialize frontend: Readline\n",
            "debconf: (This frontend requires a controlling tty.)\n",
            "debconf: falling back to frontend: Teletype\n",
            "dpkg-preconfigure: unable to re-open stdin: \n",
            "Selecting previously unselected package libfontenc1:amd64.\n",
            "(Reading database ... 121752 files and directories currently installed.)\n",
            "Preparing to unpack .../0-libfontenc1_1%3a1.1.4-1build3_amd64.deb ...\n",
            "Unpacking libfontenc1:amd64 (1:1.1.4-1build3) ...\n",
            "Selecting previously unselected package libxfont2:amd64.\n",
            "Preparing to unpack .../1-libxfont2_1%3a2.0.5-1build1_amd64.deb ...\n",
            "Unpacking libxfont2:amd64 (1:2.0.5-1build1) ...\n",
            "Selecting previously unselected package libxkbfile1:amd64.\n",
            "Preparing to unpack .../2-libxkbfile1_1%3a1.1.0-1build3_amd64.deb ...\n",
            "Unpacking libxkbfile1:amd64 (1:1.1.0-1build3) ...\n",
            "Selecting previously unselected package x11-xkb-utils.\n",
            "Preparing to unpack .../3-x11-xkb-utils_7.7+5build4_amd64.deb ...\n",
            "Unpacking x11-xkb-utils (7.7+5build4) ...\n",
            "Selecting previously unselected package xfonts-encodings.\n",
            "Preparing to unpack .../4-xfonts-encodings_1%3a1.0.5-0ubuntu2_all.deb ...\n",
            "Unpacking xfonts-encodings (1:1.0.5-0ubuntu2) ...\n",
            "Selecting previously unselected package xfonts-utils.\n",
            "Preparing to unpack .../5-xfonts-utils_1%3a7.7+6build2_amd64.deb ...\n",
            "Unpacking xfonts-utils (1:7.7+6build2) ...\n",
            "Selecting previously unselected package xfonts-base.\n",
            "Preparing to unpack .../6-xfonts-base_1%3a1.0.5_all.deb ...\n",
            "Unpacking xfonts-base (1:1.0.5) ...\n",
            "Selecting previously unselected package xserver-common.\n",
            "Preparing to unpack .../7-xserver-common_2%3a21.1.4-2ubuntu1.7~22.04.10_all.deb ...\n",
            "Unpacking xserver-common (2:21.1.4-2ubuntu1.7~22.04.10) ...\n",
            "Selecting previously unselected package xvfb.\n",
            "Preparing to unpack .../8-xvfb_2%3a21.1.4-2ubuntu1.7~22.04.10_amd64.deb ...\n",
            "Unpacking xvfb (2:21.1.4-2ubuntu1.7~22.04.10) ...\n",
            "Setting up libfontenc1:amd64 (1:1.1.4-1build3) ...\n",
            "Setting up xfonts-encodings (1:1.0.5-0ubuntu2) ...\n",
            "Setting up libxkbfile1:amd64 (1:1.1.0-1build3) ...\n",
            "Setting up libxfont2:amd64 (1:2.0.5-1build1) ...\n",
            "Setting up x11-xkb-utils (7.7+5build4) ...\n",
            "Setting up xfonts-utils (1:7.7+6build2) ...\n",
            "Setting up xfonts-base (1:1.0.5) ...\n",
            "Setting up xserver-common (2:21.1.4-2ubuntu1.7~22.04.10) ...\n",
            "Setting up xvfb (2:21.1.4-2ubuntu1.7~22.04.10) ...\n",
            "Processing triggers for man-db (2.10.2-1) ...\n",
            "Processing triggers for fontconfig (2.13.1-4.2ubuntu5) ...\n",
            "Processing triggers for libc-bin (2.35-0ubuntu3.4) ...\n",
            "/sbin/ldconfig.real: /usr/local/lib/libtbb.so.12 is not a symbolic link\n",
            "\n",
            "/sbin/ldconfig.real: /usr/local/lib/libtbbmalloc_proxy.so.2 is not a symbolic link\n",
            "\n",
            "/sbin/ldconfig.real: /usr/local/lib/libtbbbind_2_0.so.3 is not a symbolic link\n",
            "\n",
            "/sbin/ldconfig.real: /usr/local/lib/libtbbmalloc.so.2 is not a symbolic link\n",
            "\n",
            "/sbin/ldconfig.real: /usr/local/lib/libtbbbind_2_5.so.3 is not a symbolic link\n",
            "\n",
            "/sbin/ldconfig.real: /usr/local/lib/libtbbbind.so.3 is not a symbolic link\n",
            "\n",
            "Collecting swig\n",
            "  Downloading swig-4.2.1-py2.py3-none-manylinux_2_5_x86_64.manylinux1_x86_64.whl (1.9 MB)\n",
            "\u001b[2K     \u001b[90m━━━━━━━━━━━━━━━━━━━━━━━━━━━━━━━━━━━━━━━━\u001b[0m \u001b[32m1.9/1.9 MB\u001b[0m \u001b[31m27.2 MB/s\u001b[0m eta \u001b[36m0:00:00\u001b[0m\n",
            "\u001b[?25hInstalling collected packages: swig\n",
            "Successfully installed swig-4.2.1\n",
            "Requirement already satisfied: gym[box2d] in /usr/local/lib/python3.10/dist-packages (0.25.2)\n",
            "Requirement already satisfied: numpy>=1.18.0 in /usr/local/lib/python3.10/dist-packages (from gym[box2d]) (1.25.2)\n",
            "Requirement already satisfied: cloudpickle>=1.2.0 in /usr/local/lib/python3.10/dist-packages (from gym[box2d]) (2.2.1)\n",
            "Requirement already satisfied: gym-notices>=0.0.4 in /usr/local/lib/python3.10/dist-packages (from gym[box2d]) (0.0.8)\n",
            "Collecting box2d-py==2.3.5 (from gym[box2d])\n",
            "  Downloading box2d-py-2.3.5.tar.gz (374 kB)\n",
            "\u001b[2K     \u001b[90m━━━━━━━━━━━━━━━━━━━━━━━━━━━━━━━━━━━━━━━━\u001b[0m \u001b[32m374.4/374.4 kB\u001b[0m \u001b[31m8.3 MB/s\u001b[0m eta \u001b[36m0:00:00\u001b[0m\n",
            "\u001b[?25h  Preparing metadata (setup.py) ... \u001b[?25l\u001b[?25hdone\n",
            "Collecting pygame==2.1.0 (from gym[box2d])\n",
            "  Downloading pygame-2.1.0-cp310-cp310-manylinux_2_17_x86_64.manylinux2014_x86_64.whl (18.3 MB)\n",
            "\u001b[2K     \u001b[90m━━━━━━━━━━━━━━━━━━━━━━━━━━━━━━━━━━━━━━━━\u001b[0m \u001b[32m18.3/18.3 MB\u001b[0m \u001b[31m55.9 MB/s\u001b[0m eta \u001b[36m0:00:00\u001b[0m\n",
            "\u001b[?25hRequirement already satisfied: swig==4.* in /usr/local/lib/python3.10/dist-packages (from gym[box2d]) (4.2.1)\n",
            "Building wheels for collected packages: box2d-py\n",
            "  Building wheel for box2d-py (setup.py) ... \u001b[?25l\u001b[?25hdone\n",
            "  Created wheel for box2d-py: filename=box2d_py-2.3.5-cp310-cp310-linux_x86_64.whl size=2376103 sha256=780b14a1a0ea8592f65f1b0cc4a7284a5c775cbbf4ce8cd74ac7a7b5284bc4cc\n",
            "  Stored in directory: /root/.cache/pip/wheels/db/8f/6a/eaaadf056fba10a98d986f6dce954e6201ba3126926fc5ad9e\n",
            "Successfully built box2d-py\n",
            "Installing collected packages: box2d-py, pygame\n",
            "  Attempting uninstall: pygame\n",
            "    Found existing installation: pygame 2.5.2\n",
            "    Uninstalling pygame-2.5.2:\n",
            "      Successfully uninstalled pygame-2.5.2\n",
            "Successfully installed box2d-py-2.3.5 pygame-2.1.0\n"
          ]
        }
      ],
      "source": [
        "!pip install gym pyvirtualdisplay > /dev/null 2>&1\n",
        "!apt-get install -y xvfb python-opengl ffmpeg > /dev/null 2>&1\n",
        "!apt-get update > /dev/null 2>&1\n",
        "!apt-get install cmake > /dev/null 2>&1\n",
        "!pip install --upgrade setuptools 2>&1\n",
        "!pip install ez_setup > /dev/null 2>&1\n",
        "!pip install gym[atari] > /dev/null 2>&1\n",
        "!sudo apt-get install xvfb\n",
        "!pip install swig\n",
        "!pip install gym[box2d]"
      ]
    },
    {
      "cell_type": "code",
      "source": [
        "import gym\n",
        "from gym import logger as gymlogger\n",
        "from gym.wrappers.record_video import RecordVideo\n",
        "from IPython.display import HTML\n",
        "from IPython import display as ipythondisplay\n",
        "import glob\n",
        "import io\n",
        "import base64\n",
        "import pygame\n",
        "import numpy as np\n",
        "import matplotlib.pyplot as plt\n",
        "gymlogger.set_level(40) #error only\n",
        "\n",
        "pygame.init()\n",
        "pygame.font.init()"
      ],
      "metadata": {
        "id": "NnphAICHRVhM"
      },
      "execution_count": null,
      "outputs": []
    },
    {
      "cell_type": "code",
      "source": [
        "from pyvirtualdisplay import Display\n",
        "display = Display(visible=0, size=(1400, 900))\n",
        "display.start()\n",
        "\n",
        "\"\"\"\n",
        "Utility functions to enable video recording of gym environment and displaying it\n",
        "To enable video, just do \"env = wrap_env(env)\"\"\n",
        "\"\"\"\n",
        "\n",
        "def show_video():\n",
        "  mp4list = glob.glob('video/*.mp4')\n",
        "  if len(mp4list) > 0:\n",
        "    mp4 = mp4list[0]\n",
        "    video = io.open(mp4, 'r+b').read()\n",
        "    encoded = base64.b64encode(video)\n",
        "    ipythondisplay.display(HTML(data='''<video alt=\"test\" autoplay\n",
        "                loop controls style=\"height: 400px;\">\n",
        "                <source src=\"data:video/mp4;base64,{0}\" type=\"video/mp4\" />\n",
        "             </video>'''.format(encoded.decode('ascii'))))\n",
        "  else:\n",
        "    print(\"Could not find video\")\n",
        "\n",
        "\n",
        "def wrap_env(env):\n",
        "  env = RecordVideo(env, './video',  episode_trigger = lambda episode_number: True)\n",
        "  return env"
      ],
      "metadata": {
        "id": "ttc95AT1RX1i"
      },
      "execution_count": null,
      "outputs": []
    },
    {
      "cell_type": "code",
      "source": [
        "env = wrap_env(gym.make(\"FrozenLake-v1\"))\n",
        "observation = env.reset()\n",
        "done = False\n",
        "while not done:\n",
        "\n",
        "    env.render()\n",
        "    action = env.action_space.sample()\n",
        "    observation, reward, done, info = env.step(action)\n",
        "\n",
        "env.close()\n",
        "show_video()"
      ],
      "metadata": {
        "colab": {
          "base_uri": "https://localhost:8080/",
          "height": 456
        },
        "id": "JuuQ2YIpRXzg",
        "outputId": "9202f106-38d5-41fa-b7bf-24099c46f39a"
      },
      "execution_count": null,
      "outputs": [
        {
          "output_type": "stream",
          "name": "stderr",
          "text": [
            "/usr/local/lib/python3.10/dist-packages/gym/utils/passive_env_checker.py:241: DeprecationWarning: `np.bool8` is a deprecated alias for `np.bool_`.  (Deprecated NumPy 1.24)\n",
            "  if not isinstance(terminated, (bool, np.bool8)):\n"
          ]
        },
        {
          "output_type": "display_data",
          "data": {
            "text/plain": [
              "<IPython.core.display.HTML object>"
            ],
            "text/html": [
              "<video alt=\"test\" autoplay\n",
              "                loop controls style=\"height: 400px;\">\n",
              "                <source src=\"data:video/mp4;base64,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\" type=\"video/mp4\" />\n",
              "             </video>"
            ]
          },
          "metadata": {}
        }
      ]
    },
    {
      "cell_type": "code",
      "source": [
        "print(f\"Observation space shape: {env.observation_space}\")\n",
        "print(f\"Number of actions: {env.action_space.n}\")"
      ],
      "metadata": {
        "colab": {
          "base_uri": "https://localhost:8080/"
        },
        "id": "ZA2pCQjJRXxp",
        "outputId": "b50bd68d-8d10-4f9f-850a-2ad9f654ff31"
      },
      "execution_count": null,
      "outputs": [
        {
          "output_type": "stream",
          "name": "stdout",
          "text": [
            "Observation space shape: Discrete(16)\n",
            "Number of actions: 4\n"
          ]
        }
      ]
    },
    {
      "cell_type": "code",
      "source": [],
      "metadata": {
        "id": "OVCA2Ns_Yz7E"
      },
      "execution_count": null,
      "outputs": []
    },
    {
      "cell_type": "code",
      "source": [
        "import numpy as np\n",
        "import gym\n",
        "\n",
        "def eval_state_action(V, s, a, gamma=0.99):\n",
        "    return np.sum([p * (rew + gamma*V[next_s]) for p, next_s, rew, _ in env.P[s][a]])\n",
        "\n",
        "def policy_evaluation(V, policy, eps=0.0001):\n",
        "    '''\n",
        "    Policy evaluation. Update the value function until it reach a steady state\n",
        "    '''\n",
        "    while True:\n",
        "        delta = 0\n",
        "        # loop over all states\n",
        "        for s in range(nS):\n",
        "            old_v = V[s]\n",
        "            # update V[s] using the Bellman equation\n",
        "            V[s] = eval_state_action(V, s, policy[s])\n",
        "            delta = max(delta, np.abs(old_v - V[s]))\n",
        "\n",
        "        if delta < eps:\n",
        "            break\n",
        "\n",
        "def policy_improvement(V, policy):\n",
        "    '''\n",
        "    Policy improvement. Update the policy based on the value function\n",
        "    '''\n",
        "    policy_stable = True\n",
        "    for s in range(nS):\n",
        "        old_a = policy[s]\n",
        "        # update the policy with the action that bring to the highest state value\n",
        "        policy[s] = np.argmax([eval_state_action(V, s, a) for a in range(nA)])\n",
        "        if old_a != policy[s]:\n",
        "            policy_stable = False\n",
        "\n",
        "    return policy_stable\n",
        "\n",
        "\n",
        "def run_episodes(env, policy, num_games=100):\n",
        "    '''\n",
        "    Run some games to test a policy\n",
        "    '''\n",
        "    tot_rew = 0\n",
        "    state = env.reset()\n",
        "\n",
        "    for _ in range(num_games):\n",
        "        done = False\n",
        "        while not done:\n",
        "            # select the action accordingly to the policy\n",
        "#             print(env.step(policy[state]))\n",
        "#             break\n",
        "            next_state, reward, done,_,_ = env.step(policy[state])\n",
        "\n",
        "            state = next_state\n",
        "            tot_rew += reward\n",
        "            if done:\n",
        "                state = env.reset()\n",
        "\n",
        "    print('Won %i of %i games!'%(tot_rew, num_games))"
      ],
      "metadata": {
        "id": "O9HVTjmuZgxx"
      },
      "execution_count": null,
      "outputs": []
    },
    {
      "cell_type": "code",
      "source": [
        "# create the environment\n",
        "env = gym.make(\"FrozenLake-v1\")\n",
        "# enwrap it to have additional information from it\n",
        "env = env.unwrapped\n",
        "\n",
        "# spaces dimension\n",
        "nA = env.action_space.n\n",
        "nS = env.observation_space.n\n",
        "\n",
        "# initializing value function and policy\n",
        "V = np.zeros(nS)\n",
        "policy = np.zeros(nS)\n",
        "\n",
        "# some useful variable\n",
        "policy_stable = False\n",
        "it = 0\n",
        "\n",
        "while not policy_stable:\n",
        "    policy_evaluation(V, policy)\n",
        "    policy_stable = policy_improvement(V, policy)\n",
        "    it += 1\n",
        "\n",
        "print('Converged after %i policy iterations'%(it))\n",
        "run_episodes(env, policy)\n",
        "print('\\n', '------ State Values:------ \\n')\n",
        "print(V.reshape((4,4)))\n",
        "print('\\n', '------ Policy: ------ \\n')\n",
        "print(policy.reshape((4,4)))"
      ],
      "metadata": {
        "colab": {
          "base_uri": "https://localhost:8080/"
        },
        "id": "xEA1Lr-wZhS9",
        "outputId": "c397c5c2-039f-4829-de6c-2b76a01a6357"
      },
      "execution_count": null,
      "outputs": [
        {
          "output_type": "stream",
          "name": "stdout",
          "text": [
            "Converged after 7 policy iterations\n",
            "Won 86 of 100 games!\n",
            "\n",
            " ------ State Values:------ \n",
            "\n",
            "[[0.54091157 0.49730529 0.46893217 0.4549538 ]\n",
            " [0.55745963 0.         0.35758788 0.        ]\n",
            " [0.59098844 0.64249454 0.61469305 0.        ]\n",
            " [0.         0.74131715 0.86263385 0.        ]]\n",
            "\n",
            " ------ Policy: ------ \n",
            "\n",
            "[[0. 3. 3. 3.]\n",
            " [0. 0. 0. 0.]\n",
            " [3. 1. 0. 0.]\n",
            " [0. 2. 1. 0.]]\n"
          ]
        }
      ]
    },
    {
      "cell_type": "code",
      "source": [
        "env = wrap_env(gym.make(\"FrozenLake-v1\"))\n",
        "observation = env.reset()\n",
        "done = False\n",
        "while not done:\n",
        "\n",
        "    env.render()\n",
        "    action = int(policy[observation])\n",
        "    observation, reward, done, info = env.step(action)\n",
        "\n",
        "env.close()\n",
        "show_video()"
      ],
      "metadata": {
        "colab": {
          "base_uri": "https://localhost:8080/",
          "height": 456
        },
        "id": "Bh5xtoU7ZsLk",
        "outputId": "8f318621-ce2b-40d7-b876-32f6d0e24607"
      },
      "execution_count": null,
      "outputs": [
        {
          "output_type": "stream",
          "name": "stderr",
          "text": [
            "/usr/local/lib/python3.10/dist-packages/gym/utils/passive_env_checker.py:241: DeprecationWarning: `np.bool8` is a deprecated alias for `np.bool_`.  (Deprecated NumPy 1.24)\n",
            "  if not isinstance(terminated, (bool, np.bool8)):\n"
          ]
        },
        {
          "output_type": "display_data",
          "data": {
            "text/plain": [
              "<IPython.core.display.HTML object>"
            ],
            "text/html": [
              "<video alt=\"test\" autoplay\n",
              "                loop controls style=\"height: 400px;\">\n",
              "                <source src=\"data:video/mp4;base64,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\" type=\"video/mp4\" />\n",
              "             </video>"
            ]
          },
          "metadata": {}
        }
      ]
    },
    {
      "cell_type": "code",
      "source": [],
      "metadata": {
        "id": "AVH6JF6ZZgtb"
      },
      "execution_count": null,
      "outputs": []
    },
    {
      "cell_type": "code",
      "source": [],
      "metadata": {
        "id": "2K0-V-PjZgra"
      },
      "execution_count": null,
      "outputs": []
    },
    {
      "cell_type": "code",
      "source": [],
      "metadata": {
        "id": "Iq1GD9geZgpd"
      },
      "execution_count": null,
      "outputs": []
    },
    {
      "cell_type": "code",
      "source": [],
      "metadata": {
        "id": "gFhlrEiZZgnB"
      },
      "execution_count": null,
      "outputs": []
    }
  ]
}