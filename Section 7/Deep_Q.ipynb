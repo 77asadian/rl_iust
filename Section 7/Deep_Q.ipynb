{
  "nbformat": 4,
  "nbformat_minor": 0,
  "metadata": {
    "colab": {
      "provenance": [],
      "collapsed_sections": [
        "dERhio9-c1x1",
        "Bzbj_zYkdeh8"
      ]
    },
    "kernelspec": {
      "name": "python3",
      "display_name": "Python 3"
    },
    "language_info": {
      "name": "python"
    }
  },
  "cells": [
    {
      "cell_type": "markdown",
      "source": [
        "# **Object Oriented Programming (OOP)**"
      ],
      "metadata": {
        "id": "aKcYCzW86YgF"
      }
    },
    {
      "cell_type": "code",
      "source": [
        "# Class : A Blueprint\n",
        "# Object :\n",
        "# Attributes :\n",
        "# Methods : Function\n",
        "# Inheritance :"
      ],
      "metadata": {
        "id": "56Y5ocmL6YId"
      },
      "execution_count": null,
      "outputs": []
    },
    {
      "cell_type": "code",
      "source": [
        "# Define Car class\n",
        "\n",
        "class Car:\n",
        "    def __init__(self, company, model, year):\n",
        "        self.company = company\n",
        "        self.model = model\n",
        "        self.year = year\n",
        "\n",
        "    def start(self):\n",
        "        print(f\"{self.model} {self.year} is started ...\")\n",
        "\n",
        "    def stop(self):\n",
        "        print(f\"{self.model} {self.year} is stopped ...\")"
      ],
      "metadata": {
        "id": "Om1XKzCZ6YGV"
      },
      "execution_count": 1,
      "outputs": []
    },
    {
      "cell_type": "code",
      "source": [
        "my_car1 = Car(\"Toyota\", \"Corolla\", \"2023\")\n",
        "my_car2 = Car(\"Saipa\", \"Quick\", \"1403\")"
      ],
      "metadata": {
        "id": "ySNNxFJ46X8k"
      },
      "execution_count": 2,
      "outputs": []
    },
    {
      "cell_type": "code",
      "source": [
        "my_car1.start()"
      ],
      "metadata": {
        "colab": {
          "base_uri": "https://localhost:8080/"
        },
        "id": "WO4fpP5e7_DG",
        "outputId": "dd39cc9e-aafe-43a5-a0fd-b4f8537b7a8a"
      },
      "execution_count": 4,
      "outputs": [
        {
          "output_type": "stream",
          "name": "stdout",
          "text": [
            "Corolla 2023 is started ...\n"
          ]
        }
      ]
    },
    {
      "cell_type": "code",
      "source": [
        "my_car2.stop()"
      ],
      "metadata": {
        "colab": {
          "base_uri": "https://localhost:8080/"
        },
        "id": "rEvOABJM8Icv",
        "outputId": "ced0de55-4235-487a-b209-262d9c15ac75"
      },
      "execution_count": 6,
      "outputs": [
        {
          "output_type": "stream",
          "name": "stdout",
          "text": [
            "Quick 1403 is stopped ...\n"
          ]
        }
      ]
    },
    {
      "cell_type": "code",
      "source": [
        "class ElectricalCar(Car):\n",
        "    def __init__(self, company, model, year, battery_capacity):\n",
        "        super().__init__(company, model, year)\n",
        "        self.battery_capacity = battery_capacity\n",
        "\n",
        "    def charge(self):\n",
        "        print(f\"{self.model} {self.year} is charging ...\")\n"
      ],
      "metadata": {
        "id": "TH79Db128WHG"
      },
      "execution_count": 7,
      "outputs": []
    },
    {
      "cell_type": "code",
      "source": [
        "my_car3 = ElectricalCar('Tesla', 'Model S', 2024, 1000)"
      ],
      "metadata": {
        "id": "Jx9x0IWr9IOS"
      },
      "execution_count": 8,
      "outputs": []
    },
    {
      "cell_type": "code",
      "source": [
        "my_car3.charge()"
      ],
      "metadata": {
        "colab": {
          "base_uri": "https://localhost:8080/"
        },
        "id": "ZgEDMJ8J9TV6",
        "outputId": "96892e3d-1219-48c9-f78b-abbcfa517ae7"
      },
      "execution_count": 11,
      "outputs": [
        {
          "output_type": "stream",
          "name": "stdout",
          "text": [
            "Model S 2024 is charging ...\n"
          ]
        }
      ]
    },
    {
      "cell_type": "code",
      "source": [],
      "metadata": {
        "id": "44YuqKNH6Xzd"
      },
      "execution_count": null,
      "outputs": []
    },
    {
      "cell_type": "code",
      "source": [],
      "metadata": {
        "id": "23wzWJNC6XxB"
      },
      "execution_count": null,
      "outputs": []
    },
    {
      "cell_type": "markdown",
      "source": [
        "# **Initialization**"
      ],
      "metadata": {
        "id": "dERhio9-c1x1"
      }
    },
    {
      "cell_type": "code",
      "source": [
        "!pip install gym pyvirtualdisplay > /dev/null 2>&1\n",
        "!apt-get install -y xvfb python-opengl ffmpeg > /dev/null 2>&1\n",
        "!apt-get update > /dev/null 2>&1\n",
        "!apt-get install cmake > /dev/null 2>&1\n",
        "!pip install --upgrade setuptools 2>&1\n",
        "!pip install ez_setup > /dev/null 2>&1\n",
        "!pip install gym[atari] > /dev/null 2>&1\n",
        "!sudo apt-get install xvfb\n",
        "!pip install swig\n",
        "!pip install gym[box2d]"
      ],
      "metadata": {
        "id": "LbAfNDOyJfje"
      },
      "execution_count": null,
      "outputs": []
    },
    {
      "cell_type": "code",
      "source": [
        "import gym\n",
        "from gym import logger as gymlogger\n",
        "from gym.wrappers.record_video import RecordVideo\n",
        "from IPython.display import HTML\n",
        "from IPython import display as ipythondisplay\n",
        "import glob\n",
        "import io\n",
        "import base64\n",
        "import pygame\n",
        "import numpy as np\n",
        "import random\n",
        "from IPython.display import clear_output\n",
        "import matplotlib.pyplot as plt\n",
        "import warnings\n",
        "warnings.simplefilter('ignore')\n",
        "%matplotlib inline\n",
        "import seaborn as sns\n",
        "sns.set()\n",
        "gymlogger.set_level(40) #error only\n",
        "pygame.init()\n",
        "pygame.font.init()"
      ],
      "metadata": {
        "id": "HO1zDxzBJiKF"
      },
      "execution_count": 12,
      "outputs": []
    },
    {
      "cell_type": "code",
      "source": [
        "from pyvirtualdisplay import Display\n",
        "display = Display(visible=0, size=(1400, 900))\n",
        "display.start()\n",
        "\n",
        "\"\"\"\n",
        "Utility functions to enable video recording of gym environment and displaying it\n",
        "To enable video, just do \"env = wrap_env(env)\"\"\n",
        "\"\"\"\n",
        "\n",
        "def show_video():\n",
        "  mp4list = glob.glob('video/*.mp4')\n",
        "  if len(mp4list) > 0:\n",
        "    mp4 = mp4list[0]\n",
        "    video = io.open(mp4, 'r+b').read()\n",
        "    encoded = base64.b64encode(video)\n",
        "    ipythondisplay.display(HTML(data='''<video alt=\"test\" autoplay\n",
        "                loop controls style=\"height: 400px;\">\n",
        "                <source src=\"data:video/mp4;base64,{0}\" type=\"video/mp4\" />\n",
        "             </video>'''.format(encoded.decode('ascii'))))\n",
        "  else:\n",
        "    print(\"Could not find video\")\n",
        "\n",
        "def wrap_env(env):\n",
        "  env = RecordVideo(env, './video',  episode_trigger = lambda episode_number: True)\n",
        "  return env"
      ],
      "metadata": {
        "id": "NUoxShvndOJk"
      },
      "execution_count": 13,
      "outputs": []
    },
    {
      "cell_type": "markdown",
      "source": [
        "# **Test a random agent**"
      ],
      "metadata": {
        "id": "Bzbj_zYkdeh8"
      }
    },
    {
      "cell_type": "code",
      "source": [
        "env = wrap_env(gym.make(\"CartPole-v0\"))\n",
        "observation = env.reset()\n",
        "done = False\n",
        "while not done:\n",
        "\n",
        "    env.render()\n",
        "    action = env.action_space.sample()\n",
        "    observation, reward, done, info = env.step(action)\n",
        "\n",
        "env.close()\n",
        "show_video()"
      ],
      "metadata": {
        "id": "HxBMY9_uTbT-",
        "colab": {
          "base_uri": "https://localhost:8080/",
          "height": 422
        },
        "outputId": "5227dd32-a064-407f-fd7b-b05870c4f58b"
      },
      "execution_count": 16,
      "outputs": [
        {
          "output_type": "display_data",
          "data": {
            "text/plain": [
              "<IPython.core.display.HTML object>"
            ],
            "text/html": [
              "<video alt=\"test\" autoplay\n",
              "                loop controls style=\"height: 400px;\">\n",
              "                <source src=\"data:video/mp4;base64,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\" type=\"video/mp4\" />\n",
              "             </video>"
            ]
          },
          "metadata": {}
        }
      ]
    },
    {
      "cell_type": "markdown",
      "source": [
        "# **Import necessary libraries**"
      ],
      "metadata": {
        "id": "3fwQKrfdGWbP"
      }
    },
    {
      "cell_type": "code",
      "execution_count": 17,
      "metadata": {
        "id": "uqjl194gAu1A"
      },
      "outputs": [],
      "source": [
        "import random\n",
        "import copy\n",
        "import gym\n",
        "import torch\n",
        "import torch.nn.functional as F\n",
        "from torch import nn as nn\n",
        "from torch.optim import AdamW\n",
        "from tqdm import tqdm"
      ]
    },
    {
      "cell_type": "markdown",
      "source": [
        "# **Create and prepare the environment**"
      ],
      "metadata": {
        "id": "bTtcubKUGb53"
      }
    },
    {
      "cell_type": "code",
      "source": [
        "env = gym.make(\"CartPole-v0\")\n",
        "env.reset()\n",
        "plt.imshow(env.render(mode='rgb_array'))"
      ],
      "metadata": {
        "id": "yrMwgjphC9ZX",
        "colab": {
          "base_uri": "https://localhost:8080/",
          "height": 418
        },
        "outputId": "0e5c9eec-065a-439f-a1ff-13365780616a"
      },
      "execution_count": 18,
      "outputs": [
        {
          "output_type": "execute_result",
          "data": {
            "text/plain": [
              "<matplotlib.image.AxesImage at 0x7ee30c1286d0>"
            ]
          },
          "metadata": {},
          "execution_count": 18
        },
        {
          "output_type": "display_data",
          "data": {
            "text/plain": [
              "<Figure size 640x480 with 1 Axes>"
            ],
            "image/png": "[encoded data removed]"
          },
          "metadata": {}
        }
      ]
    },
    {
      "cell_type": "code",
      "source": [
        "env.action_space.n"
      ],
      "metadata": {
        "colab": {
          "base_uri": "https://localhost:8080/"
        },
        "id": "1jrU1PHF_S0X",
        "outputId": "1c860578-0055-4909-ac02-b6c5c264b37f"
      },
      "execution_count": 23,
      "outputs": [
        {
          "output_type": "execute_result",
          "data": {
            "text/plain": [
              "2"
            ]
          },
          "metadata": {},
          "execution_count": 23
        }
      ]
    },
    {
      "cell_type": "code",
      "source": [
        "state_dims = env.observation_space.shape[0]\n",
        "num_actions = env.action_space.n\n",
        "print(f\"State Space: {state_dims}, Action Space: {num_actions}\")"
      ],
      "metadata": {
        "colab": {
          "base_uri": "https://localhost:8080/"
        },
        "id": "IOSOaodz_M43",
        "outputId": "d716a56f-68ce-43cf-f9ba-4c49d01c1d90"
      },
      "execution_count": 24,
      "outputs": [
        {
          "output_type": "stream",
          "name": "stdout",
          "text": [
            "State Space: 4, Action Space: 2\n"
          ]
        }
      ]
    },
    {
      "cell_type": "code",
      "source": [
        "env.reset()"
      ],
      "metadata": {
        "colab": {
          "base_uri": "https://localhost:8080/"
        },
        "id": "_BgwNWxV_uJn",
        "outputId": "d09b82e8-0ec3-4398-a84a-a49e0cad3f5e"
      },
      "execution_count": 26,
      "outputs": [
        {
          "output_type": "execute_result",
          "data": {
            "text/plain": [
              "array([ 0.04534898,  0.0056615 ,  0.01618227, -0.00435412], dtype=float32)"
            ]
          },
          "metadata": {},
          "execution_count": 26
        }
      ]
    },
    {
      "cell_type": "code",
      "source": [],
      "metadata": {
        "id": "OkjRY-S6_M24"
      },
      "execution_count": null,
      "outputs": []
    },
    {
      "cell_type": "code",
      "source": [
        "class PreprocessEnv(gym.Wrapper):\n",
        "\n",
        "    def __init__(self, env):\n",
        "        gym.Wrapper.__init__(self, env)\n",
        "\n",
        "    # Wrapping env.reset()\n",
        "    def reset(self):\n",
        "        obs = self.env.reset()\n",
        "        # [[0, 1]]\n",
        "        return torch.from_numpy(obs).unsqueeze(dim=0).float()\n",
        "\n",
        "    # Wrapping env.step()\n",
        "    def step(self, action):\n",
        "        action = action.item()\n",
        "        next_state, reward, done, info = self.env.step(action)\n",
        "        next_state = torch.from_numpy(next_state).unsqueeze(dim=0).float()\n",
        "        # [[15]]\n",
        "        reward = torch.tensor(reward).view(1, -1).float()\n",
        "        done = torch.tensor(done).view(1, -1)\n",
        "\n",
        "        return next_state, reward, done, info"
      ],
      "metadata": {
        "id": "R5g9x3H6_M08"
      },
      "execution_count": 27,
      "outputs": []
    },
    {
      "cell_type": "code",
      "source": [
        "env = PreprocessEnv(env)"
      ],
      "metadata": {
        "id": "kAuKjen2Bif4"
      },
      "execution_count": 28,
      "outputs": []
    },
    {
      "cell_type": "code",
      "source": [
        "state = env.reset()\n",
        "action = torch.tensor(0)\n",
        "next_state, reward, done, _ = env.step(action)"
      ],
      "metadata": {
        "id": "y_6xvqMqBsTO"
      },
      "execution_count": 29,
      "outputs": []
    },
    {
      "cell_type": "code",
      "source": [
        "print(f\"State: {state}\")\n",
        "print(f\"next_state: {next_state}, reward: {reward}, done: {done}\")"
      ],
      "metadata": {
        "colab": {
          "base_uri": "https://localhost:8080/"
        },
        "id": "-WdtOntzB5Nh",
        "outputId": "5dc67b60-463d-47bb-f6b7-00a3916b77de"
      },
      "execution_count": 30,
      "outputs": [
        {
          "output_type": "stream",
          "name": "stdout",
          "text": [
            "State: tensor([[-0.0100,  0.0246,  0.0285,  0.0216]])\n",
            "next_state: tensor([[-0.0095, -0.1709,  0.0290,  0.3231]]), reward: tensor([[1.]]), done: tensor([[False]])\n"
          ]
        }
      ]
    },
    {
      "cell_type": "markdown",
      "source": [
        "# **Create the Q-Network**"
      ],
      "metadata": {
        "id": "NCLgcPUUHdUF"
      }
    },
    {
      "cell_type": "code",
      "source": [
        "q_network = nn.Sequential(\n",
        "    nn.Linear(state_dims, 128),\n",
        "    nn.ReLU(),\n",
        "    nn.Linear(128, 64),\n",
        "    nn.ReLU(),\n",
        "    nn.Linear(64, num_actions)\n",
        ")"
      ],
      "metadata": {
        "id": "N4kUB-M0GSEz"
      },
      "execution_count": 49,
      "outputs": []
    },
    {
      "cell_type": "markdown",
      "source": [
        "# **Create the target Q-Network**"
      ],
      "metadata": {
        "id": "Z_PK2w_ZH6bV"
      }
    },
    {
      "cell_type": "code",
      "source": [
        "target_q_network = copy.deepcopy(q_network).eval()"
      ],
      "metadata": {
        "id": "m1_9LUqLHfsO"
      },
      "execution_count": 50,
      "outputs": []
    },
    {
      "cell_type": "code",
      "source": [
        "target_q_network"
      ],
      "metadata": {
        "colab": {
          "base_uri": "https://localhost:8080/"
        },
        "id": "cJR3WYa5DcvH",
        "outputId": "fc8d15d1-d148-4231-eee0-9225eb9ca5a9"
      },
      "execution_count": 34,
      "outputs": [
        {
          "output_type": "execute_result",
          "data": {
            "text/plain": [
              "Sequential(\n",
              "  (0): Linear(in_features=4, out_features=128, bias=True)\n",
              "  (1): ReLU()\n",
              "  (2): Linear(in_features=128, out_features=64, bias=True)\n",
              "  (3): ReLU()\n",
              "  (4): Linear(in_features=64, out_features=2, bias=True)\n",
              ")"
            ]
          },
          "metadata": {},
          "execution_count": 34
        }
      ]
    },
    {
      "cell_type": "markdown",
      "source": [
        "# **Create the $\\epsilon$-greedy policy**"
      ],
      "metadata": {
        "id": "o6ckKH1BJx7E"
      }
    },
    {
      "cell_type": "code",
      "source": [
        "def policy(state, epsilon=0.):\n",
        "    if torch.rand(1) < epsilon:\n",
        "        return torch.randint(num_actions, (1, 1))\n",
        "    else:\n",
        "        av = q_network(state).detach()\n",
        "        return torch.argmax(av, dim=-1, keepdim=True)"
      ],
      "metadata": {
        "id": "wa1c_NLrIGd9"
      },
      "execution_count": 35,
      "outputs": []
    },
    {
      "cell_type": "markdown",
      "source": [
        "# **Create the experiance replay buffer**"
      ],
      "metadata": {
        "id": "Hfwzx78jMQ7c"
      }
    },
    {
      "cell_type": "code",
      "source": [
        "my_a = torch.tensor([1, 2, 3, 4])\n",
        "my_b = torch.tensor([1, 2, 3, 4])\n",
        "my_c = torch.tensor([1, 2, 3, 4])\n",
        "my_d = torch.tensor([1, 2, 3, 4])\n",
        "my_abcd = torch.stack([my_a, my_b, my_c, my_d]).t()"
      ],
      "metadata": {
        "id": "AqAhu-llGOZD"
      },
      "execution_count": 38,
      "outputs": []
    },
    {
      "cell_type": "code",
      "source": [
        "my_abcd"
      ],
      "metadata": {
        "colab": {
          "base_uri": "https://localhost:8080/"
        },
        "id": "qtuUThOfGenm",
        "outputId": "7551ce73-da0d-40b7-b5da-2c54e9dfc42c"
      },
      "execution_count": 39,
      "outputs": [
        {
          "output_type": "execute_result",
          "data": {
            "text/plain": [
              "tensor([[1, 1, 1, 1],\n",
              "        [2, 2, 2, 2],\n",
              "        [3, 3, 3, 3],\n",
              "        [4, 4, 4, 4]])"
            ]
          },
          "metadata": {},
          "execution_count": 39
        }
      ]
    },
    {
      "cell_type": "code",
      "source": [
        "[list(items) for items in my_abcd]"
      ],
      "metadata": {
        "colab": {
          "base_uri": "https://localhost:8080/"
        },
        "id": "vUbHzxLPGoYY",
        "outputId": "1735009e-237a-42f7-df3c-501b4e430eb1"
      },
      "execution_count": 41,
      "outputs": [
        {
          "output_type": "execute_result",
          "data": {
            "text/plain": [
              "[[tensor(1), tensor(1), tensor(1), tensor(1)],\n",
              " [tensor(2), tensor(2), tensor(2), tensor(2)],\n",
              " [tensor(3), tensor(3), tensor(3), tensor(3)],\n",
              " [tensor(4), tensor(4), tensor(4), tensor(4)]]"
            ]
          },
          "metadata": {},
          "execution_count": 41
        }
      ]
    },
    {
      "cell_type": "code",
      "source": [
        "class ReplayMemory:\n",
        "    def __init__(self, capacity=1000000):\n",
        "        self.capacity = capacity\n",
        "        self.memory = []\n",
        "        self.position = 0\n",
        "\n",
        "    # insert [s, a, r, s']\n",
        "    def insert(self, transition):\n",
        "        if len(self.memory) < self.capacity:\n",
        "            self.memory.append(None)\n",
        "        self.memory[self.position] = transition\n",
        "        self.position = (self.position + 1) % self.capacity\n",
        "\n",
        "    # sample [[s, a, r, s'], [s, a, r, s'], ...]\n",
        "    def sample(self, batch_size):\n",
        "        assert self.can_sample(batch_size)\n",
        "        batch = random.sample(self.memory, batch_size)\n",
        "        # [[s, s, s], [a, a, a], ...]\n",
        "        batch = zip(*batch)\n",
        "        return [torch.cat(items) for items in batch]\n",
        "\n",
        "    def can_sample(self, batch_size):\n",
        "        return len(self.memory) >= batch_size * 10\n",
        "\n",
        "    def __len__(self):\n",
        "        return len(self.memory)"
      ],
      "metadata": {
        "id": "z5cx-wdzOAaa"
      },
      "execution_count": 42,
      "outputs": []
    },
    {
      "cell_type": "markdown",
      "source": [
        "# **Implement the algorithm**"
      ],
      "metadata": {
        "id": "2TF7_BYjPJ3y"
      }
    },
    {
      "cell_type": "code",
      "source": [
        "def deep_q_learning(q_network, policy, episodes, alpha=0.0001, batch_size=32, gamma=0.99, epsilon=0.2):\n",
        "    optim = AdamW(q_network.parameters(), lr=alpha)\n",
        "    memory = ReplayMemory()\n",
        "    total_rewards = []\n",
        "\n",
        "    for episode in tqdm(range(1, episodes + 1)):\n",
        "        state = env.reset()\n",
        "        done = False\n",
        "        ep_return = 0\n",
        "        while not done:\n",
        "            action = policy(state, epsilon)\n",
        "            next_state, reward, done, _ = env.step(action)\n",
        "\n",
        "            memory.insert([state, action, reward, done, next_state])\n",
        "\n",
        "            if memory.can_sample(batch_size):\n",
        "                state_b, action_b, reward_b, done_b, next_state_b = memory.sample(batch_size)\n",
        "                qsa_b = q_network(state_b).gather(1, action_b)\n",
        "\n",
        "                next_qsa_b = target_q_network(next_state_b)\n",
        "                next_qsa_b = torch.max(next_qsa_b, dim=-1, keepdim=True)[0]\n",
        "\n",
        "                target_b = reward_b + ~done_b * gamma * next_qsa_b\n",
        "                loss = F.mse_loss(qsa_b, target_b)\n",
        "                q_network.zero_grad()\n",
        "                loss.backward()\n",
        "                optim.step()\n",
        "\n",
        "            state = next_state\n",
        "            ep_return += reward.item()\n",
        "\n",
        "        total_rewards.append(ep_return)\n",
        "        if episode & 10 == 0:\n",
        "            target_q_network.load_state_dict(q_network.state_dict())\n",
        "\n",
        "    return total_rewards"
      ],
      "metadata": {
        "id": "cYmDdzP0H_IH"
      },
      "execution_count": 48,
      "outputs": []
    },
    {
      "cell_type": "code",
      "source": [
        "total_rewards = deep_q_learning(q_network, policy, 550)"
      ],
      "metadata": {
        "colab": {
          "base_uri": "https://localhost:8080/"
        },
        "id": "dPJ-4H04KSp5",
        "outputId": "60689494-82ab-4b35-c187-c2e1941363eb"
      },
      "execution_count": 51,
      "outputs": [
        {
          "output_type": "stream",
          "name": "stderr",
          "text": [
            "100%|██████████| 550/550 [02:13<00:00,  4.13it/s]\n"
          ]
        }
      ]
    },
    {
      "cell_type": "code",
      "source": [],
      "metadata": {
        "id": "Grfx840KKbRo"
      },
      "execution_count": null,
      "outputs": []
    },
    {
      "cell_type": "markdown",
      "source": [
        "# **Test Agent**"
      ],
      "metadata": {
        "id": "uQGL-dbXoV_w"
      }
    },
    {
      "cell_type": "code",
      "source": [
        "env_test = wrap_env(PreprocessEnv(gym.make(\"CartPole-v0\")))\n",
        "observation = env_test.reset()\n",
        "done = False\n",
        "while not done:\n",
        "\n",
        "    env_test.render()\n",
        "    action = policy(observation)\n",
        "    observation, reward, done, info = env_test.step(action)\n",
        "\n",
        "env_test.close()\n",
        "show_video()"
      ],
      "metadata": {
        "id": "qtu2cfvJT8Rl",
        "colab": {
          "base_uri": "https://localhost:8080/",
          "height": 422
        },
        "outputId": "5141e5d7-4b7d-40f4-95e0-1f4f3da9bf6a"
      },
      "execution_count": 54,
      "outputs": [
        {
          "output_type": "display_data",
          "data": {
            "text/plain": [
              "<IPython.core.display.HTML object>"
            ],
            "text/html": [
              "<video alt=\"test\" autoplay\n",
              "                loop controls style=\"height: 400px;\">\n",
              "                <source src=\"data:video/mp4;base64,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\" type=\"video/mp4\" />\n",
              "             </video>"
            ]
          },
          "metadata": {}
        }
      ]
    }
  ]
}